{
 "cells": [
  {
   "cell_type": "code",
   "execution_count": 1,
   "metadata": {},
   "outputs": [],
   "source": [
    "from Wavefronts import *\n",
    "from Storage import *\n",
    "\n",
    "import numpy as np\n",
    "import matplotlib.pyplot as plt\n",
    "import pandas as pd"
   ]
  },
  {
   "cell_type": "markdown",
   "metadata": {},
   "source": [
    "# More Efficient Algorithm"
   ]
  },
  {
   "cell_type": "markdown",
   "metadata": {},
   "source": [
    "Intiate Algorithm "
   ]
  },
  {
   "cell_type": "code",
   "execution_count": 2,
   "metadata": {},
   "outputs": [
    {
     "name": "stdout",
     "output_type": "stream",
     "text": [
      "\n",
      "Some Information about a wavefront\n",
      "Type :                             <class 'Wavefronts.Wavefront_Source'>\n",
      "Poisiton Start :                   0\n",
      "Poisiton End :                     0\n",
      "Time Start :                       0\n",
      "Time End :                         0.000012\n",
      "Voltage Magnitude :                63\n",
      "Current Magnitude :                0\n",
      "Excitation Type :                  HIGH\n",
      "Excitation Number :                0\n",
      "Order :                            0\n",
      "Inductive Reflections :            0\n",
      "Capacitive Reflections :           0\n",
      "Current Chain Reflections :        0\n",
      "Transmission Ind -> Cap :          0\n",
      "Transmission Cap -> Ind :          0\n"
     ]
    }
   ],
   "source": [
    "Storage_Voltage_Active.append(Wavefront_Source(Voltage_Souce_Magnitude,0,Voltage_Source_Period_On,0))\n",
    "Storage_Voltage_Active[0].about()"
   ]
  },
  {
   "cell_type": "code",
   "execution_count": 3,
   "metadata": {},
   "outputs": [],
   "source": [
    "Storage_Away : Wavefront = deque()\n",
    "Storage_Return : Wavefront = deque()\n",
    "\n",
    "is_Simulation_Completed = False"
   ]
  },
  {
   "cell_type": "markdown",
   "metadata": {},
   "source": [
    "Store outgoing waves in AWAY"
   ]
  },
  {
   "cell_type": "code",
   "execution_count": 4,
   "metadata": {},
   "outputs": [],
   "source": [
    "temp_wavefront = Storage_Voltage_Active.popleft()\n",
    "temp_wavefront.Generate(Storage_Away,Storage_Away)\n",
    "Storage_Voltage_Completed.append(temp_wavefront)"
   ]
  },
  {
   "cell_type": "markdown",
   "metadata": {},
   "source": [
    "Intiate main algorithm"
   ]
  },
  {
   "cell_type": "code",
   "execution_count": 5,
   "metadata": {},
   "outputs": [],
   "source": [
    "is_Inductive = True\n",
    "\n",
    "while len(Storage_Away)> 0:\n",
    "    temp_wavefront = Storage_Away.popleft()\n",
    "    temp_wavefront.Generate(Storage_Return,Storage_Return)\n",
    "\n",
    "    if(is_Inductive):\n",
    "        Storage_Inductor_Completed.append(temp_wavefront)\n",
    "    else:\n",
    "        Storage_Capacitor_Completed.append(temp_wavefront)\n",
    "\n",
    "    is_Inductive = not is_Inductive\n"
   ]
  },
  {
   "cell_type": "markdown",
   "metadata": {},
   "source": [
    "Generate FIRST return wavefront response. Will always be inductive "
   ]
  },
  {
   "cell_type": "code",
   "execution_count": 6,
   "metadata": {},
   "outputs": [],
   "source": [
    "temp_wavefront = Storage_Return.popleft()\n",
    "\n",
    "if Inductor_Time <= Capacitor_Time:\n",
    "    if temp_wavefront.time_start >= Simulation_Stop_Time:\n",
    "        is_Simulation_Completed = True\n",
    "\n",
    "temp_wavefront.Generate(Storage_Away,Storage_Away)\n",
    "\n",
    "Storage_Inductor_Completed.append(temp_wavefront)"
   ]
  },
  {
   "cell_type": "code",
   "execution_count": 7,
   "metadata": {},
   "outputs": [],
   "source": [
    "while len(Storage_Return) > 0:\n",
    "\n",
    "    temp_wavefront = Storage_Return.popleft()\n",
    "\n",
    "    if len(Storage_Return) == 0 : #It is the last wave\n",
    "        if(Capacitor_Time <= Inductor_Time and temp_wavefront.time_start >= Simulation_Stop_Time):\n",
    "            is_Simulation_Completed = True\n",
    "\n",
    "        temp_wavefront.Generate(Storage_Away,Storage_Away)\n",
    "        Storage_Capacitor_Completed.append(temp_wavefront)\n",
    "    else:\n",
    "        temp_next_wavefront = Storage_Return.popleft()\n",
    "\n",
    "        temp_wavefront_inductive, temp_wavefront_capacitve = temp_wavefront.Generate_Return()\n",
    "        temp_next_wavefront_inductive, temp_next_wavefront_capacitve = temp_next_wavefront.Generate_Return()\n",
    "\n",
    "        temp_wavefront_inductive.Merge(temp_next_wavefront_inductive)\n",
    "        temp_wavefront_capacitve.Merge(temp_next_wavefront_capacitve)\n",
    "\n",
    "        Storage_Away.append(temp_wavefront_inductive)\n",
    "        Storage_Away.append(temp_wavefront_capacitve)\n",
    "\n",
    "        Storage_Capacitor_Completed.append(temp_wavefront)\n",
    "        Storage_Inductor_Completed.append(temp_next_wavefront)\n"
   ]
  },
  {
   "cell_type": "code",
   "execution_count": 12,
   "metadata": {},
   "outputs": [
    {
     "name": "stdout",
     "output_type": "stream",
     "text": [
      "\n",
      "Some Information about a wavefront\n",
      "Type :                             <class 'Wavefronts.Wavefront_Inductive'>\n",
      "Poisiton Start :                   1\n",
      "Poisiton End :                     0\n",
      "Time Start :                       0.5999999999999999999999999999\n",
      "Time End :                         1.200000000000000000000000000\n",
      "Voltage Magnitude :                -60.00000000000000000000000000\n",
      "Current Magnitude :                0.9999999999999999999999999998\n",
      "Excitation Type :                  HIGH\n",
      "Excitation Number :                0\n",
      "Order :                            0\n",
      "Inductive Reflections :            1\n",
      "Capacitive Reflections :           0\n",
      "Current Chain Reflections :        1\n",
      "Transmission Ind -> Cap :          0\n",
      "Transmission Cap -> Ind :          0\n"
     ]
    }
   ],
   "source": [
    "Storage_Inductor_Completed[1].about()"
   ]
  }
 ],
 "metadata": {
  "interpreter": {
   "hash": "63fd5069d213b44bf678585dea6b12cceca9941eaf7f819626cde1f2670de90d"
  },
  "kernelspec": {
   "display_name": "Python 3.9.0 64-bit",
   "language": "python",
   "name": "python3"
  },
  "language_info": {
   "codemirror_mode": {
    "name": "ipython",
    "version": 3
   },
   "file_extension": ".py",
   "mimetype": "text/x-python",
   "name": "python",
   "nbconvert_exporter": "python",
   "pygments_lexer": "ipython3",
   "version": "3.9.0"
  },
  "orig_nbformat": 4
 },
 "nbformat": 4,
 "nbformat_minor": 2
}
