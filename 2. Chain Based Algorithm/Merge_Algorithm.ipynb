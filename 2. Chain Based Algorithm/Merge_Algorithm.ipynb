{
 "cells": [
  {
   "cell_type": "code",
   "execution_count": 1,
   "metadata": {},
   "outputs": [],
   "source": [
    "from Wavefronts import *\n",
    "from Storage import *\n",
    "\n",
    "import numpy as np\n",
    "import matplotlib.pyplot as plt\n",
    "import pandas as pd"
   ]
  },
  {
   "cell_type": "markdown",
   "metadata": {},
   "source": [
    "# More Efficient Algorithm"
   ]
  },
  {
   "cell_type": "markdown",
   "metadata": {},
   "source": [
    "Intiate Algorithm "
   ]
  },
  {
   "cell_type": "code",
   "execution_count": 2,
   "metadata": {},
   "outputs": [
    {
     "name": "stdout",
     "output_type": "stream",
     "text": [
      "\n",
      "Some Information about a wavefront\n",
      "Type :                             <class 'Wavefronts.Wavefront_Source'>\n",
      "Poisiton Start :                   0\n",
      "Poisiton End :                     0\n",
      "Time Start :                       0\n",
      "Time End :                         0.000012\n",
      "Voltage Magnitude :                63\n",
      "Current Magnitude :                0\n",
      "Excitation Type :                  HIGH\n",
      "Excitation Number :                0\n",
      "Order :                            0\n",
      "Inductive Reflections :            0\n",
      "Capacitive Reflections :           0\n",
      "Current Chain Reflections :        0\n",
      "Transmission Ind -> Cap :          0\n",
      "Transmission Cap -> Ind :          0\n"
     ]
    }
   ],
   "source": [
    "Storage_Voltage_Active.append(Wavefront_Source(Voltage_Souce_Magnitude,0,Voltage_Source_Period_On,0))\n",
    "Storage_Voltage_Active[0].about()"
   ]
  },
  {
   "cell_type": "code",
   "execution_count": 3,
   "metadata": {},
   "outputs": [],
   "source": [
    "Storage_Merged : Wavefront = deque()\n",
    "Storage_New : Wavefront = deque()\n",
    "Storage_Temp_Away : Wavefront = deque()"
   ]
  },
  {
   "cell_type": "code",
   "execution_count": 4,
   "metadata": {},
   "outputs": [],
   "source": [
    "temp_wavefront = Storage_Voltage_Active.popleft()\n",
    "temp_wavefront.Generate(Storage_Temp_Away,Storage_Temp_Away)\n",
    "Storage_Voltage_Completed.append(temp_wavefront)"
   ]
  },
  {
   "cell_type": "code",
   "execution_count": 5,
   "metadata": {},
   "outputs": [],
   "source": [
    "is_Inductive = True\n",
    "\n",
    "while len(Storage_Temp_Away) > 0:\n",
    "    temp_wavefront = Storage_Temp_Away.popleft()\n",
    "    temp_wavefront.Generate(Storage_Merged,Storage_Merged)\n",
    "\n",
    "    if(is_Inductive):\n",
    "        Storage_Inductor_Completed.append(temp_wavefront)\n",
    "    else:\n",
    "        Storage_Capacitor_Completed.append(temp_wavefront)\n",
    "\n",
    "    is_Inductive = not is_Inductive"
   ]
  },
  {
   "cell_type": "markdown",
   "metadata": {},
   "source": [
    "## Start of Main Algorithm"
   ]
  },
  {
   "cell_type": "markdown",
   "metadata": {},
   "source": [
    "Populate NEW storage and store MERGED in COMPLETED"
   ]
  },
  {
   "cell_type": "code",
   "execution_count": 6,
   "metadata": {},
   "outputs": [],
   "source": [
    "is_Inductive = True\n",
    "\n",
    "while len(Storage_Merged) > 0:\n",
    "\n",
    "    temp_wavefront = Storage_Merged.popleft()\n",
    "\n",
    "    # Store wave from MERGED\n",
    "    if(is_Inductive):\n",
    "        Storage_Inductor_Completed.append(temp_wavefront)\n",
    "    else:\n",
    "        Storage_Capacitor_Completed.append(temp_wavefront)\n",
    "\n",
    "    is_Inductive = not is_Inductive\n",
    "\n",
    "    # Generate and Store Away Waves\n",
    "    temp_wavefront.Generate(Storage_Temp_Away,Storage_Temp_Away)\n",
    "\n",
    "    temp_inductive_wavefront = Storage_Temp_Away.popleft()\n",
    "    temp_inductive_wavefront.Generate(Storage_New,Storage_New)\n",
    "    Storage_Inductor_Completed.append(temp_inductive_wavefront)\n",
    "\n",
    "    temp_capacitve_wavefront = Storage_Temp_Away.popleft()\n",
    "    temp_capacitve_wavefront.Generate(Storage_New,Storage_New)\n",
    "    Storage_Capacitor_Completed.append(temp_capacitve_wavefront)\n",
    "\n"
   ]
  },
  {
   "cell_type": "code",
   "execution_count": 7,
   "metadata": {},
   "outputs": [],
   "source": [
    "is_Simulation_Completed = False\n",
    "temp_first_wavefront = Storage_New.popleft()\n",
    "\n",
    "if(Inductor_Time <= Capacitor_Time):\n",
    "    if(temp_first_wavefront.time_start >= Simulation_Stop_Time):\n",
    "        is_Simulation_Completed = True\n",
    "\n",
    "Storage_Merged.append(temp_first_wavefront)\n",
    "\n",
    "while len(Storage_New) > 0 :\n",
    "    \n",
    "    temp_wavefront = Storage_New.popleft()\n",
    "\n",
    "    if len(Storage_New) == 0:\n",
    "        if(Capacitor_Time <= Inductor_Time):\n",
    "            is_Simulation_Completed = True\n",
    "    else:\n",
    "        temp_next_wavefront = Storage_New.popleft()\n",
    "\n",
    "        temp_wavefront_inductive,temp_wavefront_capacitve = temp_wavefront.Generate_Return()\n",
    "        temp_next_wavefront_inductive,temp_next_wavefront_capacitve = temp_next_wavefront.Generate_Return()\n",
    "\n",
    "        temp_wavefront_inductive.Merge(temp_next_wavefront_inductive)\n",
    "        temp_wavefront_capacitve.Merge(temp_next_wavefront_capacitve)\n",
    "\n",
    "        \n",
    "\n"
   ]
  },
  {
   "cell_type": "markdown",
   "metadata": {},
   "source": []
  }
 ],
 "metadata": {
  "interpreter": {
   "hash": "63fd5069d213b44bf678585dea6b12cceca9941eaf7f819626cde1f2670de90d"
  },
  "kernelspec": {
   "display_name": "Python 3.9.0 64-bit",
   "language": "python",
   "name": "python3"
  },
  "language_info": {
   "codemirror_mode": {
    "name": "ipython",
    "version": 3
   },
   "file_extension": ".py",
   "mimetype": "text/x-python",
   "name": "python",
   "nbconvert_exporter": "python",
   "pygments_lexer": "ipython3",
   "version": "3.9.0"
  },
  "orig_nbformat": 4
 },
 "nbformat": 4,
 "nbformat_minor": 2
}
