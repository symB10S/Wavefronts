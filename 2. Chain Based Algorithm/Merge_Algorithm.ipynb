{
 "cells": [
  {
   "cell_type": "code",
   "execution_count": 1,
   "metadata": {},
   "outputs": [],
   "source": [
    "from Wavefronts import *\n",
    "from Storage import *\n",
    "\n",
    "import numpy as np\n",
    "import matplotlib.pyplot as plt\n",
    "import pandas as pd"
   ]
  },
  {
   "cell_type": "markdown",
   "metadata": {},
   "source": [
    "# More Efficient Algorithm"
   ]
  },
  {
   "cell_type": "markdown",
   "metadata": {},
   "source": [
    "Intiate Algorithm "
   ]
  },
  {
   "cell_type": "code",
   "execution_count": 2,
   "metadata": {},
   "outputs": [
    {
     "name": "stdout",
     "output_type": "stream",
     "text": [
      "\n",
      "Some Information about a wavefront\n",
      "Type :                             <class 'Wavefronts.Wavefront_Source'>\n",
      "Poisiton Start :                   0\n",
      "Poisiton End :                     0\n",
      "Time Start :                       0\n",
      "Time End :                         0.000012\n",
      "Voltage Magnitude :                63\n",
      "Current Magnitude :                0\n",
      "Excitation Type :                  HIGH\n",
      "Excitation Number :                0\n",
      "Order :                            0\n",
      "Inductive Reflections :            0\n",
      "Capacitive Reflections :           0\n",
      "Current Chain Reflections :        0\n",
      "Transmission Ind -> Cap :          0\n",
      "Transmission Cap -> Ind :          0\n"
     ]
    }
   ],
   "source": [
    "Storage_Voltage_Active.append(Wavefront_Source(Voltage_Souce_Magnitude,0,Voltage_Source_Period_On,0))\n",
    "Storage_Voltage_Active[0].about()"
   ]
  },
  {
   "cell_type": "code",
   "execution_count": 3,
   "metadata": {},
   "outputs": [],
   "source": [
    "Storage_Away : Wavefront = deque()\n",
    "Storage_Return : Wavefront = deque()\n",
    "\n",
    "is_Simulation_Completed = False"
   ]
  },
  {
   "cell_type": "markdown",
   "metadata": {},
   "source": [
    "Store outgoing waves in AWAY"
   ]
  },
  {
   "cell_type": "code",
   "execution_count": 4,
   "metadata": {},
   "outputs": [],
   "source": [
    "temp_wavefront = Storage_Voltage_Active.popleft()\n",
    "temp_wavefront.Generate(Storage_Away,Storage_Away)\n",
    "Storage_Voltage_Completed.append(temp_wavefront)"
   ]
  },
  {
   "cell_type": "code",
   "execution_count": 5,
   "metadata": {},
   "outputs": [],
   "source": [
    "while not is_Simulation_Completed:\n",
    "\n",
    "    # Manage away waves, generate return waves\n",
    "\n",
    "    is_Inductive = True\n",
    "\n",
    "    while len(Storage_Away)> 0:\n",
    "        temp_wavefront = Storage_Away.popleft()\n",
    "        temp_wavefront.Generate(Storage_Return,Storage_Return)\n",
    "\n",
    "        if(is_Inductive):\n",
    "            Storage_Inductor_Completed.append(temp_wavefront)\n",
    "        else:\n",
    "            Storage_Capacitor_Completed.append(temp_wavefront)\n",
    "\n",
    "        is_Inductive = not is_Inductive\n",
    "\n",
    "    # Manage return waves, check simulation end criteria, generate and merge away waves\n",
    "\n",
    "    ## Do this always for the first wave. It can *never merge.\n",
    "    temp_wavefront = Storage_Return.popleft()\n",
    "\n",
    "    if Inductor_Time <= Capacitor_Time:\n",
    "        if temp_wavefront.time_start >= Simulation_Stop_Time:\n",
    "            is_Simulation_Completed = True\n",
    "\n",
    "    temp_wavefront.Generate(Storage_Away,Storage_Away)\n",
    "\n",
    "    Storage_Inductor_Completed.append(temp_wavefront)\n",
    "\n",
    "    while len(Storage_Return) > 0:\n",
    "\n",
    "        temp_wavefront = Storage_Return.popleft()\n",
    "\n",
    "        if len(Storage_Return) == 0 : # It is the last wave\n",
    "            if(Capacitor_Time <= Inductor_Time and temp_wavefront.time_start >= Simulation_Stop_Time):\n",
    "                is_Simulation_Completed = True\n",
    "\n",
    "            temp_wavefront.Generate(Storage_Away,Storage_Away)\n",
    "            Storage_Capacitor_Completed.append(temp_wavefront)\n",
    "\n",
    "        else: # It is not the last wave\n",
    "            temp_next_wavefront = Storage_Return.popleft()\n",
    "\n",
    "            temp_wavefront_inductive, temp_wavefront_capacitve = temp_wavefront.Generate_Return()\n",
    "            temp_next_wavefront_inductive, temp_next_wavefront_capacitve = temp_next_wavefront.Generate_Return()\n",
    "\n",
    "            temp_wavefront_inductive.Merge(temp_next_wavefront_inductive)\n",
    "            temp_wavefront_capacitve.Merge(temp_next_wavefront_capacitve)\n",
    "\n",
    "            Storage_Away.append(temp_wavefront_inductive)\n",
    "            Storage_Away.append(temp_wavefront_capacitve)\n",
    "\n",
    "            Storage_Capacitor_Completed.append(temp_wavefront)\n",
    "            Storage_Inductor_Completed.append(temp_next_wavefront)\n"
   ]
  },
  {
   "cell_type": "markdown",
   "metadata": {},
   "source": [
    "for wave in Storage_Capacitor_Completed:\n",
    "    \n",
    "    x1 = -wave.position_start\n",
    "    x2 = -wave.position_end\n",
    "\n",
    "    y1 = wave.time_start\n",
    "    y2 = wave.time_end\n",
    "\n",
    "    if(wave.order <=3):\n",
    "        plt.plot([x1,x2],[y1,y2],'k-')\n",
    "\n",
    "\n",
    "for wave in Storage_Inductor_Completed:\n",
    "    \n",
    "    x1 = wave.position_start\n",
    "    x2 = wave.position_end\n",
    "\n",
    "    y1 = wave.time_start\n",
    "    y2 = wave.time_end\n",
    "\n",
    "    if(wave.order == 0):\n",
    "            plt.plot([x1,x2],[y1,y2],'k-',label = str(wave.magnitude_voltage))\n",
    "    elif(wave.transmisions_capacitor_to_inductor > wave.transmisions_inductor_to_capacitor):\n",
    "        if(wave.order == 1):\n",
    "            plt.plot([x1,x2],[y1,y2],'g-',label = str(wave.magnitude_voltage),linewidth = 3)\n",
    "        elif(wave.order == 2):\n",
    "            plt.plot([x1,x2],[y1,y2],'b-',label = str(wave.magnitude_voltage),linewidth = 4)\n",
    "    else:\n",
    "        if(wave.order == 0):\n",
    "            plt.plot([x1,x2],[y1,y2],'m-',label = str(wave.magnitude_voltage))\n",
    "        elif(wave.order == 1):\n",
    "            plt.plot([x1,x2],[y1,y2],'y-',label = str(wave.magnitude_voltage),linewidth = 3)\n",
    "        elif(wave.order == 2):\n",
    "            plt.plot([x1,x2],[y1,y2],'c-',label = str(wave.magnitude_voltage),linewidth = 4)\n",
    "\n",
    "\n",
    "plt.show()"
   ]
  },
  {
   "cell_type": "code",
   "execution_count": 6,
   "metadata": {},
   "outputs": [],
   "source": [
    "Voltage_Array_Capacitor = []\n",
    "Current_Array_Capacitor = []\n",
    "Time_Array_Capacitor = []\n",
    "combination_count = 0\n",
    "\n",
    "for wave in Storage_Capacitor_Completed:\n",
    "    \n",
    "    time = 0\n",
    "\n",
    "    if wave.position_start == 0:\n",
    "        time = wave.time_start\n",
    "    else:\n",
    "        time = wave.time_end\n",
    "\n",
    "    try:\n",
    "        index = Time_Array_Capacitor.index(time)\n",
    "        combination_count = combination_count  + 1\n",
    "    except:\n",
    "        index = False\n",
    "\n",
    "    if(index == False):\n",
    "        Time_Array_Capacitor.append(time)\n",
    "        Voltage_Array_Capacitor.append(wave.magnitude_voltage)\n",
    "        Current_Array_Capacitor.append(wave.magnitude_current)\n",
    "    else:\n",
    "        Voltage_Array_Capacitor[index] = Voltage_Array_Capacitor[index] + wave.magnitude_voltage\n",
    "        Current_Array_Capacitor[index] = Current_Array_Capacitor[index] + wave.magnitude_current\n",
    "\n",
    "Voltage_Array_Inductor = []\n",
    "Current_Array_Inductor = []\n",
    "Time_Array_Inductor = []\n",
    "\n",
    "for wave in Storage_Inductor_Completed:\n",
    "    \n",
    "    time = 0\n",
    "\n",
    "    if wave.position_start == 0:\n",
    "        time = wave.time_start\n",
    "    else:\n",
    "        time = wave.time_end\n",
    "\n",
    "    try:\n",
    "        index = Time_Array_Inductor.index(time)\n",
    "    except:\n",
    "        index = False\n",
    "\n",
    "    if(index == False):\n",
    "        Time_Array_Inductor.append(time)\n",
    "        Voltage_Array_Inductor.append(wave.magnitude_voltage)\n",
    "        Current_Array_Inductor.append(wave.magnitude_current)\n",
    "    else:\n",
    "        Voltage_Array_Inductor[index] = Voltage_Array_Inductor[index] + wave.magnitude_voltage\n",
    "        Current_Array_Inductor[index] = Current_Array_Inductor[index] + wave.magnitude_current"
   ]
  },
  {
   "cell_type": "code",
   "execution_count": 7,
   "metadata": {},
   "outputs": [
    {
     "name": "stdout",
     "output_type": "stream",
     "text": [
      "63252\n",
      "62500\n"
     ]
    }
   ],
   "source": [
    "print(len(Storage_Capacitor_Completed))\n",
    "print(combination_count)"
   ]
  },
  {
   "cell_type": "code",
   "execution_count": 8,
   "metadata": {},
   "outputs": [],
   "source": [
    "Time_Voltage_Array_Capacitor = sorted(zip(Time_Array_Capacitor,Voltage_Array_Capacitor))\n",
    "Time_Voltage_Array_Inductor = sorted(zip(Time_Array_Inductor,Voltage_Array_Inductor))"
   ]
  },
  {
   "cell_type": "code",
   "execution_count": 13,
   "metadata": {},
   "outputs": [
    {
     "data": {
      "text/plain": [
       "[<matplotlib.lines.Line2D at 0x1ed2392caf0>]"
      ]
     },
     "execution_count": 13,
     "metadata": {},
     "output_type": "execute_result"
    },
    {
     "data": {
      "image/png": "[encoded data removed]",
      "text/plain": [
       "<Figure size 432x288 with 1 Axes>"
      ]
     },
     "metadata": {
      "needs_background": "light"
     },
     "output_type": "display_data"
    }
   ],
   "source": [
    "x,y = zip(*Time_Voltage_Array_Capacitor)\n",
    "\n",
    "x= list(x)\n",
    "y= list(y)\n",
    "\n",
    "for i in range(1,len(y)-1):\n",
    "    y[i] = y[i-1]+y[i] \n",
    "\n",
    "plt.xlim(0,Simulation_Stop_Time)\n",
    "plt.step(x,y,where='post')\n"
   ]
  },
  {
   "cell_type": "markdown",
   "metadata": {},
   "source": [
    "Save as CSV for anaylsis"
   ]
  },
  {
   "cell_type": "code",
   "execution_count": 10,
   "metadata": {},
   "outputs": [],
   "source": [
    "dict = {'time':x, 'Voltage Capacitor':y}\n",
    "data_frame = pd.DataFrame(dict)\n",
    "data_frame.to_csv('Capacitor_Voltage.csv',index=False)"
   ]
  },
  {
   "cell_type": "markdown",
   "metadata": {},
   "source": [
    "Plot Inductor Voltage"
   ]
  },
  {
   "cell_type": "code",
   "execution_count": 14,
   "metadata": {},
   "outputs": [
    {
     "data": {
      "text/plain": [
       "[<matplotlib.lines.Line2D at 0x1ed24909ca0>]"
      ]
     },
     "execution_count": 14,
     "metadata": {},
     "output_type": "execute_result"
    },
    {
     "data": {
      "image/png": "[encoded data removed]",
      "text/plain": [
       "<Figure size 432x288 with 1 Axes>"
      ]
     },
     "metadata": {
      "needs_background": "light"
     },
     "output_type": "display_data"
    }
   ],
   "source": [
    "x,y = zip(*Time_Voltage_Array_Inductor)\n",
    "\n",
    "x= list(x)\n",
    "y= list(y)\n",
    "\n",
    "for i in range(1,len(y)-1):\n",
    "    y[i] = y[i-1]+y[i] \n",
    "\n",
    "plt.xlim(0,Simulation_Stop_Time)\n",
    "plt.step(x,y,where='post')\n"
   ]
  },
  {
   "cell_type": "markdown",
   "metadata": {},
   "source": [
    "Save Inductor Voltage"
   ]
  },
  {
   "cell_type": "code",
   "execution_count": 12,
   "metadata": {},
   "outputs": [],
   "source": [
    "dict = {'time':x, 'Voltage Inductor':y}\n",
    "data_frame = pd.DataFrame(dict)\n",
    "data_frame.to_csv('Inductor_Voltage.csv',index=False)"
   ]
  }
 ],
 "metadata": {
  "interpreter": {
   "hash": "63fd5069d213b44bf678585dea6b12cceca9941eaf7f819626cde1f2670de90d"
  },
  "kernelspec": {
   "display_name": "Python 3.9.0 64-bit",
   "language": "python",
   "name": "python3"
  },
  "language_info": {
   "codemirror_mode": {
    "name": "ipython",
    "version": 3
   },
   "file_extension": ".py",
   "mimetype": "text/x-python",
   "name": "python",
   "nbconvert_exporter": "python",
   "pygments_lexer": "ipython3",
   "version": "3.9.0"
  },
  "orig_nbformat": 4
 },
 "nbformat": 4,
 "nbformat_minor": 2
}
