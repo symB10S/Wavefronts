{
 "cells": [
  {
   "cell_type": "code",
   "execution_count": 20,
   "metadata": {},
   "outputs": [],
   "source": [
    "from decimal import *\n",
    "import math\n",
    "import numpy as np\n",
    "import matplotlib.pyplot as plt\n",
    "\n",
    "getcontext().traps[FloatOperation] = True"
   ]
  },
  {
   "cell_type": "code",
   "execution_count": 21,
   "metadata": {},
   "outputs": [],
   "source": [
    "def lcm_gcd(x:Decimal, y:Decimal):\n",
    "\n",
    "    x_num,x_den = x.as_integer_ratio()\n",
    "    y_num,y_den = y.as_integer_ratio()\n",
    "\n",
    "    common_den = Decimal(str(x_den * y_den))\n",
    "\n",
    "    x_big = x_num * y_den   \n",
    "    y_big = y_num * x_den   \n",
    "    \n",
    "    GCD_big = Decimal(str(math.gcd(x_big,y_big)))\n",
    "\n",
    "    GCD = GCD_big/common_den\n",
    "\n",
    "    LCM = x*y/(GCD)\n",
    "    \n",
    "    return LCM, GCD"
   ]
  },
  {
   "cell_type": "code",
   "execution_count": 24,
   "metadata": {},
   "outputs": [
    {
     "data": {
      "text/plain": [
       "(Decimal('140.2'), Decimal('0.01'))"
      ]
     },
     "execution_count": 24,
     "metadata": {},
     "output_type": "execute_result"
    }
   ],
   "source": [
    "lcm_gcd(Decimal('7.01'),Decimal('0.2'))"
   ]
  },
  {
   "cell_type": "code",
   "execution_count": null,
   "metadata": {},
   "outputs": [],
   "source": []
  }
 ],
 "metadata": {
  "kernelspec": {
   "display_name": "Python 3.9.0 64-bit",
   "language": "python",
   "name": "python3"
  },
  "language_info": {
   "codemirror_mode": {
    "name": "ipython",
    "version": 3
   },
   "file_extension": ".py",
   "mimetype": "text/x-python",
   "name": "python",
   "nbconvert_exporter": "python",
   "pygments_lexer": "ipython3",
   "version": "3.9.0"
  },
  "orig_nbformat": 4,
  "vscode": {
   "interpreter": {
    "hash": "81794d4967e6c3204c66dcd87b604927b115b27c00565d3d43f05ba2f3a2cb0d"
   }
  }
 },
 "nbformat": 4,
 "nbformat_minor": 2
}
