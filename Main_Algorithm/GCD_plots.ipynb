{
 "cells": [
  {
   "cell_type": "code",
   "execution_count": null,
   "metadata": {},
   "outputs": [],
   "source": [
    "import Merge_Cartesian as MC\n",
    "import numpy as np\n",
    "from decimal import *\n",
    "import math\n",
    "import matplotlib.pyplot as plt\n",
    "import ipywidgets as widgets\n",
    "from IPython.display import display\n",
    "%matplotlib widget"
   ]
  },
  {
   "cell_type": "code",
   "execution_count": null,
   "metadata": {},
   "outputs": [],
   "source": [
    "def float_to_decimal(f):\n",
    "    return Decimal(str(f))\n",
    "\n",
    "arr_float_to_decimal = np.vectorize(float_to_decimal)"
   ]
  },
  {
   "cell_type": "code",
   "execution_count": null,
   "metadata": {},
   "outputs": [],
   "source": [
    "def arrs_lcm_gcd(starting_number,finishing_number,increment):\n",
    "\n",
    "    number_of_numbers = math.ceil((float_to_decimal(finishing_number)-float_to_decimal(starting_number))/float_to_decimal(increment))+1\n",
    "\n",
    "    x = np.linspace(starting_number,finishing_number,number_of_numbers)\n",
    "    y = np.linspace(starting_number,finishing_number,number_of_numbers)\n",
    "\n",
    "    x_grid, y_grid = arr_float_to_decimal(np.meshgrid(x, y))\n",
    "    return MC.get_lcm_gcd(x_grid,y_grid)"
   ]
  },
  {
   "cell_type": "code",
   "execution_count": null,
   "metadata": {},
   "outputs": [],
   "source": [
    "def plot_lcm(starting_number,finishing_number,increment,ax ):\n",
    "    lcm,gcd = arrs_lcm_gcd(starting_number,finishing_number,increment)\n",
    "    MC.plot_fanout_colour(lcm,ax,\"LCM of numbers \" + str(starting_number) + \" to\" + str(finishing_number)+ \" in increments of \"+str(increment),False)\n",
    "    \n",
    "def plot_gcd(starting_number,finishing_number,increment,ax ):\n",
    "    lcm,gcd = arrs_lcm_gcd(starting_number,finishing_number,increment)\n",
    "    MC.plot_fanout_colour(gcd,ax,\"GCD of numbers \" + str(starting_number) + \" to\" + str(finishing_number)+ \" in increments of \"+str(increment),False)\n",
    "    \n",
    "def plot_lcm_gcd(starting_number,finishing_number,increment,ax ):\n",
    "    ax[0].clear()\n",
    "    lcm,gcd = arrs_lcm_gcd(starting_number,finishing_number,increment)\n",
    "    MC.plot_fanout_colour(lcm,ax[0],\"LCM of numbers \" + str(starting_number) + \" to\" + str(finishing_number)+ \" in increments of \"+str(increment),False)\n",
    "    MC.plot_fanout_colour(gcd,ax[1],\"GCD of numbers \" + str(starting_number) + \" to\" + str(finishing_number)+ \" in increments of \"+str(increment),False)\n",
    "    \n",
    "def add_float_as_decimal(a,b):\n",
    "    a_d = Decimal(str(a))\n",
    "    b_d = Decimal(str(b))\n",
    "    \n",
    "    return float(a_d + b_d)"
   ]
  },
  {
   "cell_type": "code",
   "execution_count": null,
   "metadata": {},
   "outputs": [],
   "source": [
    "fig_c, ax_c = plt.subplots(1,2)        \n",
    "# Intialize        \n",
    "# starting_number = 1\n",
    "# finishing_number = 100\n",
    "# increment = 1\n",
    "\n",
    "colour_bar = plot_lcm_gcd(1,100,1,ax_c)\n",
    "\n",
    "increment_button = widgets.Button(description = \"step forward\", layout=widgets.Layout(width='auto'))\n",
    "decrement_button = widgets.Button(description = \"step backward\", layout=widgets.Layout(width='auto'))\n",
    "increment_text = widgets.FloatText(description = 'val', value=0.1)\n",
    "\n",
    "start_input = widgets.FloatText(description = 'Start Num', value=1)\n",
    "end_input = widgets.FloatText(description = 'End Num', value=100)\n",
    "inc_input = widgets.FloatText(description = '++ Num', value=1)\n",
    "plot_button = widgets.Button(description = \"Plot\")\n",
    "\n",
    "output = widgets.Output()\n",
    "\n",
    "\n",
    "def on_increment_click(b):\n",
    "    inc_input.value = add_float_as_decimal(increment_text.value,inc_input.value)\n",
    "    plot_lcm_gcd(start_input.value,end_input.value,inc_input.value,ax_c)\n",
    " \n",
    "def on_decrement_click(b):\n",
    "    inc_input.value = add_float_as_decimal(-increment_text.value,inc_input.value)\n",
    "    plot_lcm_gcd(start_input.value,end_input.value,inc_input.value,ax_c)\n",
    "            \n",
    "def handle_input_change(c):\n",
    "    plot_lcm_gcd(start_input.value,end_input.value,inc_input.value,ax_c)\n",
    "            \n",
    "\n",
    "increment_button.on_click(on_increment_click)\n",
    "decrement_button.on_click(on_decrement_click)\n",
    "plot_button.on_click(handle_input_change)\n",
    "\n",
    "increment_grid = widgets.GridspecLayout(1,3)\n",
    "increment_grid[0,0] = decrement_button\n",
    "increment_grid[0,1] = increment_button\n",
    "increment_grid[0,2] = increment_text\n",
    "\n",
    "start_stop = widgets.HBox([start_input,end_input,inc_input,plot_button])\n",
    "\n",
    "display(increment_grid,start_stop)"
   ]
  }
 ],
 "metadata": {
  "kernelspec": {
   "display_name": "Python 3.9.0 64-bit",
   "language": "python",
   "name": "python3"
  },
  "language_info": {
   "codemirror_mode": {
    "name": "ipython",
    "version": 3
   },
   "file_extension": ".py",
   "mimetype": "text/x-python",
   "name": "python",
   "nbconvert_exporter": "python",
   "pygments_lexer": "ipython3",
   "version": "3.9.0"
  },
  "orig_nbformat": 4,
  "vscode": {
   "interpreter": {
    "hash": "81794d4967e6c3204c66dcd87b604927b115b27c00565d3d43f05ba2f3a2cb0d"
   }
  }
 },
 "nbformat": 4,
 "nbformat_minor": 2
}
