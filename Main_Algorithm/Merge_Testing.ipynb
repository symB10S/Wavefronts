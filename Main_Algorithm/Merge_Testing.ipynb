{
 "cells": [
  {
   "cell_type": "code",
   "execution_count": 1,
   "metadata": {},
   "outputs": [],
   "source": [
    "from Wavefronts import *\n",
    "from Storage_Merge import *\n",
    "\n",
    "import math\n",
    "import numpy as np\n",
    "import matplotlib.pyplot as plt\n",
    "import pandas as pd\n",
    "from matplotlib.animation import FuncAnimation\n",
    "from IPython import display"
   ]
  },
  {
   "cell_type": "markdown",
   "metadata": {},
   "source": [
    "# More Efficient Algorithm"
   ]
  },
  {
   "cell_type": "markdown",
   "metadata": {},
   "source": [
    "Intiate Algorithm "
   ]
  },
  {
   "cell_type": "code",
   "execution_count": 2,
   "metadata": {},
   "outputs": [],
   "source": [
    "Show_Reflection = False\n",
    "Show_Circuit_Info = True\n",
    "Save_Output = False\n",
    "is_LCM = True"
   ]
  },
  {
   "cell_type": "code",
   "execution_count": 3,
   "metadata": {},
   "outputs": [
    {
     "name": "stdout",
     "output_type": "stream",
     "text": [
      "\n",
      "Some Information about a wavefront\n",
      "Type :                             <class 'Wavefronts.Wavefront_Source'>\n",
      "Poisiton Start :                   0\n",
      "Poisiton End :                     0\n",
      "Time Start :                       0\n",
      "Time End :                         0.000012\n",
      "Voltage Magnitude :                1\n",
      "Current Magnitude :                0\n",
      "Excitation Type :                  HIGH\n",
      "Excitation Number :                0\n",
      "Order :                            0\n",
      "Inductive Reflections :            0\n",
      "Capacitive Reflections :           0\n",
      "Current Chain Reflections :        0\n",
      "Transmission Ind -> Cap :          0\n",
      "Transmission Cap -> Ind :          0\n"
     ]
    }
   ],
   "source": [
    "Storage_Voltage_Active.append(Wavefront_Source(Voltage_Souce_Magnitude,0,Voltage_Source_Period_On,0))\n",
    "Storage_Voltage_Active[0].about()\n",
    "\n",
    "temp_wavefront = Storage_Voltage_Active.popleft()\n",
    "temp_wavefront.Generate(Storage_Away,Storage_Away)\n",
    "Storage_Voltage_Completed.append(temp_wavefront)"
   ]
  },
  {
   "cell_type": "code",
   "execution_count": 4,
   "metadata": {},
   "outputs": [
    {
     "name": "stdout",
     "output_type": "stream",
     "text": [
      "\n",
      "Information about this network : \n",
      "\n",
      "- The Voltage Source -\n",
      "Votage Source Magnitude :               1\n",
      "Voltage Source Frequency :              50000\n",
      "Voltage Source Duty cycle :             0.6\n",
      "Voltage Souce Total Period :            0.00002\n",
      "Voltage Souce ON Period :               0.000012\n",
      "Voltage Souce OFF Period :              0.000008\n",
      "\n",
      "- The Inductor -\n",
      "Inductor Inductance Per Length :        115.0\n",
      "Inductor Capacitance Per Length :       1.15\n",
      "Inductor Length :                       1\n",
      "Inductor Total Inductance :             115.0\n",
      "Inductor Total Capacitance :            1.15\n",
      "Inductor Velocity :                     0.08695652173913043478260869565\n",
      "Inductor Time Delay :                   11.50000000000000000000000000\n",
      "Inductor Impedance :                    10\n",
      "\n",
      "- The Capacitor -\n",
      "Capacitor Inductance Per Length :       0.35\n",
      "Capacitor Capacitance Per Length :      35\n",
      "Capacitor Length :                      1\n",
      "Capacitor Total Inductance :            0.35\n",
      "Capacitor Total Capacitance :           35\n",
      "Inductor Velocity :                     0.08695652173913043478260869565\n",
      "Capacitor Time Delay :                  3.500000000000000000000000000\n",
      "Capacitor Impedance :                   0.1\n",
      "\n",
      "- The Load -\n",
      "Load Resistance :                       12\n",
      "Buck Converter :                        False\n"
     ]
    }
   ],
   "source": [
    "About_Network()"
   ]
  },
  {
   "cell_type": "code",
   "execution_count": 5,
   "metadata": {},
   "outputs": [],
   "source": [
    "Process_Wavefronts()"
   ]
  },
  {
   "cell_type": "code",
   "execution_count": 6,
   "metadata": {},
   "outputs": [],
   "source": [
    "def represent_Reflection_Diagram(ax):\n",
    "    for wave in Storage_Capacitor_Completed:\n",
    "\n",
    "        x1 = -wave.position_start\n",
    "        x2 = -wave.position_end\n",
    "\n",
    "        y1 = wave.time_start\n",
    "        y2 = wave.time_end\n",
    "\n",
    "        if(wave.time_start <=Simulation_Stop_Time):\n",
    "            ax.plot([x1,x2],[y1,y2],'k-')\n",
    "\n",
    "\n",
    "    for wave in Storage_Inductor_Completed:\n",
    "\n",
    "        x1 = wave.position_start\n",
    "        x2 = wave.position_end\n",
    "\n",
    "        y1 = wave.time_start\n",
    "        y2 = wave.time_end\n",
    "\n",
    "        if(wave.time_start <=Simulation_Stop_Time):\n",
    "            ax.plot([x1,x2],[y1,y2],'k-')"
   ]
  },
  {
   "cell_type": "code",
   "execution_count": 7,
   "metadata": {},
   "outputs": [],
   "source": [
    "%matplotlib widget\n",
    "#%matplotlib\n",
    "\n",
    "if(Show_Reflection):\n",
    "    fig_reflection, ax_reflection = plt.subplots()\n",
    "    represent_Reflection_Diagram(ax_reflection)\n"
   ]
  },
  {
   "cell_type": "markdown",
   "metadata": {},
   "source": [
    "## Position Equirey -> Time Waveform"
   ]
  },
  {
   "cell_type": "code",
   "execution_count": 8,
   "metadata": {},
   "outputs": [],
   "source": [
    "Voltage_Array_Capacitor = []\n",
    "Current_Array_Capacitor = []\n",
    "Time_Array_Capacitor = []\n",
    "\n",
    "def inspect_time_waveform_at_position(Wavefront_Array, position):\n",
    "\n",
    "    Voltage_Array = []\n",
    "    Current_Array = []\n",
    "    Time_Array = []\n",
    "\n",
    "    found_index = True\n",
    "\n",
    "    for wave in Wavefront_Array:\n",
    "        \n",
    "        time = wave.Time_at_position(position)\n",
    "\n",
    "        try:\n",
    "            index = Time_Array.index(time)\n",
    "            found_index = True\n",
    "        except:\n",
    "            found_index = False\n",
    "\n",
    "        if(found_index == False):\n",
    "            Time_Array.append(time)\n",
    "            Voltage_Array.append(wave.magnitude_voltage)\n",
    "            Current_Array.append(wave.magnitude_current)\n",
    "        else:\n",
    "            Voltage_Array[index] = Voltage_Array[index] + wave.magnitude_voltage\n",
    "            Current_Array[index] = Current_Array[index] + wave.magnitude_current\n",
    "\n",
    "    Time_Voltage_Current_Array = sorted(zip(Time_Array,Voltage_Array,Current_Array))\n",
    "    \n",
    "    Time_Array, Voltage_Array, Current_Array  = zip(*Time_Voltage_Current_Array)\n",
    "\n",
    "    Time_Array = list( Time_Array )\n",
    "    Voltage_Array = list( Voltage_Array )\n",
    "    Current_Array = list( Current_Array )\n",
    "\n",
    "    for i in range(1,len(Voltage_Array)-1):\n",
    "        Voltage_Array[i] = Voltage_Array[i-1]+Voltage_Array[i] \n",
    "        Current_Array[i] = Current_Array[i-1]+Current_Array[i] \n",
    "\n",
    "    return Voltage_Array, Current_Array, Time_Array"
   ]
  },
  {
   "cell_type": "markdown",
   "metadata": {},
   "source": [
    "Plot Inductor Voltage"
   ]
  },
  {
   "cell_type": "code",
   "execution_count": 9,
   "metadata": {},
   "outputs": [],
   "source": [
    "def lcm(x, y):\n",
    "\n",
    "    x_num,x_den = x.as_integer_ratio()\n",
    "    y_num,y_den = y.as_integer_ratio()\n",
    "\n",
    "    multiply_factor = x_den * y_den\n",
    "\n",
    "    x_big = x_num * multiply_factor   \n",
    "    y_big = y_num * multiply_factor   \n",
    "\n",
    "    GCD = math.gcd(x_big,y_big)\n",
    "\n",
    "    LCM = x_big* y_big/(GCD*multiply_factor)\n",
    "\n",
    "    return LCM"
   ]
  },
  {
   "cell_type": "code",
   "execution_count": 10,
   "metadata": {},
   "outputs": [],
   "source": [
    "position = 0\n",
    "\n",
    "Voltage_Inductor, Current_Inductor, Time_Inductor = inspect_time_waveform_at_position(Storage_Inductor_Completed,position)\n",
    "Voltage_Capacitor, Current_Capacitor, Time_Capacitor = inspect_time_waveform_at_position(Storage_Capacitor_Completed,position)"
   ]
  },
  {
   "cell_type": "code",
   "execution_count": 11,
   "metadata": {},
   "outputs": [],
   "source": [
    "def Plot_Voltage_Current_Time_Multi(fig,ax,V_Inductor,I_Inductor,T_Inductor,V_Capacitor,I_Capacitor,T_Capacitor):\n",
    "\n",
    "    grid_LCM = float(lcm(Inductor_Time*2,Capacitor_Time*2))\n",
    "    Stop_Time_Multiple = math.floor(float(Simulation_Stop_Time)/grid_LCM)\n",
    "\n",
    "    ax[0,0].set_title('Inductor Voltage')\n",
    "    ax[0,0].set_xlabel('time (s)')\n",
    "    ax[0,0].set_ylabel('Voltage (V)')\n",
    "    ax[0,0].set_xlim(0,Simulation_Stop_Time)\n",
    "    ax[0,0].step(T_Inductor ,V_Inductor,where='post')\n",
    "    ax[0,0].set_xticks(np.arange(0,grid_LCM*Stop_Time_Multiple,grid_LCM))\n",
    "    ax[0,0].grid()\n",
    "\n",
    "    ax[0,1].set_title('Inductor Current')\n",
    "    ax[0,1].set_xlabel('time (s)')\n",
    "    ax[0,1].set_ylabel('Current (A)')\n",
    "    ax[0,1].set_xlim(0,Simulation_Stop_Time)\n",
    "    ax[0,1].step(T_Inductor ,I_Inductor,where='post')\n",
    "    ax[0,1].set_xticks(np.arange(0,grid_LCM*Stop_Time_Multiple,grid_LCM))\n",
    "    ax[0,1].grid()\n",
    "\n",
    "    ax[1,0].set_title('Capacitor Voltage')\n",
    "    ax[1,0].set_xlabel('time (s)')\n",
    "    ax[1,0].set_ylabel('Voltage (V)')\n",
    "    ax[1,0].set_xlim(0,Simulation_Stop_Time)\n",
    "    ax[1,0].step(T_Capacitor ,V_Capacitor,where='post')\n",
    "    ax[1,0].set_xticks(np.arange(0,grid_LCM*Stop_Time_Multiple,grid_LCM))\n",
    "    ax[1,0].grid()\n",
    "\n",
    "    ax[1,1].set_title('Capacitor Current')\n",
    "    ax[1,1].set_xlabel('time (s)')\n",
    "    ax[1,1].set_ylabel('Current (A)')\n",
    "    ax[1,1].set_xlim(0,Simulation_Stop_Time)\n",
    "    ax[1,1].step(T_Capacitor ,I_Capacitor,where='post')\n",
    "    ax[1,1].set_xticks(np.arange(0,grid_LCM*Stop_Time_Multiple,grid_LCM))\n",
    "    ax[1,1].grid()\n",
    "\n",
    "    title = \"Time Wavefroms of Capacitor and inductor at position \" +str(position)+\"m\"\n",
    "\n",
    "    fig.suptitle(title)\n",
    "    fig.tight_layout()"
   ]
  },
  {
   "cell_type": "code",
   "execution_count": 12,
   "metadata": {},
   "outputs": [
    {
     "ename": "NameError",
     "evalue": "name 'math' is not defined",
     "output_type": "error",
     "traceback": [
      "\u001b[1;31m---------------------------------------------------------------------------\u001b[0m",
      "\u001b[1;31mNameError\u001b[0m                                 Traceback (most recent call last)",
      "\u001b[1;32m<ipython-input-12-7652eef5c550>\u001b[0m in \u001b[0;36m<module>\u001b[1;34m\u001b[0m\n\u001b[0;32m      1\u001b[0m \u001b[0mfig\u001b[0m\u001b[1;33m,\u001b[0m\u001b[0max\u001b[0m \u001b[1;33m=\u001b[0m \u001b[0mplt\u001b[0m\u001b[1;33m.\u001b[0m\u001b[0msubplots\u001b[0m\u001b[1;33m(\u001b[0m\u001b[1;36m2\u001b[0m\u001b[1;33m,\u001b[0m\u001b[1;36m2\u001b[0m\u001b[1;33m)\u001b[0m\u001b[1;33m\u001b[0m\u001b[1;33m\u001b[0m\u001b[0m\n\u001b[0;32m      2\u001b[0m \u001b[1;33m\u001b[0m\u001b[0m\n\u001b[1;32m----> 3\u001b[1;33m \u001b[0mPlot_Voltage_Current_Time_Multi\u001b[0m\u001b[1;33m(\u001b[0m\u001b[0mfig\u001b[0m\u001b[1;33m,\u001b[0m\u001b[0max\u001b[0m\u001b[1;33m,\u001b[0m\u001b[0mVoltage_Inductor\u001b[0m\u001b[1;33m,\u001b[0m \u001b[0mCurrent_Inductor\u001b[0m\u001b[1;33m,\u001b[0m \u001b[0mTime_Inductor\u001b[0m\u001b[1;33m,\u001b[0m\u001b[0mVoltage_Capacitor\u001b[0m\u001b[1;33m,\u001b[0m \u001b[0mCurrent_Capacitor\u001b[0m\u001b[1;33m,\u001b[0m \u001b[0mTime_Capacitor\u001b[0m\u001b[1;33m)\u001b[0m\u001b[1;33m\u001b[0m\u001b[1;33m\u001b[0m\u001b[0m\n\u001b[0m",
      "\u001b[1;32m<ipython-input-11-191310dbe818>\u001b[0m in \u001b[0;36mPlot_Voltage_Current_Time_Multi\u001b[1;34m(fig, ax, V_Inductor, I_Inductor, T_Inductor, V_Capacitor, I_Capacitor, T_Capacitor)\u001b[0m\n\u001b[0;32m      1\u001b[0m \u001b[1;32mdef\u001b[0m \u001b[0mPlot_Voltage_Current_Time_Multi\u001b[0m\u001b[1;33m(\u001b[0m\u001b[0mfig\u001b[0m\u001b[1;33m,\u001b[0m\u001b[0max\u001b[0m\u001b[1;33m,\u001b[0m\u001b[0mV_Inductor\u001b[0m\u001b[1;33m,\u001b[0m\u001b[0mI_Inductor\u001b[0m\u001b[1;33m,\u001b[0m\u001b[0mT_Inductor\u001b[0m\u001b[1;33m,\u001b[0m\u001b[0mV_Capacitor\u001b[0m\u001b[1;33m,\u001b[0m\u001b[0mI_Capacitor\u001b[0m\u001b[1;33m,\u001b[0m\u001b[0mT_Capacitor\u001b[0m\u001b[1;33m)\u001b[0m\u001b[1;33m:\u001b[0m\u001b[1;33m\u001b[0m\u001b[1;33m\u001b[0m\u001b[0m\n\u001b[0;32m      2\u001b[0m \u001b[1;33m\u001b[0m\u001b[0m\n\u001b[1;32m----> 3\u001b[1;33m     \u001b[0mgrid_LCM\u001b[0m \u001b[1;33m=\u001b[0m \u001b[0mfloat\u001b[0m\u001b[1;33m(\u001b[0m\u001b[0mlcm\u001b[0m\u001b[1;33m(\u001b[0m\u001b[0mInductor_Time\u001b[0m\u001b[1;33m*\u001b[0m\u001b[1;36m2\u001b[0m\u001b[1;33m,\u001b[0m\u001b[0mCapacitor_Time\u001b[0m\u001b[1;33m*\u001b[0m\u001b[1;36m2\u001b[0m\u001b[1;33m)\u001b[0m\u001b[1;33m)\u001b[0m\u001b[1;33m\u001b[0m\u001b[1;33m\u001b[0m\u001b[0m\n\u001b[0m\u001b[0;32m      4\u001b[0m     \u001b[0mStop_Time_Multiple\u001b[0m \u001b[1;33m=\u001b[0m \u001b[0mmath\u001b[0m\u001b[1;33m.\u001b[0m\u001b[0mfloor\u001b[0m\u001b[1;33m(\u001b[0m\u001b[0mfloat\u001b[0m\u001b[1;33m(\u001b[0m\u001b[0mSimulation_Stop_Time\u001b[0m\u001b[1;33m)\u001b[0m\u001b[1;33m/\u001b[0m\u001b[0mgrid_LCM\u001b[0m\u001b[1;33m)\u001b[0m\u001b[1;33m\u001b[0m\u001b[1;33m\u001b[0m\u001b[0m\n\u001b[0;32m      5\u001b[0m \u001b[1;33m\u001b[0m\u001b[0m\n",
      "\u001b[1;32m<ipython-input-9-7a2a4ba992d5>\u001b[0m in \u001b[0;36mlcm\u001b[1;34m(x, y)\u001b[0m\n\u001b[0;32m      9\u001b[0m     \u001b[0my_big\u001b[0m \u001b[1;33m=\u001b[0m \u001b[0my_num\u001b[0m \u001b[1;33m*\u001b[0m \u001b[0mmultiply_factor\u001b[0m\u001b[1;33m\u001b[0m\u001b[1;33m\u001b[0m\u001b[0m\n\u001b[0;32m     10\u001b[0m \u001b[1;33m\u001b[0m\u001b[0m\n\u001b[1;32m---> 11\u001b[1;33m     \u001b[0mGCD\u001b[0m \u001b[1;33m=\u001b[0m \u001b[0mmath\u001b[0m\u001b[1;33m.\u001b[0m\u001b[0mgcd\u001b[0m\u001b[1;33m(\u001b[0m\u001b[0mx_big\u001b[0m\u001b[1;33m,\u001b[0m\u001b[0my_big\u001b[0m\u001b[1;33m)\u001b[0m\u001b[1;33m\u001b[0m\u001b[1;33m\u001b[0m\u001b[0m\n\u001b[0m\u001b[0;32m     12\u001b[0m \u001b[1;33m\u001b[0m\u001b[0m\n\u001b[0;32m     13\u001b[0m     \u001b[0mLCM\u001b[0m \u001b[1;33m=\u001b[0m \u001b[0mx_big\u001b[0m\u001b[1;33m*\u001b[0m \u001b[0my_big\u001b[0m\u001b[1;33m/\u001b[0m\u001b[1;33m(\u001b[0m\u001b[0mGCD\u001b[0m\u001b[1;33m*\u001b[0m\u001b[0mmultiply_factor\u001b[0m\u001b[1;33m)\u001b[0m\u001b[1;33m\u001b[0m\u001b[1;33m\u001b[0m\u001b[0m\n",
      "\u001b[1;31mNameError\u001b[0m: name 'math' is not defined"
     ]
    },
    {
     "data": {
      "application/vnd.jupyter.widget-view+json": {
       "model_id": "3a81522498ab4b6383730889301ef832",
       "version_major": 2,
       "version_minor": 0
      },
      "image/png": "[encoded data removed]",
      "text/html": [
       "\n",
       "            <div style=\"display: inline-block;\">\n",
       "                <div class=\"jupyter-widgets widget-label\" style=\"text-align: center;\">\n",
       "                    Figure\n",
       "                </div>\n",
       "                <img src='data:image/png;base64,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' width=640.0/>\n",
       "            </div>\n",
       "        "
      ],
      "text/plain": [
       "Canvas(toolbar=Toolbar(toolitems=[('Home', 'Reset original view', 'home', 'home'), ('Back', 'Back to previous …"
      ]
     },
     "metadata": {},
     "output_type": "display_data"
    }
   ],
   "source": [
    "fig,ax = plt.subplots(2,2)\n",
    "\n",
    "Plot_Voltage_Current_Time_Multi(fig,ax,Voltage_Inductor, Current_Inductor, Time_Inductor,Voltage_Capacitor, Current_Capacitor, Time_Capacitor)"
   ]
  },
  {
   "cell_type": "code",
   "execution_count": null,
   "metadata": {},
   "outputs": [],
   "source": [
    "fig_power, ax_power = plt.subplots()\n",
    "\n",
    "Power_Inductor = []\n",
    "\n",
    "for (voltage, current) in zip(Voltage_Inductor,Current_Inductor):\n",
    "    Power_Inductor.append(voltage*current)\n",
    "\n",
    "Power_Capacitor = []\n",
    "\n",
    "for (voltage, current) in zip(Voltage_Capacitor,Current_Capacitor):\n",
    "    Power_Capacitor.append(voltage*current)\n",
    "\n",
    "ax_power.set_xlabel('time (s)')\n",
    "ax_power.set_ylabel('Power (w)')\n",
    "ax_power.set_xlim(0,Simulation_Stop_Time)\n",
    "ax_power.step(Time_Inductor ,Power_Inductor,where='post',label='Inductor')\n",
    "ax_power.step(Time_Capacitor ,Power_Capacitor,where='post', label = 'Capacitor')\n",
    "\n",
    "grid_LCM = float(lcm(Inductor_Time*2,Capacitor_Time*2))\n",
    "Stop_Time_Multiple = math.floor(float(Simulation_Stop_Time)/grid_LCM)\n",
    "ax_power.set_xticks(np.arange(0,grid_LCM*Stop_Time_Multiple,grid_LCM))\n",
    "ax_power.grid()\n",
    "\n",
    "title = \"Power Wavefroms of Capacitor and inductor at position \" +str(position)+\"m\"\n",
    "\n",
    "\n",
    "fig_power.suptitle(title)\n",
    "fig_power.tight_layout()\n",
    "fig_power.legend(loc='lower left')"
   ]
  },
  {
   "cell_type": "code",
   "execution_count": null,
   "metadata": {},
   "outputs": [],
   "source": [
    "def inspect_spatial_waveform_at_time(Wavefront_Array, time):\n",
    "    \n",
    "    Voltage_In_Position = []\n",
    "    Current_In_Position = []\n",
    "    Positions = []\n",
    "\n",
    "    Current_Forward = []\n",
    "    Current_Backward = []\n",
    "\n",
    "    Voltage_Forward = []\n",
    "    Voltage_Backward = []\n",
    "\n",
    "    Positions_Forward = []\n",
    "    Positions_Backward = []\n",
    "\n",
    "    found_index = True\n",
    "\n",
    "    query_time = time\n",
    "    DC_Current = 0\n",
    "    DC_Voltage = 0\n",
    "    length = 0\n",
    "\n",
    "    for wave in Wavefront_Array:\n",
    "\n",
    "        position = 0\n",
    "        length = wave.length\n",
    "\n",
    "        position = wave.Position_at_time(query_time)\n",
    "\n",
    "        if position >= 0:\n",
    "\n",
    "            if wave.position_start == 0:\n",
    "                try:\n",
    "                    index = Positions_Forward.index(position)\n",
    "                    found_index = True\n",
    "                except:\n",
    "                    found_index = False\n",
    "\n",
    "                if found_index:\n",
    "                    Current_Forward[index] += wave.magnitude_current\n",
    "                    Voltage_Forward[index] += wave.magnitude_voltage\n",
    "                else:\n",
    "                    Positions_Forward.append(position)\n",
    "                    Current_Forward.append(wave.magnitude_current)\n",
    "                    Voltage_Forward.append(wave.magnitude_voltage)\n",
    "\n",
    "                    Positions.append(position)\n",
    "\n",
    "            else:\n",
    "                try:\n",
    "                    index = Positions_Backward.index(position)\n",
    "                    found_index = True\n",
    "                except:\n",
    "                    found_index = False\n",
    "\n",
    "                if found_index:\n",
    "                    Current_Backward[index] += wave.magnitude_current\n",
    "                    Voltage_Backward[index] += wave.magnitude_voltage\n",
    "                else:\n",
    "                    Positions_Backward.append(position)\n",
    "                    Current_Backward.append(wave.magnitude_current)\n",
    "                    Voltage_Backward.append(wave.magnitude_voltage)\n",
    "\n",
    "                    Positions.append(position)\n",
    "\n",
    "\n",
    "        elif wave.time_end <= query_time:\n",
    "            DC_Current += wave.magnitude_current\n",
    "            DC_Voltage += wave.magnitude_voltage\n",
    "\n",
    "    Forward_Zip = list(zip(Positions_Forward,Voltage_Forward,Current_Forward))\n",
    "    Backward_Zip = list(zip(Positions_Backward,Voltage_Backward,Current_Backward))\n",
    "\n",
    "    #Remove doubles\n",
    "    Positions = list(set(Positions))\n",
    "    Positions = sorted(Positions)\n",
    "\n",
    "    Positions.append(length)\n",
    "    Positions = [0] + Positions\n",
    "\n",
    "    Current_In_Position = [DC_Current]*len(Positions)\n",
    "    Voltage_In_Position = [DC_Voltage]*len(Positions)\n",
    "\n",
    "    # Current_In_Position_Sorted_Capacitor = sorted(zip(Positions,Current_In_Position))\n",
    "\n",
    "\n",
    "    for pos,forward_voltage,forward_current in Forward_Zip:\n",
    "\n",
    "        index = Positions.index(pos)\n",
    "\n",
    "        for i in range(0,index):\n",
    "            Current_In_Position[i] += forward_current\n",
    "            Voltage_In_Position[i] += forward_voltage\n",
    "\n",
    "    for pos,backward_voltage,backward_current in Backward_Zip:\n",
    "\n",
    "        index = Positions.index(pos)\n",
    "\n",
    "        for i in range(index,len(Positions)):\n",
    "            Current_In_Position[i] += backward_current\n",
    "            Voltage_In_Position[i] += backward_voltage\n",
    "\n",
    "    return Voltage_In_Position,Current_In_Position,Positions"
   ]
  },
  {
   "cell_type": "code",
   "execution_count": null,
   "metadata": {},
   "outputs": [],
   "source": [
    "fig_Current_In_Position_capacitor, (ax_Voltage_In_Position_capacitor, ax_Current_In_Position_capacitor) = plt.subplots(2,1)\n",
    "\n",
    "time = Simulation_Stop_Time/2\n",
    "Capacitor_Voltage_in_Position,Capacitor_Current_in_Position, Capacitor_Positions = inspect_spatial_waveform_at_time(Storage_Inductor_Completed,time)\n",
    "\n",
    "ax_Voltage_In_Position_capacitor.set_title(\"Voltage\")\n",
    "ax_Voltage_In_Position_capacitor.set_xlabel('Position (m)')\n",
    "ax_Voltage_In_Position_capacitor.set_ylabel('Voltage (V)')\n",
    "ax_Voltage_In_Position_capacitor.step(Capacitor_Positions,Capacitor_Voltage_in_Position,where='post')\n",
    "\n",
    "ax_Current_In_Position_capacitor.set_title(\"Current\")\n",
    "ax_Current_In_Position_capacitor.set_xlabel('Position (m)')\n",
    "ax_Current_In_Position_capacitor.set_ylabel('Current (A)')\n",
    "ax_Current_In_Position_capacitor.step(Capacitor_Positions,Capacitor_Current_in_Position,where='post')\n",
    "\n",
    "title = \"Spatial Waveform at : \" + str(time) + \"s\"\n",
    "\n",
    "fig_Current_In_Position_capacitor.suptitle(title)\n",
    "fig_Current_In_Position_capacitor.tight_layout()"
   ]
  },
  {
   "cell_type": "markdown",
   "metadata": {},
   "source": [
    "# How to Save and Load data "
   ]
  },
  {
   "cell_type": "markdown",
   "metadata": {},
   "source": [
    "first save the lists"
   ]
  },
  {
   "cell_type": "code",
   "execution_count": null,
   "metadata": {},
   "outputs": [],
   "source": [
    "import pickle\n",
    "\n",
    "if(Save_Output):\n",
    "    Inductor_Zip = zip(Voltage_Inductor, Current_Inductor, Time_Inductor)\n",
    "    filename = \"Inductor\" +\"_I_\"+ str(Inductor_Total_Inductance) + \"_C_\" + str(Capacitor_Total_Capacitance)\n",
    "\n",
    "    with open(filename, 'wb') as f: \n",
    "        pickle.dump(Inductor_Zip, f) \n",
    "\n",
    "    Capacitor_Zip = zip(Voltage_Capacitor, Current_Capacitor, Time_Capacitor)\n",
    "    filename = \"Capacitor\" +\"_I_\"+ str(Inductor_Total_Inductance) + \"_C_\" + str(Capacitor_Total_Capacitance)\n",
    "\n",
    "    with open(filename, 'wb') as f: \n",
    "        pickle.dump(Capacitor_Zip, f) "
   ]
  },
  {
   "cell_type": "markdown",
   "metadata": {},
   "source": [
    "Then load them like so:"
   ]
  },
  {
   "cell_type": "code",
   "execution_count": null,
   "metadata": {},
   "outputs": [],
   "source": [
    "if(Save_Output):\n",
    "    with open('LC_Output\\Inductor_I_35.0_C_25.0', 'rb') as f: \n",
    "        loaded_Inductor = pickle.load(f) \n",
    "\n",
    "    Voltage_loaded,Current_Loaded,Time_Loaded = zip(*loaded_Inductor)\n",
    "\n",
    "    Voltage_loaded = list(Voltage_loaded)\n",
    "    Current_Loaded = list(Current_Loaded)\n",
    "    Time_Loaded = list(Time_Loaded)"
   ]
  },
  {
   "cell_type": "code",
   "execution_count": null,
   "metadata": {},
   "outputs": [],
   "source": [
    "lcm(Decimal('23'),Decimal('7'))"
   ]
  },
  {
   "cell_type": "markdown",
   "metadata": {},
   "source": [
    "import pickle\n",
    "\n",
    "with open('BUCK_Output\\Inductor_I_35.0_C_25.0', 'rb') as f: \n",
    "        loaded_Inductor = pickle.load(f) \n",
    "\n",
    "Voltage_loaded,Current_Loaded,Time_Loaded = zip(*loaded_Inductor)\n",
    "\n",
    "Voltage_Inductor_Loaded = list(Voltage_loaded)\n",
    "Current_Inductor_Loaded = list(Current_Loaded)\n",
    "Time_Inductor_Loaded = list(Time_Loaded)\n",
    "\n",
    "with open('BUCK_Output\\Capacitor_I_35.0_C_25.0', 'rb') as f: \n",
    "        loaded_Inductor = pickle.load(f) \n",
    "\n",
    "Voltage_loaded,Current_Loaded,Time_Loaded = zip(*loaded_Inductor)\n",
    "\n",
    "Voltage_Capacitor_Loaded = list(Voltage_loaded)\n",
    "Current_Capacitor_Loaded = list(Current_Loaded)\n",
    "Time_Capacitor_Loaded = list(Time_Loaded)"
   ]
  },
  {
   "cell_type": "markdown",
   "metadata": {},
   "source": [
    "fig,ax = plt.subplots(2,2)\n",
    "position = 0\n",
    "\n",
    "Plot_Voltage_Current_Time_Multi(fig,ax,Voltage_Inductor_Loaded, Current_Inductor_Loaded, Time_Inductor_Loaded,Voltage_Capacitor_Loaded, Current_Capacitor_Loaded, Time_Capacitor_Loaded)"
   ]
  }
 ],
 "metadata": {
  "interpreter": {
   "hash": "63fd5069d213b44bf678585dea6b12cceca9941eaf7f819626cde1f2670de90d"
  },
  "kernelspec": {
   "display_name": "Python 3.9.0 64-bit",
   "language": "python",
   "name": "python3"
  },
  "language_info": {
   "codemirror_mode": {
    "name": "ipython",
    "version": 3
   },
   "file_extension": ".py",
   "mimetype": "text/x-python",
   "name": "python",
   "nbconvert_exporter": "python",
   "pygments_lexer": "ipython3",
   "version": "3.9.0"
  },
  "orig_nbformat": 4
 },
 "nbformat": 4,
 "nbformat_minor": 2
}
