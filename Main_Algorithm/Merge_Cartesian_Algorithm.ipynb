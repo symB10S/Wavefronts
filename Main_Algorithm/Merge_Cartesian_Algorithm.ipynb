{
 "cells": [
  {
   "cell_type": "code",
   "execution_count": null,
   "metadata": {},
   "outputs": [],
   "source": [
    "import Merge_Cartesian \n",
    "\n",
    "from decimal import *\n",
    "import math\n",
    "import copy\n",
    "import numpy as np\n",
    "import matplotlib.cm as cm\n",
    "import matplotlib.pyplot as plt\n",
    "from matplotlib.animation import FFMpegWriter"
   ]
  },
  {
   "cell_type": "code",
   "execution_count": null,
   "metadata": {},
   "outputs": [],
   "source": [
    "plt.rcParams['animation.ffmpeg_path'] = 'C:\\\\Users\\\\Jonathan\\\\Documents\\\\Academic\\\\Masters\\\\Simulator\\\\Git\\\\Main_Algorithm\\\\ffmpeg\\\\bin\\\\ffmpeg.exe'\n",
    "\n",
    "import ipywidgets as widgets\n",
    "from IPython.display import display"
   ]
  },
  {
   "cell_type": "markdown",
   "metadata": {},
   "source": [
    "# Get Raw Wavefront Arrays"
   ]
  },
  {
   "cell_type": "code",
   "execution_count": null,
   "metadata": {},
   "outputs": [],
   "source": [
    "%matplotlib widget\n",
    "L_Time = '1'\n",
    "C_Time = '9.9'\n",
    "\n",
    "L_impedance = '1000'\n",
    "C_impedance = '1'\n",
    "\n",
    "number_periods = '1'\n",
    "\n",
    "#  INDUCTANCE, CAPACITANCE, LENGTH\n",
    "Inductor_List = [L_impedance,L_Time,'1']\n",
    "Capacitor_List = [C_impedance,C_Time,'1']\n",
    "\n",
    "# VOLTAGE, PERIODS, BUCK, LOAD\n",
    "Circuit_List = ['1',number_periods,False,'12']"
   ]
  },
  {
   "cell_type": "code",
   "execution_count": null,
   "metadata": {},
   "outputs": [],
   "source": [
    "(data_input,\n",
    "data_output\n",
    ") = Merge_Cartesian.Process_Wavefronts(Inductor_List,Capacitor_List, Circuit_List)"
   ]
  },
  {
   "cell_type": "code",
   "execution_count": null,
   "metadata": {},
   "outputs": [],
   "source": [
    "fig_initial_colour, ax_initial_colour = plt.subplot_mosaic([['A','B'],['C','D']])"
   ]
  },
  {
   "cell_type": "code",
   "execution_count": null,
   "metadata": {},
   "outputs": [],
   "source": [
    "Merge_Cartesian.plot_fanout_seismic(data_output.Voltage_Interconnect_Inductor,ax_initial_colour['A'],\"Inductor Voltage Fanout\",True,True)\n",
    "Merge_Cartesian.plot_fanout_seismic(data_output.Voltage_Interconnect_Capacitor,ax_initial_colour['B'],\"Capacitor Voltage Fanout\",True)\n",
    "Merge_Cartesian.plot_fanout_seismic(data_output.Current_Interconnect_Inductor,ax_initial_colour['C'],\"Inductor Current Fanout\",True)\n",
    "Merge_Cartesian.plot_fanout_seismic(data_output.Current_Interconnect_Capacitor,ax_initial_colour['D'],\"Capacitor Current Fanout\",True)"
   ]
  },
  {
   "cell_type": "code",
   "execution_count": null,
   "metadata": {},
   "outputs": [],
   "source": [
    "fig_time, ax_time = plt.subplots()\n",
    "\n",
    "Merge_Cartesian.plot_fanout_colour(data_output.Time,ax_time,\"Time Fanout Plot\")"
   ]
  },
  {
   "cell_type": "markdown",
   "metadata": {},
   "source": [
    "fig, ax = plt.subplots(subplot_kw={\"projection\": \"3d\"})\n",
    "\n",
    "Nx,Ny = Voltage_Capacitor.shape\n",
    "x = np.linspace(0, 1, Nx)\n",
    "y = np.linspace(0, 1, Ny)\n",
    "X, Y = np.meshgrid(x, y)\n",
    "\n",
    "ax.plot_surface(X,Y,Voltage_Capacitor,cmap=cm.coolwarm)"
   ]
  },
  {
   "cell_type": "markdown",
   "metadata": {},
   "source": [
    "# Trying to understand Fanout Frequency"
   ]
  },
  {
   "cell_type": "code",
   "execution_count": null,
   "metadata": {},
   "outputs": [],
   "source": [
    "fig_cross, ax_cross = plt.subplots(1,3)"
   ]
  },
  {
   "cell_type": "code",
   "execution_count": null,
   "metadata": {},
   "outputs": [],
   "source": [
    "Merge_Cartesian.plot_fanout_crossection(Merge_Cartesian.get_voltage_array (data_output.Wavefronts_Sending_Capacitor),ax_cross,22,\"Capacitor Sending Voltage\",False)"
   ]
  },
  {
   "cell_type": "markdown",
   "metadata": {},
   "source": [
    "# Higher Order Merging\n",
    "-----"
   ]
  },
  {
   "cell_type": "markdown",
   "metadata": {},
   "source": [
    "## Visualising merigng steps iteritevly"
   ]
  },
  {
   "cell_type": "code",
   "execution_count": null,
   "metadata": {},
   "outputs": [],
   "source": [
    "a = data_input.a\n",
    "b = data_input.b\n",
    "\n",
    "if(data_input.is_Higher_Merging):\n",
    "\n",
    "    # Frist Row\n",
    "    fig_merge,ax_merge = plt.subplots(3,3)\n",
    "    Merge_Cartesian.plot_fanout_seismic(data_output.Voltage_Interconnect_Capacitor, ax_merge[0,0],\"Input Array\",False)\n",
    "\n",
    "    voltage_capacitor_merged = Merge_Cartesian.multiplicative_merge_cycle(data_output.Voltage_Interconnect_Capacitor,a,b)\n",
    "    Merge_Cartesian.plot_fanout_seismic(voltage_capacitor_merged, ax_merge[0,1],\"1\",False)\n",
    "\n",
    "    voltage_capacitor_merged = Merge_Cartesian.multiplicative_merge_cycle(voltage_capacitor_merged,a,b)\n",
    "    Merge_Cartesian.plot_fanout_seismic(voltage_capacitor_merged, ax_merge[0,2],\"2\",False)\n",
    "\n",
    "\n",
    "    # Second Row\n",
    "    voltage_capacitor_merged = Merge_Cartesian.multiplicative_merge_cycle(voltage_capacitor_merged,a,b)\n",
    "    Merge_Cartesian.plot_fanout_seismic(voltage_capacitor_merged, ax_merge[1,0],\"3\",False)\n",
    "\n",
    "    voltage_capacitor_merged = Merge_Cartesian.multiplicative_merge_cycle(voltage_capacitor_merged,a,b)\n",
    "    Merge_Cartesian.plot_fanout_seismic(voltage_capacitor_merged, ax_merge[1,1],\"4\",False)\n",
    "\n",
    "    voltage_capacitor_merged = Merge_Cartesian.multiplicative_merge_cycle(voltage_capacitor_merged,a,b)\n",
    "    Merge_Cartesian.plot_fanout_seismic(voltage_capacitor_merged, ax_merge[1,2],\"5\",False)\n",
    "\n",
    "\n",
    "    # Third Row\n",
    "    voltage_capacitor_merged = Merge_Cartesian.multiplicative_merge_cycle(voltage_capacitor_merged,a,b)\n",
    "    Merge_Cartesian.plot_fanout_seismic(voltage_capacitor_merged, ax_merge[2,0],\"6\",False)\n",
    "\n",
    "    voltage_capacitor_merged = Merge_Cartesian.multiplicative_merge_cycle(voltage_capacitor_merged,a,b)\n",
    "    Merge_Cartesian.plot_fanout_seismic(voltage_capacitor_merged, ax_merge[2,1],\"7\",False)\n",
    "\n",
    "    voltage_capacitor_merged = Merge_Cartesian.multiplicative_merge_cycle(voltage_capacitor_merged,a,b)\n",
    "    Merge_Cartesian.plot_fanout_seismic(voltage_capacitor_merged, ax_merge[2,2],\"8\",False)\n"
   ]
  },
  {
   "cell_type": "markdown",
   "metadata": {},
   "source": [
    "## Doing full Merging Cycle"
   ]
  },
  {
   "cell_type": "code",
   "execution_count": null,
   "metadata": {},
   "outputs": [],
   "source": [
    "data_output_merged = Merge_Cartesian.Higher_Order_Merging(data_input,data_output)"
   ]
  },
  {
   "cell_type": "code",
   "execution_count": null,
   "metadata": {},
   "outputs": [],
   "source": [
    "fig_merged, ax_merged = plt.subplot_mosaic([['A','B'],['C','D']])\n",
    "\n",
    "Merge_Cartesian.plot_fanout_seismic(data_output_merged.Voltage_Interconnect_Inductor,ax_merged['A'],\"Merged Inductor Voltage\",True,True)\n",
    "Merge_Cartesian.plot_fanout_seismic(data_output_merged.Current_Interconnect_Inductor,ax_merged['C'],\"Merged Inductor Current\",True)\n",
    "\n",
    "Merge_Cartesian.plot_fanout_seismic(data_output_merged.Voltage_Interconnect_Capacitor,ax_merged['B'],\"Merged Capacitor Voltage\",True)\n",
    "Merge_Cartesian.plot_fanout_seismic(data_output_merged.Current_Interconnect_Capacitor,ax_merged['D'],\"Merged Capacitor Current\",True)\n"
   ]
  },
  {
   "cell_type": "markdown",
   "metadata": {},
   "source": [
    "## Order merged output"
   ]
  },
  {
   "cell_type": "code",
   "execution_count": null,
   "metadata": {},
   "outputs": [],
   "source": [
    "data_output_ordered = Merge_Cartesian.Order_Data_Output_Merged(data_input,data_output_merged)"
   ]
  },
  {
   "cell_type": "code",
   "execution_count": null,
   "metadata": {},
   "outputs": [],
   "source": [
    "fig_series_voltage_2,ax_series_voltage_2 =plt.subplot_mosaic([['A','C'],['B','C']])\n",
    "\n",
    "Merge_Cartesian.plot_time_interconnect_3(data_output_merged,data_output_ordered,ax_series_voltage_2,'current capacitor')"
   ]
  },
  {
   "cell_type": "markdown",
   "metadata": {},
   "source": [
    "# Wavefront Positions at Time"
   ]
  },
  {
   "cell_type": "code",
   "execution_count": null,
   "metadata": {},
   "outputs": [],
   "source": [
    "Merge_Cartesian.spatial_investigator_ui(data_input, data_output_merged, data_output_ordered)"
   ]
  },
  {
   "cell_type": "code",
   "execution_count": null,
   "metadata": {},
   "outputs": [],
   "source": [
    "Merge_Cartesian.video_save_ui(data_input, data_output_merged, data_output_ordered)"
   ]
  },
  {
   "cell_type": "markdown",
   "metadata": {},
   "source": [
    "## Gradient Follow"
   ]
  },
  {
   "cell_type": "code",
   "execution_count": null,
   "metadata": {},
   "outputs": [],
   "source": [
    "A = Decimal(L_Time)\n",
    "B = Decimal(C_Time)\n",
    "\n",
    "LCM , GCF = Merge_Cartesian.lcm_gcd(A,B)\n",
    "\n",
    "a = int((B)/(GCF))\n",
    "b = int((A)/(GCF))\n",
    "\n",
    "A_to_B_x = 0\n",
    "A_to_B_y = 0\n",
    "\n",
    "for  y in range(1,data_input.Number_of_Wavefronts):\n",
    "    \n",
    "    if( (y*B - GCF )%A == 0):\n",
    "        A_to_B_x = (y*B - GCF)/A\n",
    "        A_to_B_y = y\n",
    "        break\n",
    "    \n",
    "    if(y == data_input.Number_of_Wavefronts -1):\n",
    "        print('Eish')\n",
    "        \n",
    "\n",
    "B_to_A_x = 0\n",
    "B_to_A_y = 0\n",
    "\n",
    "for  y in range(1,data_input.Number_of_Wavefronts):\n",
    "    \n",
    "    if( (y*B + GCF )%A == 0):\n",
    "        B_to_A_x = (y*B + GCF)/A\n",
    "        B_to_A_y = y\n",
    "        break\n",
    "    \n",
    "    if(y == data_input.Number_of_Wavefronts -1):\n",
    "        print('Eish')\n",
    "\n",
    "print('A :',A)\n",
    "print('B :',B)\n",
    "print('GCF :',GCF)\n",
    "print('LCM :',LCM)\n",
    "print('a :',a)\n",
    "print('b :',b)\n",
    "print('A_to_B_x : ' + str(A_to_B_x))\n",
    "print('A_to_B_y : ' + str(A_to_B_y))\n",
    "print('B_to_A_x : ' + str(B_to_A_x))\n",
    "print('B_to_A_y : ' + str(B_to_A_y))"
   ]
  },
  {
   "cell_type": "code",
   "execution_count": null,
   "metadata": {},
   "outputs": [],
   "source": [
    "data_input.Number_of_Wavefronts"
   ]
  },
  {
   "cell_type": "code",
   "execution_count": null,
   "metadata": {},
   "outputs": [],
   "source": []
  }
 ],
 "metadata": {
  "kernelspec": {
   "display_name": "Python 3.9.0 64-bit",
   "language": "python",
   "name": "python3"
  },
  "language_info": {
   "codemirror_mode": {
    "name": "ipython",
    "version": 3
   },
   "file_extension": ".py",
   "mimetype": "text/x-python",
   "name": "python",
   "nbconvert_exporter": "python",
   "pygments_lexer": "ipython3",
   "version": "3.9.0"
  },
  "orig_nbformat": 4,
  "vscode": {
   "interpreter": {
    "hash": "81794d4967e6c3204c66dcd87b604927b115b27c00565d3d43f05ba2f3a2cb0d"
   }
  }
 },
 "nbformat": 4,
 "nbformat_minor": 2
}
