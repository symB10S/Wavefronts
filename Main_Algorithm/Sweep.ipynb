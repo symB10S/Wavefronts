{
 "cells": [
  {
   "cell_type": "code",
   "execution_count": 4,
   "metadata": {},
   "outputs": [],
   "source": [
    "import Merge_Cartesian as MC\n",
    "from decimal import *\n",
    "import numpy as np\n",
    "import matplotlib.pyplot as plt\n",
    "import ipywidgets as widgets\n",
    "from IPython.display import display\n",
    "%matplotlib widget"
   ]
  },
  {
   "attachments": {},
   "cell_type": "markdown",
   "metadata": {},
   "source": [
    "# Sweep Over Input Variables"
   ]
  },
  {
   "attachments": {},
   "cell_type": "markdown",
   "metadata": {},
   "source": [
    "$T_L$ x $T_C$ = constant"
   ]
  },
  {
   "cell_type": "code",
   "execution_count": 20,
   "metadata": {},
   "outputs": [
    {
     "name": "stdout",
     "output_type": "stream",
     "text": [
      "Interval 1\n",
      "TL 1.0\n",
      "TC 12\n",
      "TLxTC 12.0\n",
      "---\n",
      "Interval 2\n",
      "TL 3.2\n",
      "TC 3.75\n",
      "TLxTC 12.000\n",
      "---\n",
      "Interval 3\n",
      "TL 5.4\n",
      "TC 2.222222222222222222222222222\n",
      "TLxTC 12.00000000000000000000000000\n",
      "---\n",
      "Interval 4\n",
      "TL 7.6\n",
      "TC 1.578947368421052631578947368\n",
      "TLxTC 12.00000000000000000000000000\n",
      "---\n",
      "Interval 5\n",
      "TL 9.8\n",
      "TC 1.224489795918367346938775510\n",
      "TLxTC 12.00000000000000000000000000\n",
      "---\n",
      "Interval 6\n",
      "TL 12.0\n",
      "TC 1\n",
      "TLxTC 12.0\n",
      "---\n"
     ]
    }
   ],
   "source": [
    "number_of_intervals = int(6)\n",
    "\n",
    "multiple_K = Decimal('12')\n",
    "starting_TL = Decimal('1')\n",
    "ending_TL = Decimal('12')\n",
    "\n",
    "interval = (ending_TL - starting_TL) / (number_of_intervals-1)\n",
    "\n",
    "for i in range(number_of_intervals):\n",
    "    TL = starting_TL + i*interval\n",
    "    TC = multiple_K/TL\n",
    "    \n",
    "    print(f\"Interval {i+1}\")\n",
    "    print(f\"TL {TL}\")\n",
    "    print(f\"TC {TC}\")\n",
    "    print(f\"TLxTC {TL*TC}\")\n",
    "    print('---')\n"
   ]
  },
  {
   "cell_type": "code",
   "execution_count": null,
   "metadata": {},
   "outputs": [],
   "source": []
  }
 ],
 "metadata": {
  "language_info": {
   "name": "python"
  },
  "orig_nbformat": 4
 },
 "nbformat": 4,
 "nbformat_minor": 2
}
