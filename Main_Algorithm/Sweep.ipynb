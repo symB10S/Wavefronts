{
 "cells": [
  {
   "cell_type": "code",
   "execution_count": null,
   "metadata": {},
   "outputs": [],
   "source": [
    "import Merge_Cartesian as MC\n",
    "import numpy as np\n",
    "import matplotlib.cm as cm\n",
    "import matplotlib.pyplot as plt\n",
    "import ipywidgets as widgets\n",
    "from IPython.display import display\n",
    "%matplotlib widget"
   ]
  },
  {
   "cell_type": "markdown",
   "metadata": {},
   "source": [
    "# Parameter Sweeps\n",
    "---"
   ]
  },
  {
   "cell_type": "markdown",
   "metadata": {},
   "source": [
    "## Comparing Input Variables"
   ]
  },
  {
   "cell_type": "code",
   "execution_count": null,
   "metadata": {},
   "outputs": [],
   "source": [
    "plt.rcParams[\"figure.figsize\"] = (14, 7)\n",
    "\n",
    "L_Time = '10'\n",
    "C_Time = '10'\n",
    "\n",
    "L_impedance = '10'\n",
    "C_impedance = '1'\n",
    "\n",
    "L_Time_2 = '60'\n",
    "C_Time_2 = '39'\n",
    "\n",
    "L_impedance_2 = '100'\n",
    "C_impedance_2 = '1'\n",
    "\n",
    "number_periods = '2'\n",
    "\n",
    "                 #  IMPEDANCE     ,TIME    ,LENGTH\n",
    "Inductor_List =    [L_impedance   ,L_Time  ,'1']\n",
    "Capacitor_List =   [C_impedance   ,C_Time  ,'1']\n",
    "Inductor_List_2 =  [L_impedance_2 ,L_Time_2,'1']\n",
    "Capacitor_List_2 = [C_impedance_2 ,C_Time_2,'1']\n",
    "\n",
    "              #   VOLTAGE  , PERIODS       , BUCK , LOAD\n",
    "Circuit_List =   ['1'      , number_periods, False, '12']\n",
    "Circuit_List_2 = ['1'      , number_periods, False, '12']\n",
    "\n",
    "(data_input,\n",
    "data_output,\n",
    "data_output_merged, \n",
    "data_output_ordered) = MC.Full_Cycle(Inductor_List,Capacitor_List, Circuit_List)\n",
    "\n",
    "(data_input_2,\n",
    "data_output_2,\n",
    "data_output_merged_2, \n",
    "data_output_ordered_2) = MC.Full_Cycle(Inductor_List_2,Capacitor_List_2, Circuit_List_2)"
   ]
  },
  {
   "cell_type": "code",
   "execution_count": null,
   "metadata": {},
   "outputs": [],
   "source": [
    "fig_reflection, ax_reflection = plt.subplots(1,2)\n",
    "\n",
    "MC.plot_refelction_diagram(data_input,data_output_ordered,100,ax_reflection[0],False)\n",
    "MC.plot_refelction_diagram(data_input_2,data_output_ordered_2,100,ax_reflection[1],False)\n",
    "\n",
    "ax_reflection[0].set_title('')\n",
    "ax_reflection[1].set_title('')\n",
    "\n",
    "plt.subplots_adjust(left=0.1,\n",
    "                    bottom=0.1, \n",
    "                    right=0.9, \n",
    "                    top=0.9, \n",
    "                    wspace=0.4, \n",
    "                    hspace=0.4)"
   ]
  },
  {
   "cell_type": "code",
   "execution_count": null,
   "metadata": {},
   "outputs": [],
   "source": [
    "fig_one, ax_one = plt.subplots()\n",
    "\n",
    "ax_one.get_xaxis().set_ticks([])\n",
    "ax_one.get_yaxis().set_ticks([])\n",
    "\n",
    "MC.plot_fanout_seismic(data_output.get_sending(\"current inductor\"),ax_one,\"Sending Current Inductor\",True,False,2)"
   ]
  },
  {
   "cell_type": "code",
   "execution_count": null,
   "metadata": {},
   "outputs": [],
   "source": [
    "fig_comp_sending, ax_comp_sending = MC.plot_fanout_wavefronts_all(data_output,True, \" Data 2\")"
   ]
  },
  {
   "cell_type": "code",
   "execution_count": null,
   "metadata": {},
   "outputs": [],
   "source": [
    "fig_time, ax_time = plt.subplots(1,2)\n",
    "\n",
    "fig_time.suptitle(\"Time Comparison\")\n",
    "# np.ma.masked_where(a <= 2, a)\n",
    "MC.plot_fanout_colour(np.ma.masked_where(data_output.Time == 0 ,data_output.Time),ax_time[0],\"Data 1\",True,True)\n",
    "MC.plot_fanout_colour(np.ma.masked_where(data_output_2.Time == 0 ,data_output_2.Time),ax_time[1],\"Data 2\",True,True)"
   ]
  },
  {
   "cell_type": "code",
   "execution_count": null,
   "metadata": {},
   "outputs": [],
   "source": [
    "fig_comp, ax_comp = MC.plot_fanout_interconnect_4(data_output)\n",
    "fig_comp.suptitle(\"Data 1 Interconncect Fanouts\")\n",
    "\n",
    "fig_comp_2, ax_comp_2 = MC.plot_fanout_interconnect_4(data_output_2)\n",
    "fig_comp_2.suptitle(\"Data 2 Interconncect Fanouts\")"
   ]
  },
  {
   "cell_type": "code",
   "execution_count": null,
   "metadata": {},
   "outputs": [],
   "source": [
    "fig_comp_merged_sending, ax_comp_merged_sending = MC.plot_fanout_wavefronts_all(data_output_merged,True, \" Data 1\")\n",
    "fig_comp_merged_returning, ax_comp_merged_returning = MC.plot_fanout_wavefronts_all(data_output_merged_2,False, \" Data 2\")"
   ]
  },
  {
   "cell_type": "code",
   "execution_count": null,
   "metadata": {},
   "outputs": [],
   "source": [
    "fig_wave, ax_wave = MC.plot_time_interconnect_4_wavefronts_both(data_output_ordered,data_output_ordered_2)\n",
    "fig_wave.suptitle('Change in Wavefornts, Data 1 vs Data 2')"
   ]
  },
  {
   "cell_type": "code",
   "execution_count": null,
   "metadata": {},
   "outputs": [],
   "source": [
    "fig_inter, ax_inter = MC.plot_time_interconnect_4_both(data_output_ordered,data_output_ordered_2)\n",
    "fig_inter.suptitle('Accumulated change at Interconnect, Data 1 vs Data 2')"
   ]
  },
  {
   "cell_type": "code",
   "execution_count": null,
   "metadata": {},
   "outputs": [],
   "source": [
    "plotting_options = [\"voltage inductor\", \"current inductor\", \"voltage capacitor\", \"current capacitor\"]\n",
    "\n",
    "what_to_plot = plotting_options[1]\n",
    "\n",
    "fig_prog, ax_prog =  MC.plot_time_interconnect_3_both(data_output_merged,data_output_ordered,data_output_merged_2,data_output_ordered_2,what_to_plot)"
   ]
  },
  {
   "cell_type": "code",
   "execution_count": null,
   "metadata": {},
   "outputs": [],
   "source": [
    "fig_dv, ax_dv = plt.subplots()\n",
    "# MC.plot_diff(data_output_ordered.Current_Interconnect_Inductor,data_output_ordered.Time,ax_dv)\n",
    "# MC.plot_diff(data_output_ordered_2.Current_Interconnect_Inductor,data_output_ordered_2.Time,ax_dv)\n",
    "\n",
    "fourier =  np.fft.fft(np.cumsum(data_output_ordered_2.Current_Interconnect_Inductor))\n",
    "# freq = np.fft.fftfreq(data_output_ordered.Time,np.)\n",
    "ax_dv.plot(fourier)"
   ]
  },
  {
   "cell_type": "code",
   "execution_count": null,
   "metadata": {},
   "outputs": [],
   "source": [
    "fig_ind_wave, ax_ind_wave = MC.plot_time_wavefronts_all_both(data_output_ordered,data_output_ordered_2,\"inductor\")\n",
    "\n",
    "fig_cap_wave, ax_cap_wave = MC.plot_time_wavefronts_all_both(data_output_ordered,data_output_ordered_2,\"capacitor\")"
   ]
  },
  {
   "cell_type": "code",
   "execution_count": null,
   "metadata": {},
   "outputs": [],
   "source": [
    "MC.spatial_investigator_ui(data_input, data_output_merged, data_output_ordered)"
   ]
  },
  {
   "cell_type": "code",
   "execution_count": null,
   "metadata": {},
   "outputs": [],
   "source": [
    "MC.spatial_investigator_ui(data_input_2, data_output_merged_2, data_output_ordered_2)"
   ]
  },
  {
   "cell_type": "code",
   "execution_count": null,
   "metadata": {},
   "outputs": [],
   "source": [
    "MC.video_save_ui(data_input, data_output_merged, data_output_ordered)"
   ]
  }
 ],
 "metadata": {
  "kernelspec": {
   "display_name": "Python 3.9.0 64-bit",
   "language": "python",
   "name": "python3"
  },
  "language_info": {
   "codemirror_mode": {
    "name": "ipython",
    "version": 3
   },
   "file_extension": ".py",
   "mimetype": "text/x-python",
   "name": "python",
   "nbconvert_exporter": "python",
   "pygments_lexer": "ipython3",
   "version": "3.9.0"
  },
  "orig_nbformat": 4,
  "vscode": {
   "interpreter": {
    "hash": "81794d4967e6c3204c66dcd87b604927b115b27c00565d3d43f05ba2f3a2cb0d"
   }
  }
 },
 "nbformat": 4,
 "nbformat_minor": 2
}
