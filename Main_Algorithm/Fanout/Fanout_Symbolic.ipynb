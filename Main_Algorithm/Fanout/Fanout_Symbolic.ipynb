{
 "cells": [
  {
   "cell_type": "code",
   "execution_count": 1,
   "metadata": {},
   "outputs": [],
   "source": [
    "from sympy import *\n",
    "from collections import deque\n",
    "import matplotlib.pyplot as plt\n",
    "import matplotlib as mpl\n",
    "import matplotlib.cm as cm\n",
    "\n",
    "init_printing(use_unicode=True)"
   ]
  },
  {
   "cell_type": "code",
   "execution_count": 2,
   "metadata": {},
   "outputs": [],
   "source": [
    "number_lines = 10\n",
    "\n",
    "vs, io, za, zb, reflection = symbols('V_S I_o Z_L Z_C Gamma')\n",
    "\n",
    "io = vs/(za+zb)\n",
    "reflection = (za - zb)/(za + zb)\n",
    "\n",
    "AA_v = (-reflection)\n",
    "AA_i = reflection\n",
    "AA = Matrix([AA_v,AA_i])\n",
    "\n",
    "AB_v = (-(1-reflection))\n",
    "AB_i = (1+reflection)\n",
    "AB = Matrix([AB_v,AB_i])\n",
    "\n",
    "BA_v = -(1+reflection)\n",
    "BA_i = (1-reflection)\n",
    "BA = Matrix([BA_v,BA_i])\n",
    "\n",
    "BB_v = (reflection)\n",
    "BB_i = -(reflection)\n",
    "BB = Matrix([BB_v,BB_i])\n",
    "\n",
    "SC = Matrix([-1,1])\n",
    "OC = Matrix([1,-1])"
   ]
  },
  {
   "cell_type": "code",
   "execution_count": 3,
   "metadata": {},
   "outputs": [],
   "source": [
    "def reflect_self_A(m):\n",
    "    return simplify(expand(matrix_multiply_elementwise(m,SC)))\n",
    "\n",
    "def reflect_self_B(m):\n",
    "    return simplify(expand(matrix_multiply_elementwise(m,OC)))\n",
    "\n",
    "def reflect_AA(m):\n",
    "    return simplify(expand(matrix_multiply_elementwise(m,AA)))\n",
    "\n",
    "def reflect_AB(m):\n",
    "    return simplify(expand(matrix_multiply_elementwise(m,AB)))\n",
    "\n",
    "def reflect_BA(m):\n",
    "    return simplify(expand(matrix_multiply_elementwise(m,BA)))\n",
    "\n",
    "def reflect_BB(m):\n",
    "    return simplify(expand(matrix_multiply_elementwise(m,BB)))"
   ]
  },
  {
   "cell_type": "code",
   "execution_count": 4,
   "metadata": {},
   "outputs": [],
   "source": [
    "a_i = Matrix([za*io,io])\n",
    "b_i = Matrix([zb*io,io])"
   ]
  },
  {
   "cell_type": "code",
   "execution_count": 5,
   "metadata": {},
   "outputs": [],
   "source": [
    "fan_out_rows = [[a_i, b_i]]\n",
    "\n",
    "for i in range(1,number_lines):\n",
    "\n",
    "    # Generate Self Reflected Wavefronts\n",
    "\n",
    "    self_reflect_wavefronts = []\n",
    "    most_recent_row = fan_out_rows[-1]\n",
    "    is_A = True\n",
    "\n",
    "    for wavefront in most_recent_row:\n",
    "\n",
    "        if(is_A):\n",
    "            temp_wavefront = reflect_self_A(wavefront)\n",
    "            is_A = False\n",
    "        else:\n",
    "            temp_wavefront = reflect_self_B(wavefront)\n",
    "            is_A = True\n",
    "        \n",
    "        self_reflect_wavefronts.append(temp_wavefront)\n",
    "\n",
    "    fan_out_rows.append(self_reflect_wavefronts)\n",
    "\n",
    "    # Generate New Wavefronts\n",
    "    generated_wavefronts = deque()\n",
    "    merged_wavefronts = []\n",
    "    most_recent_row = fan_out_rows[-1]\n",
    "    is_A = True\n",
    "\n",
    "    for wavefront in most_recent_row:\n",
    "        if(is_A):\n",
    "            temp_wavefront_A = reflect_AA(wavefront)\n",
    "            temp_wavefront_B = reflect_AB(wavefront)\n",
    "            is_A = False\n",
    "        else:\n",
    "            temp_wavefront_A = reflect_BA(wavefront)\n",
    "            temp_wavefront_B = reflect_BB(wavefront)\n",
    "            is_A = True\n",
    "\n",
    "        generated_wavefronts.append(temp_wavefront_A)\n",
    "        generated_wavefronts.append(temp_wavefront_B)\n",
    "\n",
    "    is_First_Wavefronts = True\n",
    "    while len(generated_wavefronts) > 0:\n",
    "\n",
    "        wavefront_A =  generated_wavefronts.popleft()\n",
    "        wavefront_B =  generated_wavefronts.popleft()\n",
    "\n",
    "        if(is_First_Wavefronts):\n",
    "            merged_wavefronts.append(wavefront_A)\n",
    "            merged_wavefronts.append(wavefront_B)\n",
    "            is_First_Wavefronts = False\n",
    "\n",
    "        elif(len(generated_wavefronts)==0):\n",
    "            merged_wavefronts.append(wavefront_A)\n",
    "            merged_wavefronts.append(wavefront_B)\n",
    "\n",
    "        else:\n",
    "            wavefront_A2 = generated_wavefronts.popleft()\n",
    "            wavefront_B2 = generated_wavefronts.popleft()\n",
    "\n",
    "            wavefront_A = simplify(expand(wavefront_A + wavefront_A2))\n",
    "            wavefront_B = simplify(expand(wavefront_B + wavefront_B2))\n",
    "\n",
    "            merged_wavefronts.append(wavefront_A)\n",
    "            merged_wavefronts.append(wavefront_B)\n",
    "\n",
    "    fan_out_rows.append(list(merged_wavefronts))\n"
   ]
  },
  {
   "cell_type": "code",
   "execution_count": 6,
   "metadata": {},
   "outputs": [
    {
     "data": {
      "text/latex": [
       "$\\displaystyle \\left[ \\left[\\begin{matrix}\\frac{V_{S} Z_{L}}{Z_{C} + Z_{L}}\\\\\\frac{V_{S}}{Z_{C} + Z_{L}}\\end{matrix}\\right], \\  \\left[\\begin{matrix}\\frac{V_{S} Z_{C}}{Z_{C} + Z_{L}}\\\\\\frac{V_{S}}{Z_{C} + Z_{L}}\\end{matrix}\\right]\\right]$"
      ],
      "text/plain": [
       "⎡⎡ V_S⋅Z_L ⎤  ⎡ V_S⋅Z_C ⎤⎤\n",
       "⎢⎢─────────⎥  ⎢─────────⎥⎥\n",
       "⎢⎢Z_C + Z_L⎥  ⎢Z_C + Z_L⎥⎥\n",
       "⎢⎢         ⎥, ⎢         ⎥⎥\n",
       "⎢⎢   V_S   ⎥  ⎢   V_S   ⎥⎥\n",
       "⎢⎢─────────⎥  ⎢─────────⎥⎥\n",
       "⎣⎣Z_C + Z_L⎦  ⎣Z_C + Z_L⎦⎦"
      ]
     },
     "execution_count": 6,
     "metadata": {},
     "output_type": "execute_result"
    }
   ],
   "source": [
    "fan_out_rows[0]"
   ]
  },
  {
   "cell_type": "code",
   "execution_count": 7,
   "metadata": {},
   "outputs": [
    {
     "data": {
      "text/latex": [
       "$\\displaystyle \\left[ \\left[\\begin{matrix}- \\frac{V_{S} Z_{L}}{Z_{C} + Z_{L}}\\\\\\frac{V_{S}}{Z_{C} + Z_{L}}\\end{matrix}\\right], \\  \\left[\\begin{matrix}\\frac{V_{S} Z_{C}}{Z_{C} + Z_{L}}\\\\- \\frac{V_{S}}{Z_{C} + Z_{L}}\\end{matrix}\\right]\\right]$"
      ],
      "text/plain": [
       "⎡⎡-V_S⋅Z_L ⎤  ⎡ V_S⋅Z_C ⎤⎤\n",
       "⎢⎢─────────⎥  ⎢─────────⎥⎥\n",
       "⎢⎢Z_C + Z_L⎥  ⎢Z_C + Z_L⎥⎥\n",
       "⎢⎢         ⎥, ⎢         ⎥⎥\n",
       "⎢⎢   V_S   ⎥  ⎢  -V_S   ⎥⎥\n",
       "⎢⎢─────────⎥  ⎢─────────⎥⎥\n",
       "⎣⎣Z_C + Z_L⎦  ⎣Z_C + Z_L⎦⎦"
      ]
     },
     "execution_count": 7,
     "metadata": {},
     "output_type": "execute_result"
    }
   ],
   "source": [
    "fan_out_rows[1]"
   ]
  },
  {
   "cell_type": "code",
   "execution_count": 8,
   "metadata": {},
   "outputs": [
    {
     "data": {
      "text/latex": [
       "$\\displaystyle \\left[ \\left[\\begin{matrix}\\frac{V_{S} Z_{L} \\left(- Z_{C} + Z_{L}\\right)}{Z_{C}^{2} + 2 Z_{C} Z_{L} + Z_{L}^{2}}\\\\\\frac{V_{S} \\left(- Z_{C} + Z_{L}\\right)}{Z_{C}^{2} + 2 Z_{C} Z_{L} + Z_{L}^{2}}\\end{matrix}\\right], \\  \\left[\\begin{matrix}\\frac{2 V_{S} Z_{C} Z_{L}}{Z_{C}^{2} + 2 Z_{C} Z_{L} + Z_{L}^{2}}\\\\\\frac{2 V_{S} Z_{L}}{Z_{C}^{2} + 2 Z_{C} Z_{L} + Z_{L}^{2}}\\end{matrix}\\right], \\  \\left[\\begin{matrix}- \\frac{2 V_{S} Z_{C} Z_{L}}{Z_{C}^{2} + 2 Z_{C} Z_{L} + Z_{L}^{2}}\\\\- \\frac{2 V_{S} Z_{C}}{Z_{C}^{2} + 2 Z_{C} Z_{L} + Z_{L}^{2}}\\end{matrix}\\right], \\  \\left[\\begin{matrix}\\frac{V_{S} Z_{C} \\left(- Z_{C} + Z_{L}\\right)}{Z_{C}^{2} + 2 Z_{C} Z_{L} + Z_{L}^{2}}\\\\\\frac{V_{S} \\left(- Z_{C} + Z_{L}\\right)}{Z_{C}^{2} + 2 Z_{C} Z_{L} + Z_{L}^{2}}\\end{matrix}\\right]\\right]$"
      ],
      "text/plain": [
       "⎡⎡  V_S⋅Z_L⋅(-Z_C + Z_L) ⎤  ⎡     2⋅V_S⋅Z_C⋅Z_L     ⎤  ⎡    -2⋅V_S⋅Z_C⋅Z_L    \n",
       "⎢⎢───────────────────────⎥  ⎢───────────────────────⎥  ⎢──────────────────────\n",
       "⎢⎢   2                  2⎥  ⎢   2                  2⎥  ⎢   2                  \n",
       "⎢⎢Z_C  + 2⋅Z_C⋅Z_L + Z_L ⎥  ⎢Z_C  + 2⋅Z_C⋅Z_L + Z_L ⎥  ⎢Z_C  + 2⋅Z_C⋅Z_L + Z_L\n",
       "⎢⎢                       ⎥, ⎢                       ⎥, ⎢                      \n",
       "⎢⎢    V_S⋅(-Z_C + Z_L)   ⎥  ⎢       2⋅V_S⋅Z_L       ⎥  ⎢      -2⋅V_S⋅Z_C      \n",
       "⎢⎢───────────────────────⎥  ⎢───────────────────────⎥  ⎢──────────────────────\n",
       "⎢⎢   2                  2⎥  ⎢   2                  2⎥  ⎢   2                  \n",
       "⎣⎣Z_C  + 2⋅Z_C⋅Z_L + Z_L ⎦  ⎣Z_C  + 2⋅Z_C⋅Z_L + Z_L ⎦  ⎣Z_C  + 2⋅Z_C⋅Z_L + Z_L\n",
       "\n",
       " ⎤  ⎡  V_S⋅Z_C⋅(-Z_C + Z_L) ⎤⎤\n",
       "─⎥  ⎢───────────────────────⎥⎥\n",
       "2⎥  ⎢   2                  2⎥⎥\n",
       " ⎥  ⎢Z_C  + 2⋅Z_C⋅Z_L + Z_L ⎥⎥\n",
       " ⎥, ⎢                       ⎥⎥\n",
       " ⎥  ⎢    V_S⋅(-Z_C + Z_L)   ⎥⎥\n",
       "─⎥  ⎢───────────────────────⎥⎥\n",
       "2⎥  ⎢   2                  2⎥⎥\n",
       " ⎦  ⎣Z_C  + 2⋅Z_C⋅Z_L + Z_L ⎦⎦"
      ]
     },
     "execution_count": 8,
     "metadata": {},
     "output_type": "execute_result"
    }
   ],
   "source": [
    "fan_out_rows[2]"
   ]
  },
  {
   "cell_type": "code",
   "execution_count": 9,
   "metadata": {},
   "outputs": [
    {
     "data": {
      "text/latex": [
       "$\\displaystyle \\left[ \\left[\\begin{matrix}\\frac{V_{S} Z_{L} \\left(Z_{C} - Z_{L}\\right)}{Z_{C}^{2} + 2 Z_{C} Z_{L} + Z_{L}^{2}}\\\\\\frac{V_{S} \\left(- Z_{C} + Z_{L}\\right)}{Z_{C}^{2} + 2 Z_{C} Z_{L} + Z_{L}^{2}}\\end{matrix}\\right], \\  \\left[\\begin{matrix}\\frac{2 V_{S} Z_{C} Z_{L}}{Z_{C}^{2} + 2 Z_{C} Z_{L} + Z_{L}^{2}}\\\\- \\frac{2 V_{S} Z_{L}}{Z_{C}^{2} + 2 Z_{C} Z_{L} + Z_{L}^{2}}\\end{matrix}\\right], \\  \\left[\\begin{matrix}\\frac{2 V_{S} Z_{C} Z_{L}}{Z_{C}^{2} + 2 Z_{C} Z_{L} + Z_{L}^{2}}\\\\- \\frac{2 V_{S} Z_{C}}{Z_{C}^{2} + 2 Z_{C} Z_{L} + Z_{L}^{2}}\\end{matrix}\\right], \\  \\left[\\begin{matrix}\\frac{V_{S} Z_{C} \\left(- Z_{C} + Z_{L}\\right)}{Z_{C}^{2} + 2 Z_{C} Z_{L} + Z_{L}^{2}}\\\\\\frac{V_{S} \\left(Z_{C} - Z_{L}\\right)}{Z_{C}^{2} + 2 Z_{C} Z_{L} + Z_{L}^{2}}\\end{matrix}\\right]\\right]$"
      ],
      "text/plain": [
       "⎡⎡  V_S⋅Z_L⋅(Z_C - Z_L)  ⎤  ⎡     2⋅V_S⋅Z_C⋅Z_L     ⎤  ⎡     2⋅V_S⋅Z_C⋅Z_L    \n",
       "⎢⎢───────────────────────⎥  ⎢───────────────────────⎥  ⎢──────────────────────\n",
       "⎢⎢   2                  2⎥  ⎢   2                  2⎥  ⎢   2                  \n",
       "⎢⎢Z_C  + 2⋅Z_C⋅Z_L + Z_L ⎥  ⎢Z_C  + 2⋅Z_C⋅Z_L + Z_L ⎥  ⎢Z_C  + 2⋅Z_C⋅Z_L + Z_L\n",
       "⎢⎢                       ⎥, ⎢                       ⎥, ⎢                      \n",
       "⎢⎢    V_S⋅(-Z_C + Z_L)   ⎥  ⎢      -2⋅V_S⋅Z_L       ⎥  ⎢      -2⋅V_S⋅Z_C      \n",
       "⎢⎢───────────────────────⎥  ⎢───────────────────────⎥  ⎢──────────────────────\n",
       "⎢⎢   2                  2⎥  ⎢   2                  2⎥  ⎢   2                  \n",
       "⎣⎣Z_C  + 2⋅Z_C⋅Z_L + Z_L ⎦  ⎣Z_C  + 2⋅Z_C⋅Z_L + Z_L ⎦  ⎣Z_C  + 2⋅Z_C⋅Z_L + Z_L\n",
       "\n",
       " ⎤  ⎡  V_S⋅Z_C⋅(-Z_C + Z_L) ⎤⎤\n",
       "─⎥  ⎢───────────────────────⎥⎥\n",
       "2⎥  ⎢   2                  2⎥⎥\n",
       " ⎥  ⎢Z_C  + 2⋅Z_C⋅Z_L + Z_L ⎥⎥\n",
       " ⎥, ⎢                       ⎥⎥\n",
       " ⎥  ⎢    V_S⋅(Z_C - Z_L)    ⎥⎥\n",
       "─⎥  ⎢───────────────────────⎥⎥\n",
       "2⎥  ⎢   2                  2⎥⎥\n",
       " ⎦  ⎣Z_C  + 2⋅Z_C⋅Z_L + Z_L ⎦⎦"
      ]
     },
     "execution_count": 9,
     "metadata": {},
     "output_type": "execute_result"
    }
   ],
   "source": [
    "fan_out_rows[3]"
   ]
  },
  {
   "cell_type": "code",
   "execution_count": 10,
   "metadata": {},
   "outputs": [
    {
     "data": {
      "text/latex": [
       "$\\displaystyle \\left[ \\left[\\begin{matrix}\\frac{V_{S} Z_{L} \\left(Z_{C}^{2} - 2 Z_{C} Z_{L} + Z_{L}^{2}\\right)}{Z_{C}^{3} + 3 Z_{C}^{2} Z_{L} + 3 Z_{C} Z_{L}^{2} + Z_{L}^{3}}\\\\\\frac{V_{S} \\left(Z_{C}^{2} - 2 Z_{C} Z_{L} + Z_{L}^{2}\\right)}{Z_{C}^{3} + 3 Z_{C}^{2} Z_{L} + 3 Z_{C} Z_{L}^{2} + Z_{L}^{3}}\\end{matrix}\\right], \\  \\left[\\begin{matrix}\\frac{2 V_{S} Z_{C} Z_{L} \\left(- Z_{C} + Z_{L}\\right)}{Z_{C}^{3} + 3 Z_{C}^{2} Z_{L} + 3 Z_{C} Z_{L}^{2} + Z_{L}^{3}}\\\\\\frac{2 V_{S} Z_{L} \\left(- Z_{C} + Z_{L}\\right)}{Z_{C}^{3} + 3 Z_{C}^{2} Z_{L} + 3 Z_{C} Z_{L}^{2} + Z_{L}^{3}}\\end{matrix}\\right], \\  \\left[\\begin{matrix}\\frac{2 V_{S} Z_{C} Z_{L} \\left(Z_{C} - 3 Z_{L}\\right)}{Z_{C}^{3} + 3 Z_{C}^{2} Z_{L} + 3 Z_{C} Z_{L}^{2} + Z_{L}^{3}}\\\\\\frac{2 V_{S} Z_{C} \\left(Z_{C} - 3 Z_{L}\\right)}{Z_{C}^{3} + 3 Z_{C}^{2} Z_{L} + 3 Z_{C} Z_{L}^{2} + Z_{L}^{3}}\\end{matrix}\\right], \\  \\left[\\begin{matrix}\\frac{2 V_{S} Z_{C} Z_{L} \\left(- 3 Z_{C} + Z_{L}\\right)}{Z_{C}^{3} + 3 Z_{C}^{2} Z_{L} + 3 Z_{C} Z_{L}^{2} + Z_{L}^{3}}\\\\\\frac{2 V_{S} Z_{L} \\left(- 3 Z_{C} + Z_{L}\\right)}{Z_{C}^{3} + 3 Z_{C}^{2} Z_{L} + 3 Z_{C} Z_{L}^{2} + Z_{L}^{3}}\\end{matrix}\\right], \\  \\left[\\begin{matrix}\\frac{2 V_{S} Z_{C} Z_{L} \\left(Z_{C} - Z_{L}\\right)}{Z_{C}^{3} + 3 Z_{C}^{2} Z_{L} + 3 Z_{C} Z_{L}^{2} + Z_{L}^{3}}\\\\\\frac{2 V_{S} Z_{C} \\left(Z_{C} - Z_{L}\\right)}{Z_{C}^{3} + 3 Z_{C}^{2} Z_{L} + 3 Z_{C} Z_{L}^{2} + Z_{L}^{3}}\\end{matrix}\\right], \\  \\left[\\begin{matrix}\\frac{V_{S} Z_{C} \\left(Z_{C}^{2} - 2 Z_{C} Z_{L} + Z_{L}^{2}\\right)}{Z_{C}^{3} + 3 Z_{C}^{2} Z_{L} + 3 Z_{C} Z_{L}^{2} + Z_{L}^{3}}\\\\\\frac{V_{S} \\left(Z_{C}^{2} - 2 Z_{C} Z_{L} + Z_{L}^{2}\\right)}{Z_{C}^{3} + 3 Z_{C}^{2} Z_{L} + 3 Z_{C} Z_{L}^{2} + Z_{L}^{3}}\\end{matrix}\\right]\\right]$"
      ],
      "text/plain": [
       "⎡⎡          ⎛   2                  2⎞  ⎤                                      \n",
       "⎢⎢  V_S⋅Z_L⋅⎝Z_C  - 2⋅Z_C⋅Z_L + Z_L ⎠  ⎥  ⎡      2⋅V_S⋅Z_C⋅Z_L⋅(-Z_C + Z_L)   \n",
       "⎢⎢─────────────────────────────────────⎥  ⎢───────────────────────────────────\n",
       "⎢⎢   3        2                2      3⎥  ⎢   3        2                2     \n",
       "⎢⎢Z_C  + 3⋅Z_C ⋅Z_L + 3⋅Z_C⋅Z_L  + Z_L ⎥  ⎢Z_C  + 3⋅Z_C ⋅Z_L + 3⋅Z_C⋅Z_L  + Z_\n",
       "⎢⎢                                     ⎥, ⎢                                   \n",
       "⎢⎢        ⎛   2                  2⎞    ⎥  ⎢        2⋅V_S⋅Z_L⋅(-Z_C + Z_L)     \n",
       "⎢⎢    V_S⋅⎝Z_C  - 2⋅Z_C⋅Z_L + Z_L ⎠    ⎥  ⎢───────────────────────────────────\n",
       "⎢⎢─────────────────────────────────────⎥  ⎢   3        2                2     \n",
       "⎢⎢   3        2                2      3⎥  ⎣Z_C  + 3⋅Z_C ⋅Z_L + 3⋅Z_C⋅Z_L  + Z_\n",
       "⎣⎣Z_C  + 3⋅Z_C ⋅Z_L + 3⋅Z_C⋅Z_L  + Z_L ⎦                                      \n",
       "\n",
       "                                                                              \n",
       "  ⎤  ⎡     2⋅V_S⋅Z_C⋅Z_L⋅(Z_C - 3⋅Z_L)     ⎤  ⎡     2⋅V_S⋅Z_C⋅Z_L⋅(-3⋅Z_C + Z_\n",
       "──⎥  ⎢─────────────────────────────────────⎥  ⎢───────────────────────────────\n",
       " 3⎥  ⎢   3        2                2      3⎥  ⎢   3        2                2 \n",
       "L ⎥  ⎢Z_C  + 3⋅Z_C ⋅Z_L + 3⋅Z_C⋅Z_L  + Z_L ⎥  ⎢Z_C  + 3⋅Z_C ⋅Z_L + 3⋅Z_C⋅Z_L  \n",
       "  ⎥, ⎢                                     ⎥, ⎢                               \n",
       "  ⎥  ⎢       2⋅V_S⋅Z_C⋅(Z_C - 3⋅Z_L)       ⎥  ⎢       2⋅V_S⋅Z_L⋅(-3⋅Z_C + Z_L)\n",
       "──⎥  ⎢─────────────────────────────────────⎥  ⎢───────────────────────────────\n",
       " 3⎥  ⎢   3        2                2      3⎥  ⎢   3        2                2 \n",
       "L ⎦  ⎣Z_C  + 3⋅Z_C ⋅Z_L + 3⋅Z_C⋅Z_L  + Z_L ⎦  ⎣Z_C  + 3⋅Z_C ⋅Z_L + 3⋅Z_C⋅Z_L  \n",
       "                                                                              \n",
       "\n",
       "                                                  ⎡          ⎛   2            \n",
       "L)    ⎤  ⎡      2⋅V_S⋅Z_C⋅Z_L⋅(Z_C - Z_L)      ⎤  ⎢  V_S⋅Z_C⋅⎝Z_C  - 2⋅Z_C⋅Z_L\n",
       "──────⎥  ⎢─────────────────────────────────────⎥  ⎢───────────────────────────\n",
       "     3⎥  ⎢   3        2                2      3⎥  ⎢   3        2              \n",
       "+ Z_L ⎥  ⎢Z_C  + 3⋅Z_C ⋅Z_L + 3⋅Z_C⋅Z_L  + Z_L ⎥  ⎢Z_C  + 3⋅Z_C ⋅Z_L + 3⋅Z_C⋅Z\n",
       "      ⎥, ⎢                                     ⎥, ⎢                           \n",
       "      ⎥  ⎢        2⋅V_S⋅Z_C⋅(Z_C - Z_L)        ⎥  ⎢        ⎛   2              \n",
       "──────⎥  ⎢─────────────────────────────────────⎥  ⎢    V_S⋅⎝Z_C  - 2⋅Z_C⋅Z_L +\n",
       "     3⎥  ⎢   3        2                2      3⎥  ⎢───────────────────────────\n",
       "+ Z_L ⎦  ⎣Z_C  + 3⋅Z_C ⋅Z_L + 3⋅Z_C⋅Z_L  + Z_L ⎦  ⎢   3        2              \n",
       "                                                  ⎣Z_C  + 3⋅Z_C ⋅Z_L + 3⋅Z_C⋅Z\n",
       "\n",
       "      2⎞  ⎤⎤\n",
       " + Z_L ⎠  ⎥⎥\n",
       "──────────⎥⎥\n",
       "  2      3⎥⎥\n",
       "_L  + Z_L ⎥⎥\n",
       "          ⎥⎥\n",
       "    2⎞    ⎥⎥\n",
       " Z_L ⎠    ⎥⎥\n",
       "──────────⎥⎥\n",
       "  2      3⎥⎥\n",
       "_L  + Z_L ⎦⎦"
      ]
     },
     "execution_count": 10,
     "metadata": {},
     "output_type": "execute_result"
    }
   ],
   "source": [
    "fan_out_rows[4]"
   ]
  },
  {
   "cell_type": "code",
   "execution_count": 11,
   "metadata": {},
   "outputs": [
    {
     "data": {
      "text/latex": [
       "$\\displaystyle \\left[ \\left[\\begin{matrix}\\frac{V_{S} Z_{L} \\left(- Z_{C}^{2} + 2 Z_{C} Z_{L} - Z_{L}^{2}\\right)}{Z_{C}^{3} + 3 Z_{C}^{2} Z_{L} + 3 Z_{C} Z_{L}^{2} + Z_{L}^{3}}\\\\\\frac{V_{S} \\left(Z_{C}^{2} - 2 Z_{C} Z_{L} + Z_{L}^{2}\\right)}{Z_{C}^{3} + 3 Z_{C}^{2} Z_{L} + 3 Z_{C} Z_{L}^{2} + Z_{L}^{3}}\\end{matrix}\\right], \\  \\left[\\begin{matrix}\\frac{2 V_{S} Z_{C} Z_{L} \\left(- Z_{C} + Z_{L}\\right)}{Z_{C}^{3} + 3 Z_{C}^{2} Z_{L} + 3 Z_{C} Z_{L}^{2} + Z_{L}^{3}}\\\\\\frac{2 V_{S} Z_{L} \\left(Z_{C} - Z_{L}\\right)}{Z_{C}^{3} + 3 Z_{C}^{2} Z_{L} + 3 Z_{C} Z_{L}^{2} + Z_{L}^{3}}\\end{matrix}\\right], \\  \\left[\\begin{matrix}\\frac{2 V_{S} Z_{C} Z_{L} \\left(- Z_{C} + 3 Z_{L}\\right)}{Z_{C}^{3} + 3 Z_{C}^{2} Z_{L} + 3 Z_{C} Z_{L}^{2} + Z_{L}^{3}}\\\\\\frac{2 V_{S} Z_{C} \\left(Z_{C} - 3 Z_{L}\\right)}{Z_{C}^{3} + 3 Z_{C}^{2} Z_{L} + 3 Z_{C} Z_{L}^{2} + Z_{L}^{3}}\\end{matrix}\\right], \\  \\left[\\begin{matrix}\\frac{2 V_{S} Z_{C} Z_{L} \\left(- 3 Z_{C} + Z_{L}\\right)}{Z_{C}^{3} + 3 Z_{C}^{2} Z_{L} + 3 Z_{C} Z_{L}^{2} + Z_{L}^{3}}\\\\\\frac{2 V_{S} Z_{L} \\left(3 Z_{C} - Z_{L}\\right)}{Z_{C}^{3} + 3 Z_{C}^{2} Z_{L} + 3 Z_{C} Z_{L}^{2} + Z_{L}^{3}}\\end{matrix}\\right], \\  \\left[\\begin{matrix}\\frac{2 V_{S} Z_{C} Z_{L} \\left(- Z_{C} + Z_{L}\\right)}{Z_{C}^{3} + 3 Z_{C}^{2} Z_{L} + 3 Z_{C} Z_{L}^{2} + Z_{L}^{3}}\\\\\\frac{2 V_{S} Z_{C} \\left(Z_{C} - Z_{L}\\right)}{Z_{C}^{3} + 3 Z_{C}^{2} Z_{L} + 3 Z_{C} Z_{L}^{2} + Z_{L}^{3}}\\end{matrix}\\right], \\  \\left[\\begin{matrix}\\frac{V_{S} Z_{C} \\left(Z_{C}^{2} - 2 Z_{C} Z_{L} + Z_{L}^{2}\\right)}{Z_{C}^{3} + 3 Z_{C}^{2} Z_{L} + 3 Z_{C} Z_{L}^{2} + Z_{L}^{3}}\\\\\\frac{V_{S} \\left(- Z_{C}^{2} + 2 Z_{C} Z_{L} - Z_{L}^{2}\\right)}{Z_{C}^{3} + 3 Z_{C}^{2} Z_{L} + 3 Z_{C} Z_{L}^{2} + Z_{L}^{3}}\\end{matrix}\\right]\\right]$"
      ],
      "text/plain": [
       "⎡⎡         ⎛     2                  2⎞ ⎤                                      \n",
       "⎢⎢ V_S⋅Z_L⋅⎝- Z_C  + 2⋅Z_C⋅Z_L - Z_L ⎠ ⎥  ⎡      2⋅V_S⋅Z_C⋅Z_L⋅(-Z_C + Z_L)   \n",
       "⎢⎢─────────────────────────────────────⎥  ⎢───────────────────────────────────\n",
       "⎢⎢   3        2                2      3⎥  ⎢   3        2                2     \n",
       "⎢⎢Z_C  + 3⋅Z_C ⋅Z_L + 3⋅Z_C⋅Z_L  + Z_L ⎥  ⎢Z_C  + 3⋅Z_C ⋅Z_L + 3⋅Z_C⋅Z_L  + Z_\n",
       "⎢⎢                                     ⎥, ⎢                                   \n",
       "⎢⎢        ⎛   2                  2⎞    ⎥  ⎢        2⋅V_S⋅Z_L⋅(Z_C - Z_L)      \n",
       "⎢⎢    V_S⋅⎝Z_C  - 2⋅Z_C⋅Z_L + Z_L ⎠    ⎥  ⎢───────────────────────────────────\n",
       "⎢⎢─────────────────────────────────────⎥  ⎢   3        2                2     \n",
       "⎢⎢   3        2                2      3⎥  ⎣Z_C  + 3⋅Z_C ⋅Z_L + 3⋅Z_C⋅Z_L  + Z_\n",
       "⎣⎣Z_C  + 3⋅Z_C ⋅Z_L + 3⋅Z_C⋅Z_L  + Z_L ⎦                                      \n",
       "\n",
       "                                                                              \n",
       "  ⎤  ⎡     2⋅V_S⋅Z_C⋅Z_L⋅(-Z_C + 3⋅Z_L)    ⎤  ⎡     2⋅V_S⋅Z_C⋅Z_L⋅(-3⋅Z_C + Z_\n",
       "──⎥  ⎢─────────────────────────────────────⎥  ⎢───────────────────────────────\n",
       " 3⎥  ⎢   3        2                2      3⎥  ⎢   3        2                2 \n",
       "L ⎥  ⎢Z_C  + 3⋅Z_C ⋅Z_L + 3⋅Z_C⋅Z_L  + Z_L ⎥  ⎢Z_C  + 3⋅Z_C ⋅Z_L + 3⋅Z_C⋅Z_L  \n",
       "  ⎥, ⎢                                     ⎥, ⎢                               \n",
       "  ⎥  ⎢       2⋅V_S⋅Z_C⋅(Z_C - 3⋅Z_L)       ⎥  ⎢       2⋅V_S⋅Z_L⋅(3⋅Z_C - Z_L) \n",
       "──⎥  ⎢─────────────────────────────────────⎥  ⎢───────────────────────────────\n",
       " 3⎥  ⎢   3        2                2      3⎥  ⎢   3        2                2 \n",
       "L ⎦  ⎣Z_C  + 3⋅Z_C ⋅Z_L + 3⋅Z_C⋅Z_L  + Z_L ⎦  ⎣Z_C  + 3⋅Z_C ⋅Z_L + 3⋅Z_C⋅Z_L  \n",
       "                                                                              \n",
       "\n",
       "                                                  ⎡          ⎛   2            \n",
       "L)    ⎤  ⎡      2⋅V_S⋅Z_C⋅Z_L⋅(-Z_C + Z_L)     ⎤  ⎢  V_S⋅Z_C⋅⎝Z_C  - 2⋅Z_C⋅Z_L\n",
       "──────⎥  ⎢─────────────────────────────────────⎥  ⎢───────────────────────────\n",
       "     3⎥  ⎢   3        2                2      3⎥  ⎢   3        2              \n",
       "+ Z_L ⎥  ⎢Z_C  + 3⋅Z_C ⋅Z_L + 3⋅Z_C⋅Z_L  + Z_L ⎥  ⎢Z_C  + 3⋅Z_C ⋅Z_L + 3⋅Z_C⋅Z\n",
       "      ⎥, ⎢                                     ⎥, ⎢                           \n",
       "      ⎥  ⎢        2⋅V_S⋅Z_C⋅(Z_C - Z_L)        ⎥  ⎢       ⎛     2             \n",
       "──────⎥  ⎢─────────────────────────────────────⎥  ⎢   V_S⋅⎝- Z_C  + 2⋅Z_C⋅Z_L \n",
       "     3⎥  ⎢   3        2                2      3⎥  ⎢───────────────────────────\n",
       "+ Z_L ⎦  ⎣Z_C  + 3⋅Z_C ⋅Z_L + 3⋅Z_C⋅Z_L  + Z_L ⎦  ⎢   3        2              \n",
       "                                                  ⎣Z_C  + 3⋅Z_C ⋅Z_L + 3⋅Z_C⋅Z\n",
       "\n",
       "      2⎞  ⎤⎤\n",
       " + Z_L ⎠  ⎥⎥\n",
       "──────────⎥⎥\n",
       "  2      3⎥⎥\n",
       "_L  + Z_L ⎥⎥\n",
       "          ⎥⎥\n",
       "     2⎞   ⎥⎥\n",
       "- Z_L ⎠   ⎥⎥\n",
       "──────────⎥⎥\n",
       "  2      3⎥⎥\n",
       "_L  + Z_L ⎦⎦"
      ]
     },
     "execution_count": 11,
     "metadata": {},
     "output_type": "execute_result"
    }
   ],
   "source": [
    "fan_out_rows[5]"
   ]
  },
  {
   "cell_type": "code",
   "execution_count": 12,
   "metadata": {},
   "outputs": [
    {
     "data": {
      "text/latex": [
       "$\\displaystyle \\left[ \\left[\\begin{matrix}\\frac{V_{S} Z_{L} \\left(- Z_{C}^{3} + 3 Z_{C}^{2} Z_{L} - 3 Z_{C} Z_{L}^{2} + Z_{L}^{3}\\right)}{Z_{C}^{4} + 4 Z_{C}^{3} Z_{L} + 6 Z_{C}^{2} Z_{L}^{2} + 4 Z_{C} Z_{L}^{3} + Z_{L}^{4}}\\\\\\frac{V_{S} \\left(- Z_{C}^{3} + 3 Z_{C}^{2} Z_{L} - 3 Z_{C} Z_{L}^{2} + Z_{L}^{3}\\right)}{Z_{C}^{4} + 4 Z_{C}^{3} Z_{L} + 6 Z_{C}^{2} Z_{L}^{2} + 4 Z_{C} Z_{L}^{3} + Z_{L}^{4}}\\end{matrix}\\right], \\  \\left[\\begin{matrix}\\frac{2 V_{S} Z_{C} Z_{L} \\left(Z_{C}^{2} - 2 Z_{C} Z_{L} + Z_{L}^{2}\\right)}{Z_{C}^{4} + 4 Z_{C}^{3} Z_{L} + 6 Z_{C}^{2} Z_{L}^{2} + 4 Z_{C} Z_{L}^{3} + Z_{L}^{4}}\\\\\\frac{2 V_{S} Z_{L} \\left(Z_{C}^{2} - 2 Z_{C} Z_{L} + Z_{L}^{2}\\right)}{Z_{C}^{4} + 4 Z_{C}^{3} Z_{L} + 6 Z_{C}^{2} Z_{L}^{2} + 4 Z_{C} Z_{L}^{3} + Z_{L}^{4}}\\end{matrix}\\right], \\  \\left[\\begin{matrix}\\frac{2 V_{S} Z_{C} Z_{L} \\left(- Z_{C}^{2} + 6 Z_{C} Z_{L} - 5 Z_{L}^{2}\\right)}{Z_{C}^{4} + 4 Z_{C}^{3} Z_{L} + 6 Z_{C}^{2} Z_{L}^{2} + 4 Z_{C} Z_{L}^{3} + Z_{L}^{4}}\\\\\\frac{2 V_{S} Z_{C} \\left(- Z_{C}^{2} + 6 Z_{C} Z_{L} - 5 Z_{L}^{2}\\right)}{Z_{C}^{4} + 4 Z_{C}^{3} Z_{L} + 6 Z_{C}^{2} Z_{L}^{2} + 4 Z_{C} Z_{L}^{3} + Z_{L}^{4}}\\end{matrix}\\right], \\  \\left[\\begin{matrix}\\frac{2 V_{S} Z_{C} Z_{L} \\left(3 Z_{C}^{2} - 8 Z_{C} Z_{L} + Z_{L}^{2}\\right)}{Z_{C}^{4} + 4 Z_{C}^{3} Z_{L} + 6 Z_{C}^{2} Z_{L}^{2} + 4 Z_{C} Z_{L}^{3} + Z_{L}^{4}}\\\\\\frac{2 V_{S} Z_{L} \\left(3 Z_{C}^{2} - 8 Z_{C} Z_{L} + Z_{L}^{2}\\right)}{Z_{C}^{4} + 4 Z_{C}^{3} Z_{L} + 6 Z_{C}^{2} Z_{L}^{2} + 4 Z_{C} Z_{L}^{3} + Z_{L}^{4}}\\end{matrix}\\right], \\  \\left[\\begin{matrix}\\frac{2 V_{S} Z_{C} Z_{L} \\left(- Z_{C}^{2} + 8 Z_{C} Z_{L} - 3 Z_{L}^{2}\\right)}{Z_{C}^{4} + 4 Z_{C}^{3} Z_{L} + 6 Z_{C}^{2} Z_{L}^{2} + 4 Z_{C} Z_{L}^{3} + Z_{L}^{4}}\\\\\\frac{2 V_{S} Z_{C} \\left(- Z_{C}^{2} + 8 Z_{C} Z_{L} - 3 Z_{L}^{2}\\right)}{Z_{C}^{4} + 4 Z_{C}^{3} Z_{L} + 6 Z_{C}^{2} Z_{L}^{2} + 4 Z_{C} Z_{L}^{3} + Z_{L}^{4}}\\end{matrix}\\right], \\  \\left[\\begin{matrix}\\frac{2 V_{S} Z_{C} Z_{L} \\left(5 Z_{C}^{2} - 6 Z_{C} Z_{L} + Z_{L}^{2}\\right)}{Z_{C}^{4} + 4 Z_{C}^{3} Z_{L} + 6 Z_{C}^{2} Z_{L}^{2} + 4 Z_{C} Z_{L}^{3} + Z_{L}^{4}}\\\\\\frac{2 V_{S} Z_{L} \\left(5 Z_{C}^{2} - 6 Z_{C} Z_{L} + Z_{L}^{2}\\right)}{Z_{C}^{4} + 4 Z_{C}^{3} Z_{L} + 6 Z_{C}^{2} Z_{L}^{2} + 4 Z_{C} Z_{L}^{3} + Z_{L}^{4}}\\end{matrix}\\right], \\  \\left[\\begin{matrix}\\frac{2 V_{S} Z_{C} Z_{L} \\left(- Z_{C}^{2} + 2 Z_{C} Z_{L} - Z_{L}^{2}\\right)}{Z_{C}^{4} + 4 Z_{C}^{3} Z_{L} + 6 Z_{C}^{2} Z_{L}^{2} + 4 Z_{C} Z_{L}^{3} + Z_{L}^{4}}\\\\\\frac{2 V_{S} Z_{C} \\left(- Z_{C}^{2} + 2 Z_{C} Z_{L} - Z_{L}^{2}\\right)}{Z_{C}^{4} + 4 Z_{C}^{3} Z_{L} + 6 Z_{C}^{2} Z_{L}^{2} + 4 Z_{C} Z_{L}^{3} + Z_{L}^{4}}\\end{matrix}\\right], \\  \\left[\\begin{matrix}\\frac{V_{S} Z_{C} \\left(- Z_{C}^{3} + 3 Z_{C}^{2} Z_{L} - 3 Z_{C} Z_{L}^{2} + Z_{L}^{3}\\right)}{Z_{C}^{4} + 4 Z_{C}^{3} Z_{L} + 6 Z_{C}^{2} Z_{L}^{2} + 4 Z_{C} Z_{L}^{3} + Z_{L}^{4}}\\\\\\frac{V_{S} \\left(- Z_{C}^{3} + 3 Z_{C}^{2} Z_{L} - 3 Z_{C} Z_{L}^{2} + Z_{L}^{3}\\right)}{Z_{C}^{4} + 4 Z_{C}^{3} Z_{L} + 6 Z_{C}^{2} Z_{L}^{2} + 4 Z_{C} Z_{L}^{3} + Z_{L}^{4}}\\end{matrix}\\right]\\right]$"
      ],
      "text/plain": [
       "⎡⎡         ⎛     3        2                2      3⎞ ⎤  ⎡                    ⎛\n",
       "⎢⎢ V_S⋅Z_L⋅⎝- Z_C  + 3⋅Z_C ⋅Z_L - 3⋅Z_C⋅Z_L  + Z_L ⎠ ⎥  ⎢      2⋅V_S⋅Z_C⋅Z_L⋅⎝\n",
       "⎢⎢───────────────────────────────────────────────────⎥  ⎢─────────────────────\n",
       "⎢⎢   4        3            2    2            3      4⎥  ⎢   4        3        \n",
       "⎢⎢Z_C  + 4⋅Z_C ⋅Z_L + 6⋅Z_C ⋅Z_L  + 4⋅Z_C⋅Z_L  + Z_L ⎥  ⎢Z_C  + 4⋅Z_C ⋅Z_L + 6\n",
       "⎢⎢                                                   ⎥, ⎢                     \n",
       "⎢⎢       ⎛     3        2                2      3⎞   ⎥  ⎢                  ⎛  \n",
       "⎢⎢   V_S⋅⎝- Z_C  + 3⋅Z_C ⋅Z_L - 3⋅Z_C⋅Z_L  + Z_L ⎠   ⎥  ⎢        2⋅V_S⋅Z_L⋅⎝Z_\n",
       "⎢⎢───────────────────────────────────────────────────⎥  ⎢─────────────────────\n",
       "⎢⎢   4        3            2    2            3      4⎥  ⎢   4        3        \n",
       "⎣⎣Z_C  + 4⋅Z_C ⋅Z_L + 6⋅Z_C ⋅Z_L  + 4⋅Z_C⋅Z_L  + Z_L ⎦  ⎣Z_C  + 4⋅Z_C ⋅Z_L + 6\n",
       "\n",
       "   2                  2⎞      ⎤  ⎡                  ⎛     2                   \n",
       "Z_C  - 2⋅Z_C⋅Z_L + Z_L ⎠      ⎥  ⎢    2⋅V_S⋅Z_C⋅Z_L⋅⎝- Z_C  + 6⋅Z_C⋅Z_L - 5⋅Z_\n",
       "──────────────────────────────⎥  ⎢────────────────────────────────────────────\n",
       "    2    2            3      4⎥  ⎢   4        3            2    2            3\n",
       "⋅Z_C ⋅Z_L  + 4⋅Z_C⋅Z_L  + Z_L ⎥  ⎢Z_C  + 4⋅Z_C ⋅Z_L + 6⋅Z_C ⋅Z_L  + 4⋅Z_C⋅Z_L \n",
       "                              ⎥, ⎢                                            \n",
       " 2                  2⎞        ⎥  ⎢                ⎛     2                    2\n",
       "C  - 2⋅Z_C⋅Z_L + Z_L ⎠        ⎥  ⎢      2⋅V_S⋅Z_C⋅⎝- Z_C  + 6⋅Z_C⋅Z_L - 5⋅Z_L \n",
       "──────────────────────────────⎥  ⎢────────────────────────────────────────────\n",
       "    2    2            3      4⎥  ⎢   4        3            2    2            3\n",
       "⋅Z_C ⋅Z_L  + 4⋅Z_C⋅Z_L  + Z_L ⎦  ⎣Z_C  + 4⋅Z_C ⋅Z_L + 6⋅Z_C ⋅Z_L  + 4⋅Z_C⋅Z_L \n",
       "\n",
       " 2⎞    ⎤  ⎡                   ⎛     2                  2⎞     ⎤  ⎡            \n",
       "L ⎠    ⎥  ⎢     2⋅V_S⋅Z_C⋅Z_L⋅⎝3⋅Z_C  - 8⋅Z_C⋅Z_L + Z_L ⎠     ⎥  ⎢    2⋅V_S⋅Z_\n",
       "───────⎥  ⎢───────────────────────────────────────────────────⎥  ⎢────────────\n",
       "      4⎥  ⎢   4        3            2    2            3      4⎥  ⎢   4        \n",
       " + Z_L ⎥  ⎢Z_C  + 4⋅Z_C ⋅Z_L + 6⋅Z_C ⋅Z_L  + 4⋅Z_C⋅Z_L  + Z_L ⎥  ⎢Z_C  + 4⋅Z_C\n",
       "       ⎥, ⎢                                                   ⎥, ⎢            \n",
       "⎞      ⎥  ⎢                 ⎛     2                  2⎞       ⎥  ⎢            \n",
       "⎠      ⎥  ⎢       2⋅V_S⋅Z_L⋅⎝3⋅Z_C  - 8⋅Z_C⋅Z_L + Z_L ⎠       ⎥  ⎢      2⋅V_S⋅\n",
       "───────⎥  ⎢───────────────────────────────────────────────────⎥  ⎢────────────\n",
       "      4⎥  ⎢   4        3            2    2            3      4⎥  ⎢   4        \n",
       " + Z_L ⎦  ⎣Z_C  + 4⋅Z_C ⋅Z_L + 6⋅Z_C ⋅Z_L  + 4⋅Z_C⋅Z_L  + Z_L ⎦  ⎣Z_C  + 4⋅Z_C\n",
       "\n",
       "      ⎛     2                    2⎞    ⎤  ⎡                   ⎛     2         \n",
       "C⋅Z_L⋅⎝- Z_C  + 8⋅Z_C⋅Z_L - 3⋅Z_L ⎠    ⎥  ⎢     2⋅V_S⋅Z_C⋅Z_L⋅⎝5⋅Z_C  - 6⋅Z_C⋅\n",
       "───────────────────────────────────────⎥  ⎢───────────────────────────────────\n",
       "3            2    2            3      4⎥  ⎢   4        3            2    2    \n",
       " ⋅Z_L + 6⋅Z_C ⋅Z_L  + 4⋅Z_C⋅Z_L  + Z_L ⎥  ⎢Z_C  + 4⋅Z_C ⋅Z_L + 6⋅Z_C ⋅Z_L  + 4\n",
       "                                       ⎥, ⎢                                   \n",
       "    ⎛     2                    2⎞      ⎥  ⎢                 ⎛     2           \n",
       "Z_C⋅⎝- Z_C  + 8⋅Z_C⋅Z_L - 3⋅Z_L ⎠      ⎥  ⎢       2⋅V_S⋅Z_L⋅⎝5⋅Z_C  - 6⋅Z_C⋅Z_\n",
       "───────────────────────────────────────⎥  ⎢───────────────────────────────────\n",
       "3            2    2            3      4⎥  ⎢   4        3            2    2    \n",
       " ⋅Z_L + 6⋅Z_C ⋅Z_L  + 4⋅Z_C⋅Z_L  + Z_L ⎦  ⎣Z_C  + 4⋅Z_C ⋅Z_L + 6⋅Z_C ⋅Z_L  + 4\n",
       "\n",
       "         2⎞     ⎤  ⎡                   ⎛     2                  2⎞     ⎤  ⎡   \n",
       "Z_L + Z_L ⎠     ⎥  ⎢     2⋅V_S⋅Z_C⋅Z_L⋅⎝- Z_C  + 2⋅Z_C⋅Z_L - Z_L ⎠     ⎥  ⎢ V_\n",
       "────────────────⎥  ⎢───────────────────────────────────────────────────⎥  ⎢───\n",
       "        3      4⎥  ⎢   4        3            2    2            3      4⎥  ⎢   \n",
       "⋅Z_C⋅Z_L  + Z_L ⎥  ⎢Z_C  + 4⋅Z_C ⋅Z_L + 6⋅Z_C ⋅Z_L  + 4⋅Z_C⋅Z_L  + Z_L ⎥  ⎢Z_C\n",
       "                ⎥, ⎢                                                   ⎥, ⎢   \n",
       "       2⎞       ⎥  ⎢                 ⎛     2                  2⎞       ⎥  ⎢   \n",
       "L + Z_L ⎠       ⎥  ⎢       2⋅V_S⋅Z_C⋅⎝- Z_C  + 2⋅Z_C⋅Z_L - Z_L ⎠       ⎥  ⎢   \n",
       "────────────────⎥  ⎢───────────────────────────────────────────────────⎥  ⎢───\n",
       "        3      4⎥  ⎢   4        3            2    2            3      4⎥  ⎢   \n",
       "⋅Z_C⋅Z_L  + Z_L ⎦  ⎣Z_C  + 4⋅Z_C ⋅Z_L + 6⋅Z_C ⋅Z_L  + 4⋅Z_C⋅Z_L  + Z_L ⎦  ⎣Z_C\n",
       "\n",
       "      ⎛     3        2                2      3⎞ ⎤⎤\n",
       "S⋅Z_C⋅⎝- Z_C  + 3⋅Z_C ⋅Z_L - 3⋅Z_C⋅Z_L  + Z_L ⎠ ⎥⎥\n",
       "────────────────────────────────────────────────⎥⎥\n",
       "4        3            2    2            3      4⎥⎥\n",
       "  + 4⋅Z_C ⋅Z_L + 6⋅Z_C ⋅Z_L  + 4⋅Z_C⋅Z_L  + Z_L ⎥⎥\n",
       "                                                ⎥⎥\n",
       "    ⎛     3        2                2      3⎞   ⎥⎥\n",
       "V_S⋅⎝- Z_C  + 3⋅Z_C ⋅Z_L - 3⋅Z_C⋅Z_L  + Z_L ⎠   ⎥⎥\n",
       "────────────────────────────────────────────────⎥⎥\n",
       "4        3            2    2            3      4⎥⎥\n",
       "  + 4⋅Z_C ⋅Z_L + 6⋅Z_C ⋅Z_L  + 4⋅Z_C⋅Z_L  + Z_L ⎦⎦"
      ]
     },
     "execution_count": 12,
     "metadata": {},
     "output_type": "execute_result"
    }
   ],
   "source": [
    "fan_out_rows[6]"
   ]
  },
  {
   "cell_type": "code",
   "execution_count": 13,
   "metadata": {},
   "outputs": [
    {
     "data": {
      "text/latex": [
       "$\\displaystyle \\left[ \\left[\\begin{matrix}\\frac{V_{S} Z_{L} \\left(Z_{C}^{3} - 3 Z_{C}^{2} Z_{L} + 3 Z_{C} Z_{L}^{2} - Z_{L}^{3}\\right)}{Z_{C}^{4} + 4 Z_{C}^{3} Z_{L} + 6 Z_{C}^{2} Z_{L}^{2} + 4 Z_{C} Z_{L}^{3} + Z_{L}^{4}}\\\\\\frac{V_{S} \\left(- Z_{C}^{3} + 3 Z_{C}^{2} Z_{L} - 3 Z_{C} Z_{L}^{2} + Z_{L}^{3}\\right)}{Z_{C}^{4} + 4 Z_{C}^{3} Z_{L} + 6 Z_{C}^{2} Z_{L}^{2} + 4 Z_{C} Z_{L}^{3} + Z_{L}^{4}}\\end{matrix}\\right], \\  \\left[\\begin{matrix}\\frac{2 V_{S} Z_{C} Z_{L} \\left(Z_{C}^{2} - 2 Z_{C} Z_{L} + Z_{L}^{2}\\right)}{Z_{C}^{4} + 4 Z_{C}^{3} Z_{L} + 6 Z_{C}^{2} Z_{L}^{2} + 4 Z_{C} Z_{L}^{3} + Z_{L}^{4}}\\\\\\frac{2 V_{S} Z_{L} \\left(- Z_{C}^{2} + 2 Z_{C} Z_{L} - Z_{L}^{2}\\right)}{Z_{C}^{4} + 4 Z_{C}^{3} Z_{L} + 6 Z_{C}^{2} Z_{L}^{2} + 4 Z_{C} Z_{L}^{3} + Z_{L}^{4}}\\end{matrix}\\right], \\  \\left[\\begin{matrix}\\frac{2 V_{S} Z_{C} Z_{L} \\left(Z_{C}^{2} - 6 Z_{C} Z_{L} + 5 Z_{L}^{2}\\right)}{Z_{C}^{4} + 4 Z_{C}^{3} Z_{L} + 6 Z_{C}^{2} Z_{L}^{2} + 4 Z_{C} Z_{L}^{3} + Z_{L}^{4}}\\\\\\frac{2 V_{S} Z_{C} \\left(- Z_{C}^{2} + 6 Z_{C} Z_{L} - 5 Z_{L}^{2}\\right)}{Z_{C}^{4} + 4 Z_{C}^{3} Z_{L} + 6 Z_{C}^{2} Z_{L}^{2} + 4 Z_{C} Z_{L}^{3} + Z_{L}^{4}}\\end{matrix}\\right], \\  \\left[\\begin{matrix}\\frac{2 V_{S} Z_{C} Z_{L} \\left(3 Z_{C}^{2} - 8 Z_{C} Z_{L} + Z_{L}^{2}\\right)}{Z_{C}^{4} + 4 Z_{C}^{3} Z_{L} + 6 Z_{C}^{2} Z_{L}^{2} + 4 Z_{C} Z_{L}^{3} + Z_{L}^{4}}\\\\\\frac{2 V_{S} Z_{L} \\left(- 3 Z_{C}^{2} + 8 Z_{C} Z_{L} - Z_{L}^{2}\\right)}{Z_{C}^{4} + 4 Z_{C}^{3} Z_{L} + 6 Z_{C}^{2} Z_{L}^{2} + 4 Z_{C} Z_{L}^{3} + Z_{L}^{4}}\\end{matrix}\\right], \\  \\left[\\begin{matrix}\\frac{2 V_{S} Z_{C} Z_{L} \\left(Z_{C}^{2} - 8 Z_{C} Z_{L} + 3 Z_{L}^{2}\\right)}{Z_{C}^{4} + 4 Z_{C}^{3} Z_{L} + 6 Z_{C}^{2} Z_{L}^{2} + 4 Z_{C} Z_{L}^{3} + Z_{L}^{4}}\\\\\\frac{2 V_{S} Z_{C} \\left(- Z_{C}^{2} + 8 Z_{C} Z_{L} - 3 Z_{L}^{2}\\right)}{Z_{C}^{4} + 4 Z_{C}^{3} Z_{L} + 6 Z_{C}^{2} Z_{L}^{2} + 4 Z_{C} Z_{L}^{3} + Z_{L}^{4}}\\end{matrix}\\right], \\  \\left[\\begin{matrix}\\frac{2 V_{S} Z_{C} Z_{L} \\left(5 Z_{C}^{2} - 6 Z_{C} Z_{L} + Z_{L}^{2}\\right)}{Z_{C}^{4} + 4 Z_{C}^{3} Z_{L} + 6 Z_{C}^{2} Z_{L}^{2} + 4 Z_{C} Z_{L}^{3} + Z_{L}^{4}}\\\\\\frac{2 V_{S} Z_{L} \\left(- 5 Z_{C}^{2} + 6 Z_{C} Z_{L} - Z_{L}^{2}\\right)}{Z_{C}^{4} + 4 Z_{C}^{3} Z_{L} + 6 Z_{C}^{2} Z_{L}^{2} + 4 Z_{C} Z_{L}^{3} + Z_{L}^{4}}\\end{matrix}\\right], \\  \\left[\\begin{matrix}\\frac{2 V_{S} Z_{C} Z_{L} \\left(Z_{C}^{2} - 2 Z_{C} Z_{L} + Z_{L}^{2}\\right)}{Z_{C}^{4} + 4 Z_{C}^{3} Z_{L} + 6 Z_{C}^{2} Z_{L}^{2} + 4 Z_{C} Z_{L}^{3} + Z_{L}^{4}}\\\\\\frac{2 V_{S} Z_{C} \\left(- Z_{C}^{2} + 2 Z_{C} Z_{L} - Z_{L}^{2}\\right)}{Z_{C}^{4} + 4 Z_{C}^{3} Z_{L} + 6 Z_{C}^{2} Z_{L}^{2} + 4 Z_{C} Z_{L}^{3} + Z_{L}^{4}}\\end{matrix}\\right], \\  \\left[\\begin{matrix}\\frac{V_{S} Z_{C} \\left(- Z_{C}^{3} + 3 Z_{C}^{2} Z_{L} - 3 Z_{C} Z_{L}^{2} + Z_{L}^{3}\\right)}{Z_{C}^{4} + 4 Z_{C}^{3} Z_{L} + 6 Z_{C}^{2} Z_{L}^{2} + 4 Z_{C} Z_{L}^{3} + Z_{L}^{4}}\\\\\\frac{V_{S} \\left(Z_{C}^{3} - 3 Z_{C}^{2} Z_{L} + 3 Z_{C} Z_{L}^{2} - Z_{L}^{3}\\right)}{Z_{C}^{4} + 4 Z_{C}^{3} Z_{L} + 6 Z_{C}^{2} Z_{L}^{2} + 4 Z_{C} Z_{L}^{3} + Z_{L}^{4}}\\end{matrix}\\right]\\right]$"
      ],
      "text/plain": [
       "⎡⎡          ⎛   3        2                2      3⎞  ⎤  ⎡                    ⎛\n",
       "⎢⎢  V_S⋅Z_L⋅⎝Z_C  - 3⋅Z_C ⋅Z_L + 3⋅Z_C⋅Z_L  - Z_L ⎠  ⎥  ⎢      2⋅V_S⋅Z_C⋅Z_L⋅⎝\n",
       "⎢⎢───────────────────────────────────────────────────⎥  ⎢─────────────────────\n",
       "⎢⎢   4        3            2    2            3      4⎥  ⎢   4        3        \n",
       "⎢⎢Z_C  + 4⋅Z_C ⋅Z_L + 6⋅Z_C ⋅Z_L  + 4⋅Z_C⋅Z_L  + Z_L ⎥  ⎢Z_C  + 4⋅Z_C ⋅Z_L + 6\n",
       "⎢⎢                                                   ⎥, ⎢                     \n",
       "⎢⎢       ⎛     3        2                2      3⎞   ⎥  ⎢                 ⎛   \n",
       "⎢⎢   V_S⋅⎝- Z_C  + 3⋅Z_C ⋅Z_L - 3⋅Z_C⋅Z_L  + Z_L ⎠   ⎥  ⎢       2⋅V_S⋅Z_L⋅⎝- Z\n",
       "⎢⎢───────────────────────────────────────────────────⎥  ⎢─────────────────────\n",
       "⎢⎢   4        3            2    2            3      4⎥  ⎢   4        3        \n",
       "⎣⎣Z_C  + 4⋅Z_C ⋅Z_L + 6⋅Z_C ⋅Z_L  + 4⋅Z_C⋅Z_L  + Z_L ⎦  ⎣Z_C  + 4⋅Z_C ⋅Z_L + 6\n",
       "\n",
       "   2                  2⎞      ⎤  ⎡                   ⎛   2                    \n",
       "Z_C  - 2⋅Z_C⋅Z_L + Z_L ⎠      ⎥  ⎢     2⋅V_S⋅Z_C⋅Z_L⋅⎝Z_C  - 6⋅Z_C⋅Z_L + 5⋅Z_L\n",
       "──────────────────────────────⎥  ⎢────────────────────────────────────────────\n",
       "    2    2            3      4⎥  ⎢   4        3            2    2            3\n",
       "⋅Z_C ⋅Z_L  + 4⋅Z_C⋅Z_L  + Z_L ⎥  ⎢Z_C  + 4⋅Z_C ⋅Z_L + 6⋅Z_C ⋅Z_L  + 4⋅Z_C⋅Z_L \n",
       "                              ⎥, ⎢                                            \n",
       "  2                  2⎞       ⎥  ⎢                ⎛     2                    2\n",
       "_C  + 2⋅Z_C⋅Z_L - Z_L ⎠       ⎥  ⎢      2⋅V_S⋅Z_C⋅⎝- Z_C  + 6⋅Z_C⋅Z_L - 5⋅Z_L \n",
       "──────────────────────────────⎥  ⎢────────────────────────────────────────────\n",
       "    2    2            3      4⎥  ⎢   4        3            2    2            3\n",
       "⋅Z_C ⋅Z_L  + 4⋅Z_C⋅Z_L  + Z_L ⎦  ⎣Z_C  + 4⋅Z_C ⋅Z_L + 6⋅Z_C ⋅Z_L  + 4⋅Z_C⋅Z_L \n",
       "\n",
       "2⎞     ⎤  ⎡                   ⎛     2                  2⎞     ⎤  ⎡            \n",
       " ⎠     ⎥  ⎢     2⋅V_S⋅Z_C⋅Z_L⋅⎝3⋅Z_C  - 8⋅Z_C⋅Z_L + Z_L ⎠     ⎥  ⎢     2⋅V_S⋅Z\n",
       "───────⎥  ⎢───────────────────────────────────────────────────⎥  ⎢────────────\n",
       "      4⎥  ⎢   4        3            2    2            3      4⎥  ⎢   4        \n",
       " + Z_L ⎥  ⎢Z_C  + 4⋅Z_C ⋅Z_L + 6⋅Z_C ⋅Z_L  + 4⋅Z_C⋅Z_L  + Z_L ⎥  ⎢Z_C  + 4⋅Z_C\n",
       "       ⎥, ⎢                                                   ⎥, ⎢            \n",
       "⎞      ⎥  ⎢                ⎛       2                  2⎞      ⎥  ⎢            \n",
       "⎠      ⎥  ⎢      2⋅V_S⋅Z_L⋅⎝- 3⋅Z_C  + 8⋅Z_C⋅Z_L - Z_L ⎠      ⎥  ⎢      2⋅V_S⋅\n",
       "───────⎥  ⎢───────────────────────────────────────────────────⎥  ⎢────────────\n",
       "      4⎥  ⎢   4        3            2    2            3      4⎥  ⎢   4        \n",
       " + Z_L ⎦  ⎣Z_C  + 4⋅Z_C ⋅Z_L + 6⋅Z_C ⋅Z_L  + 4⋅Z_C⋅Z_L  + Z_L ⎦  ⎣Z_C  + 4⋅Z_C\n",
       "\n",
       "       ⎛   2                    2⎞     ⎤  ⎡                   ⎛     2         \n",
       "_C⋅Z_L⋅⎝Z_C  - 8⋅Z_C⋅Z_L + 3⋅Z_L ⎠     ⎥  ⎢     2⋅V_S⋅Z_C⋅Z_L⋅⎝5⋅Z_C  - 6⋅Z_C⋅\n",
       "───────────────────────────────────────⎥  ⎢───────────────────────────────────\n",
       "3            2    2            3      4⎥  ⎢   4        3            2    2    \n",
       " ⋅Z_L + 6⋅Z_C ⋅Z_L  + 4⋅Z_C⋅Z_L  + Z_L ⎥  ⎢Z_C  + 4⋅Z_C ⋅Z_L + 6⋅Z_C ⋅Z_L  + 4\n",
       "                                       ⎥, ⎢                                   \n",
       "    ⎛     2                    2⎞      ⎥  ⎢                ⎛       2          \n",
       "Z_C⋅⎝- Z_C  + 8⋅Z_C⋅Z_L - 3⋅Z_L ⎠      ⎥  ⎢      2⋅V_S⋅Z_L⋅⎝- 5⋅Z_C  + 6⋅Z_C⋅Z\n",
       "───────────────────────────────────────⎥  ⎢───────────────────────────────────\n",
       "3            2    2            3      4⎥  ⎢   4        3            2    2    \n",
       " ⋅Z_L + 6⋅Z_C ⋅Z_L  + 4⋅Z_C⋅Z_L  + Z_L ⎦  ⎣Z_C  + 4⋅Z_C ⋅Z_L + 6⋅Z_C ⋅Z_L  + 4\n",
       "\n",
       "         2⎞     ⎤  ⎡                    ⎛   2                  2⎞      ⎤  ⎡   \n",
       "Z_L + Z_L ⎠     ⎥  ⎢      2⋅V_S⋅Z_C⋅Z_L⋅⎝Z_C  - 2⋅Z_C⋅Z_L + Z_L ⎠      ⎥  ⎢ V_\n",
       "────────────────⎥  ⎢───────────────────────────────────────────────────⎥  ⎢───\n",
       "        3      4⎥  ⎢   4        3            2    2            3      4⎥  ⎢   \n",
       "⋅Z_C⋅Z_L  + Z_L ⎥  ⎢Z_C  + 4⋅Z_C ⋅Z_L + 6⋅Z_C ⋅Z_L  + 4⋅Z_C⋅Z_L  + Z_L ⎥  ⎢Z_C\n",
       "                ⎥, ⎢                                                   ⎥, ⎢   \n",
       "        2⎞      ⎥  ⎢                 ⎛     2                  2⎞       ⎥  ⎢   \n",
       "_L - Z_L ⎠      ⎥  ⎢       2⋅V_S⋅Z_C⋅⎝- Z_C  + 2⋅Z_C⋅Z_L - Z_L ⎠       ⎥  ⎢   \n",
       "────────────────⎥  ⎢───────────────────────────────────────────────────⎥  ⎢───\n",
       "        3      4⎥  ⎢   4        3            2    2            3      4⎥  ⎢   \n",
       "⋅Z_C⋅Z_L  + Z_L ⎦  ⎣Z_C  + 4⋅Z_C ⋅Z_L + 6⋅Z_C ⋅Z_L  + 4⋅Z_C⋅Z_L  + Z_L ⎦  ⎣Z_C\n",
       "\n",
       "      ⎛     3        2                2      3⎞ ⎤⎤\n",
       "S⋅Z_C⋅⎝- Z_C  + 3⋅Z_C ⋅Z_L - 3⋅Z_C⋅Z_L  + Z_L ⎠ ⎥⎥\n",
       "────────────────────────────────────────────────⎥⎥\n",
       "4        3            2    2            3      4⎥⎥\n",
       "  + 4⋅Z_C ⋅Z_L + 6⋅Z_C ⋅Z_L  + 4⋅Z_C⋅Z_L  + Z_L ⎥⎥\n",
       "                                                ⎥⎥\n",
       "     ⎛   3        2                2      3⎞    ⎥⎥\n",
       " V_S⋅⎝Z_C  - 3⋅Z_C ⋅Z_L + 3⋅Z_C⋅Z_L  - Z_L ⎠    ⎥⎥\n",
       "────────────────────────────────────────────────⎥⎥\n",
       "4        3            2    2            3      4⎥⎥\n",
       "  + 4⋅Z_C ⋅Z_L + 6⋅Z_C ⋅Z_L  + 4⋅Z_C⋅Z_L  + Z_L ⎦⎦"
      ]
     },
     "execution_count": 13,
     "metadata": {},
     "output_type": "execute_result"
    }
   ],
   "source": [
    "fan_out_rows[7]"
   ]
  },
  {
   "cell_type": "code",
   "execution_count": 14,
   "metadata": {},
   "outputs": [
    {
     "data": {
      "text/latex": [
       "$\\displaystyle \\left[ \\left[\\begin{matrix}\\frac{V_{S} Z_{L} \\left(Z_{C}^{4} - 4 Z_{C}^{3} Z_{L} + 6 Z_{C}^{2} Z_{L}^{2} - 4 Z_{C} Z_{L}^{3} + Z_{L}^{4}\\right)}{Z_{C}^{5} + 5 Z_{C}^{4} Z_{L} + 10 Z_{C}^{3} Z_{L}^{2} + 10 Z_{C}^{2} Z_{L}^{3} + 5 Z_{C} Z_{L}^{4} + Z_{L}^{5}}\\\\\\frac{V_{S} \\left(Z_{C}^{4} - 4 Z_{C}^{3} Z_{L} + 6 Z_{C}^{2} Z_{L}^{2} - 4 Z_{C} Z_{L}^{3} + Z_{L}^{4}\\right)}{Z_{C}^{5} + 5 Z_{C}^{4} Z_{L} + 10 Z_{C}^{3} Z_{L}^{2} + 10 Z_{C}^{2} Z_{L}^{3} + 5 Z_{C} Z_{L}^{4} + Z_{L}^{5}}\\end{matrix}\\right], \\  \\left[\\begin{matrix}\\frac{2 V_{S} Z_{C} Z_{L} \\left(- Z_{C}^{3} + 3 Z_{C}^{2} Z_{L} - 3 Z_{C} Z_{L}^{2} + Z_{L}^{3}\\right)}{Z_{C}^{5} + 5 Z_{C}^{4} Z_{L} + 10 Z_{C}^{3} Z_{L}^{2} + 10 Z_{C}^{2} Z_{L}^{3} + 5 Z_{C} Z_{L}^{4} + Z_{L}^{5}}\\\\\\frac{2 V_{S} Z_{L} \\left(- Z_{C}^{3} + 3 Z_{C}^{2} Z_{L} - 3 Z_{C} Z_{L}^{2} + Z_{L}^{3}\\right)}{Z_{C}^{5} + 5 Z_{C}^{4} Z_{L} + 10 Z_{C}^{3} Z_{L}^{2} + 10 Z_{C}^{2} Z_{L}^{3} + 5 Z_{C} Z_{L}^{4} + Z_{L}^{5}}\\end{matrix}\\right], \\  \\left[\\begin{matrix}\\frac{2 V_{S} Z_{C} Z_{L} \\left(Z_{C}^{3} - 9 Z_{C}^{2} Z_{L} + 15 Z_{C} Z_{L}^{2} - 7 Z_{L}^{3}\\right)}{Z_{C}^{5} + 5 Z_{C}^{4} Z_{L} + 10 Z_{C}^{3} Z_{L}^{2} + 10 Z_{C}^{2} Z_{L}^{3} + 5 Z_{C} Z_{L}^{4} + Z_{L}^{5}}\\\\\\frac{2 V_{S} Z_{C} \\left(Z_{C}^{3} - 9 Z_{C}^{2} Z_{L} + 15 Z_{C} Z_{L}^{2} - 7 Z_{L}^{3}\\right)}{Z_{C}^{5} + 5 Z_{C}^{4} Z_{L} + 10 Z_{C}^{3} Z_{L}^{2} + 10 Z_{C}^{2} Z_{L}^{3} + 5 Z_{C} Z_{L}^{4} + Z_{L}^{5}}\\end{matrix}\\right], \\  \\left[\\begin{matrix}\\frac{2 V_{S} Z_{C} Z_{L} \\left(- 3 Z_{C}^{3} + 15 Z_{C}^{2} Z_{L} - 13 Z_{C} Z_{L}^{2} + Z_{L}^{3}\\right)}{Z_{C}^{5} + 5 Z_{C}^{4} Z_{L} + 10 Z_{C}^{3} Z_{L}^{2} + 10 Z_{C}^{2} Z_{L}^{3} + 5 Z_{C} Z_{L}^{4} + Z_{L}^{5}}\\\\\\frac{2 V_{S} Z_{L} \\left(- 3 Z_{C}^{3} + 15 Z_{C}^{2} Z_{L} - 13 Z_{C} Z_{L}^{2} + Z_{L}^{3}\\right)}{Z_{C}^{5} + 5 Z_{C}^{4} Z_{L} + 10 Z_{C}^{3} Z_{L}^{2} + 10 Z_{C}^{2} Z_{L}^{3} + 5 Z_{C} Z_{L}^{4} + Z_{L}^{5}}\\end{matrix}\\right], \\  \\left[\\begin{matrix}\\frac{2 V_{S} Z_{C} Z_{L} \\left(Z_{C}^{3} - 15 Z_{C}^{2} Z_{L} + 27 Z_{C} Z_{L}^{2} - 5 Z_{L}^{3}\\right)}{Z_{C}^{5} + 5 Z_{C}^{4} Z_{L} + 10 Z_{C}^{3} Z_{L}^{2} + 10 Z_{C}^{2} Z_{L}^{3} + 5 Z_{C} Z_{L}^{4} + Z_{L}^{5}}\\\\\\frac{2 V_{S} Z_{C} \\left(Z_{C}^{3} - 15 Z_{C}^{2} Z_{L} + 27 Z_{C} Z_{L}^{2} - 5 Z_{L}^{3}\\right)}{Z_{C}^{5} + 5 Z_{C}^{4} Z_{L} + 10 Z_{C}^{3} Z_{L}^{2} + 10 Z_{C}^{2} Z_{L}^{3} + 5 Z_{C} Z_{L}^{4} + Z_{L}^{5}}\\end{matrix}\\right], \\  \\left[\\begin{matrix}\\frac{2 V_{S} Z_{C} Z_{L} \\left(- 5 Z_{C}^{3} + 27 Z_{C}^{2} Z_{L} - 15 Z_{C} Z_{L}^{2} + Z_{L}^{3}\\right)}{Z_{C}^{5} + 5 Z_{C}^{4} Z_{L} + 10 Z_{C}^{3} Z_{L}^{2} + 10 Z_{C}^{2} Z_{L}^{3} + 5 Z_{C} Z_{L}^{4} + Z_{L}^{5}}\\\\\\frac{2 V_{S} Z_{L} \\left(- 5 Z_{C}^{3} + 27 Z_{C}^{2} Z_{L} - 15 Z_{C} Z_{L}^{2} + Z_{L}^{3}\\right)}{Z_{C}^{5} + 5 Z_{C}^{4} Z_{L} + 10 Z_{C}^{3} Z_{L}^{2} + 10 Z_{C}^{2} Z_{L}^{3} + 5 Z_{C} Z_{L}^{4} + Z_{L}^{5}}\\end{matrix}\\right], \\  \\left[\\begin{matrix}\\frac{2 V_{S} Z_{C} Z_{L} \\left(Z_{C}^{3} - 13 Z_{C}^{2} Z_{L} + 15 Z_{C} Z_{L}^{2} - 3 Z_{L}^{3}\\right)}{Z_{C}^{5} + 5 Z_{C}^{4} Z_{L} + 10 Z_{C}^{3} Z_{L}^{2} + 10 Z_{C}^{2} Z_{L}^{3} + 5 Z_{C} Z_{L}^{4} + Z_{L}^{5}}\\\\\\frac{2 V_{S} Z_{C} \\left(Z_{C}^{3} - 13 Z_{C}^{2} Z_{L} + 15 Z_{C} Z_{L}^{2} - 3 Z_{L}^{3}\\right)}{Z_{C}^{5} + 5 Z_{C}^{4} Z_{L} + 10 Z_{C}^{3} Z_{L}^{2} + 10 Z_{C}^{2} Z_{L}^{3} + 5 Z_{C} Z_{L}^{4} + Z_{L}^{5}}\\end{matrix}\\right], \\  \\left[\\begin{matrix}\\frac{2 V_{S} Z_{C} Z_{L} \\left(- 7 Z_{C}^{3} + 15 Z_{C}^{2} Z_{L} - 9 Z_{C} Z_{L}^{2} + Z_{L}^{3}\\right)}{Z_{C}^{5} + 5 Z_{C}^{4} Z_{L} + 10 Z_{C}^{3} Z_{L}^{2} + 10 Z_{C}^{2} Z_{L}^{3} + 5 Z_{C} Z_{L}^{4} + Z_{L}^{5}}\\\\\\frac{2 V_{S} Z_{L} \\left(- 7 Z_{C}^{3} + 15 Z_{C}^{2} Z_{L} - 9 Z_{C} Z_{L}^{2} + Z_{L}^{3}\\right)}{Z_{C}^{5} + 5 Z_{C}^{4} Z_{L} + 10 Z_{C}^{3} Z_{L}^{2} + 10 Z_{C}^{2} Z_{L}^{3} + 5 Z_{C} Z_{L}^{4} + Z_{L}^{5}}\\end{matrix}\\right], \\  \\left[\\begin{matrix}\\frac{2 V_{S} Z_{C} Z_{L} \\left(Z_{C}^{3} - 3 Z_{C}^{2} Z_{L} + 3 Z_{C} Z_{L}^{2} - Z_{L}^{3}\\right)}{Z_{C}^{5} + 5 Z_{C}^{4} Z_{L} + 10 Z_{C}^{3} Z_{L}^{2} + 10 Z_{C}^{2} Z_{L}^{3} + 5 Z_{C} Z_{L}^{4} + Z_{L}^{5}}\\\\\\frac{2 V_{S} Z_{C} \\left(Z_{C}^{3} - 3 Z_{C}^{2} Z_{L} + 3 Z_{C} Z_{L}^{2} - Z_{L}^{3}\\right)}{Z_{C}^{5} + 5 Z_{C}^{4} Z_{L} + 10 Z_{C}^{3} Z_{L}^{2} + 10 Z_{C}^{2} Z_{L}^{3} + 5 Z_{C} Z_{L}^{4} + Z_{L}^{5}}\\end{matrix}\\right], \\  \\left[\\begin{matrix}\\frac{V_{S} Z_{C} \\left(Z_{C}^{4} - 4 Z_{C}^{3} Z_{L} + 6 Z_{C}^{2} Z_{L}^{2} - 4 Z_{C} Z_{L}^{3} + Z_{L}^{4}\\right)}{Z_{C}^{5} + 5 Z_{C}^{4} Z_{L} + 10 Z_{C}^{3} Z_{L}^{2} + 10 Z_{C}^{2} Z_{L}^{3} + 5 Z_{C} Z_{L}^{4} + Z_{L}^{5}}\\\\\\frac{V_{S} \\left(Z_{C}^{4} - 4 Z_{C}^{3} Z_{L} + 6 Z_{C}^{2} Z_{L}^{2} - 4 Z_{C} Z_{L}^{3} + Z_{L}^{4}\\right)}{Z_{C}^{5} + 5 Z_{C}^{4} Z_{L} + 10 Z_{C}^{3} Z_{L}^{2} + 10 Z_{C}^{2} Z_{L}^{3} + 5 Z_{C} Z_{L}^{4} + Z_{L}^{5}}\\end{matrix}\\right]\\right]$"
      ],
      "text/plain": [
       "⎡⎡           ⎛   4        3            2    2            3      4⎞   ⎤  ⎡     \n",
       "⎢⎢   V_S⋅Z_L⋅⎝Z_C  - 4⋅Z_C ⋅Z_L + 6⋅Z_C ⋅Z_L  - 4⋅Z_C⋅Z_L  + Z_L ⎠   ⎥  ⎢     \n",
       "⎢⎢───────────────────────────────────────────────────────────────────⎥  ⎢─────\n",
       "⎢⎢   5        4             3    2         2    3            4      5⎥  ⎢   5 \n",
       "⎢⎢Z_C  + 5⋅Z_C ⋅Z_L + 10⋅Z_C ⋅Z_L  + 10⋅Z_C ⋅Z_L  + 5⋅Z_C⋅Z_L  + Z_L ⎥  ⎢Z_C  \n",
       "⎢⎢                                                                   ⎥, ⎢     \n",
       "⎢⎢         ⎛   4        3            2    2            3      4⎞     ⎥  ⎢     \n",
       "⎢⎢     V_S⋅⎝Z_C  - 4⋅Z_C ⋅Z_L + 6⋅Z_C ⋅Z_L  - 4⋅Z_C⋅Z_L  + Z_L ⎠     ⎥  ⎢     \n",
       "⎢⎢───────────────────────────────────────────────────────────────────⎥  ⎢─────\n",
       "⎢⎢   5        4             3    2         2    3            4      5⎥  ⎢   5 \n",
       "⎣⎣Z_C  + 5⋅Z_C ⋅Z_L + 10⋅Z_C ⋅Z_L  + 10⋅Z_C ⋅Z_L  + 5⋅Z_C⋅Z_L  + Z_L ⎦  ⎣Z_C  \n",
       "\n",
       "               ⎛     3        2                2      3⎞      ⎤  ⎡            \n",
       " 2⋅V_S⋅Z_C⋅Z_L⋅⎝- Z_C  + 3⋅Z_C ⋅Z_L - 3⋅Z_C⋅Z_L  + Z_L ⎠      ⎥  ⎢      2⋅V_S⋅\n",
       "──────────────────────────────────────────────────────────────⎥  ⎢────────────\n",
       "       4             3    2         2    3            4      5⎥  ⎢   5        \n",
       "+ 5⋅Z_C ⋅Z_L + 10⋅Z_C ⋅Z_L  + 10⋅Z_C ⋅Z_L  + 5⋅Z_C⋅Z_L  + Z_L ⎥  ⎢Z_C  + 5⋅Z_C\n",
       "                                                              ⎥, ⎢            \n",
       "             ⎛     3        2                2      3⎞        ⎥  ⎢            \n",
       "   2⋅V_S⋅Z_L⋅⎝- Z_C  + 3⋅Z_C ⋅Z_L - 3⋅Z_C⋅Z_L  + Z_L ⎠        ⎥  ⎢        2⋅V_\n",
       "──────────────────────────────────────────────────────────────⎥  ⎢────────────\n",
       "       4             3    2         2    3            4      5⎥  ⎢   5        \n",
       "+ 5⋅Z_C ⋅Z_L + 10⋅Z_C ⋅Z_L  + 10⋅Z_C ⋅Z_L  + 5⋅Z_C⋅Z_L  + Z_L ⎦  ⎣Z_C  + 5⋅Z_C\n",
       "\n",
       "        ⎛   3        2                 2        3⎞     ⎤  ⎡                  ⎛\n",
       "Z_C⋅Z_L⋅⎝Z_C  - 9⋅Z_C ⋅Z_L + 15⋅Z_C⋅Z_L  - 7⋅Z_L ⎠     ⎥  ⎢    2⋅V_S⋅Z_C⋅Z_L⋅⎝\n",
       "───────────────────────────────────────────────────────⎥  ⎢───────────────────\n",
       "4             3    2         2    3            4      5⎥  ⎢   5        4      \n",
       " ⋅Z_L + 10⋅Z_C ⋅Z_L  + 10⋅Z_C ⋅Z_L  + 5⋅Z_C⋅Z_L  + Z_L ⎥  ⎢Z_C  + 5⋅Z_C ⋅Z_L +\n",
       "                                                       ⎥, ⎢                   \n",
       "      ⎛   3        2                 2        3⎞       ⎥  ⎢                ⎛  \n",
       "S⋅Z_C⋅⎝Z_C  - 9⋅Z_C ⋅Z_L + 15⋅Z_C⋅Z_L  - 7⋅Z_L ⎠       ⎥  ⎢      2⋅V_S⋅Z_L⋅⎝- \n",
       "───────────────────────────────────────────────────────⎥  ⎢───────────────────\n",
       "4             3    2         2    3            4      5⎥  ⎢   5        4      \n",
       " ⋅Z_L + 10⋅Z_C ⋅Z_L  + 10⋅Z_C ⋅Z_L  + 5⋅Z_C⋅Z_L  + Z_L ⎦  ⎣Z_C  + 5⋅Z_C ⋅Z_L +\n",
       "\n",
       "       3         2                 2      3⎞    ⎤  ⎡                   ⎛   3  \n",
       "- 3⋅Z_C  + 15⋅Z_C ⋅Z_L - 13⋅Z_C⋅Z_L  + Z_L ⎠    ⎥  ⎢     2⋅V_S⋅Z_C⋅Z_L⋅⎝Z_C  -\n",
       "────────────────────────────────────────────────⎥  ⎢──────────────────────────\n",
       "       3    2         2    3            4      5⎥  ⎢   5        4             \n",
       " 10⋅Z_C ⋅Z_L  + 10⋅Z_C ⋅Z_L  + 5⋅Z_C⋅Z_L  + Z_L ⎥  ⎢Z_C  + 5⋅Z_C ⋅Z_L + 10⋅Z_C\n",
       "                                                ⎥, ⎢                          \n",
       "     3         2                 2      3⎞      ⎥  ⎢                 ⎛   3    \n",
       "3⋅Z_C  + 15⋅Z_C ⋅Z_L - 13⋅Z_C⋅Z_L  + Z_L ⎠      ⎥  ⎢       2⋅V_S⋅Z_C⋅⎝Z_C  - 1\n",
       "────────────────────────────────────────────────⎥  ⎢──────────────────────────\n",
       "       3    2         2    3            4      5⎥  ⎢   5        4             \n",
       " 10⋅Z_C ⋅Z_L  + 10⋅Z_C ⋅Z_L  + 5⋅Z_C⋅Z_L  + Z_L ⎦  ⎣Z_C  + 5⋅Z_C ⋅Z_L + 10⋅Z_C\n",
       "\n",
       "       2                 2        3⎞     ⎤  ⎡                  ⎛       3      \n",
       " 15⋅Z_C ⋅Z_L + 27⋅Z_C⋅Z_L  - 5⋅Z_L ⎠     ⎥  ⎢    2⋅V_S⋅Z_C⋅Z_L⋅⎝- 5⋅Z_C  + 27⋅\n",
       "─────────────────────────────────────────⎥  ⎢─────────────────────────────────\n",
       "3    2         2    3            4      5⎥  ⎢   5        4             3    2 \n",
       " ⋅Z_L  + 10⋅Z_C ⋅Z_L  + 5⋅Z_C⋅Z_L  + Z_L ⎥  ⎢Z_C  + 5⋅Z_C ⋅Z_L + 10⋅Z_C ⋅Z_L  \n",
       "                                         ⎥, ⎢                                 \n",
       "     2                 2        3⎞       ⎥  ⎢                ⎛       3        \n",
       "5⋅Z_C ⋅Z_L + 27⋅Z_C⋅Z_L  - 5⋅Z_L ⎠       ⎥  ⎢      2⋅V_S⋅Z_L⋅⎝- 5⋅Z_C  + 27⋅Z_\n",
       "─────────────────────────────────────────⎥  ⎢─────────────────────────────────\n",
       "3    2         2    3            4      5⎥  ⎢   5        4             3    2 \n",
       " ⋅Z_L  + 10⋅Z_C ⋅Z_L  + 5⋅Z_C⋅Z_L  + Z_L ⎦  ⎣Z_C  + 5⋅Z_C ⋅Z_L + 10⋅Z_C ⋅Z_L  \n",
       "\n",
       "   2                 2      3⎞    ⎤  ⎡                   ⎛   3         2      \n",
       "Z_C ⋅Z_L - 15⋅Z_C⋅Z_L  + Z_L ⎠    ⎥  ⎢     2⋅V_S⋅Z_C⋅Z_L⋅⎝Z_C  - 13⋅Z_C ⋅Z_L +\n",
       "──────────────────────────────────⎥  ⎢────────────────────────────────────────\n",
       "        2    3            4      5⎥  ⎢   5        4             3    2        \n",
       "+ 10⋅Z_C ⋅Z_L  + 5⋅Z_C⋅Z_L  + Z_L ⎥  ⎢Z_C  + 5⋅Z_C ⋅Z_L + 10⋅Z_C ⋅Z_L  + 10⋅Z_\n",
       "                                  ⎥, ⎢                                        \n",
       " 2                 2      3⎞      ⎥  ⎢                 ⎛   3         2        \n",
       "C ⋅Z_L - 15⋅Z_C⋅Z_L  + Z_L ⎠      ⎥  ⎢       2⋅V_S⋅Z_C⋅⎝Z_C  - 13⋅Z_C ⋅Z_L + 1\n",
       "──────────────────────────────────⎥  ⎢────────────────────────────────────────\n",
       "        2    3            4      5⎥  ⎢   5        4             3    2        \n",
       "+ 10⋅Z_C ⋅Z_L  + 5⋅Z_C⋅Z_L  + Z_L ⎦  ⎣Z_C  + 5⋅Z_C ⋅Z_L + 10⋅Z_C ⋅Z_L  + 10⋅Z_\n",
       "\n",
       "           2        3⎞     ⎤  ⎡                   ⎛       3         2         \n",
       " 15⋅Z_C⋅Z_L  - 3⋅Z_L ⎠     ⎥  ⎢     2⋅V_S⋅Z_C⋅Z_L⋅⎝- 7⋅Z_C  + 15⋅Z_C ⋅Z_L - 9⋅\n",
       "───────────────────────────⎥  ⎢───────────────────────────────────────────────\n",
       " 2    3            4      5⎥  ⎢   5        4             3    2         2    3\n",
       "C ⋅Z_L  + 5⋅Z_C⋅Z_L  + Z_L ⎥  ⎢Z_C  + 5⋅Z_C ⋅Z_L + 10⋅Z_C ⋅Z_L  + 10⋅Z_C ⋅Z_L \n",
       "                           ⎥, ⎢                                               \n",
       "         2        3⎞       ⎥  ⎢                 ⎛       3         2           \n",
       "5⋅Z_C⋅Z_L  - 3⋅Z_L ⎠       ⎥  ⎢       2⋅V_S⋅Z_L⋅⎝- 7⋅Z_C  + 15⋅Z_C ⋅Z_L - 9⋅Z_\n",
       "───────────────────────────⎥  ⎢───────────────────────────────────────────────\n",
       " 2    3            4      5⎥  ⎢   5        4             3    2         2    3\n",
       "C ⋅Z_L  + 5⋅Z_C⋅Z_L  + Z_L ⎦  ⎣Z_C  + 5⋅Z_C ⋅Z_L + 10⋅Z_C ⋅Z_L  + 10⋅Z_C ⋅Z_L \n",
       "\n",
       "       2      3⎞    ⎤  ⎡                     ⎛   3        2                2  \n",
       "Z_C⋅Z_L  + Z_L ⎠    ⎥  ⎢       2⋅V_S⋅Z_C⋅Z_L⋅⎝Z_C  - 3⋅Z_C ⋅Z_L + 3⋅Z_C⋅Z_L  -\n",
       "────────────────────⎥  ⎢──────────────────────────────────────────────────────\n",
       "            4      5⎥  ⎢   5        4             3    2         2    3       \n",
       " + 5⋅Z_C⋅Z_L  + Z_L ⎥  ⎢Z_C  + 5⋅Z_C ⋅Z_L + 10⋅Z_C ⋅Z_L  + 10⋅Z_C ⋅Z_L  + 5⋅Z_\n",
       "                    ⎥, ⎢                                                      \n",
       "     2      3⎞      ⎥  ⎢                   ⎛   3        2                2    \n",
       "C⋅Z_L  + Z_L ⎠      ⎥  ⎢         2⋅V_S⋅Z_C⋅⎝Z_C  - 3⋅Z_C ⋅Z_L + 3⋅Z_C⋅Z_L  - Z\n",
       "────────────────────⎥  ⎢──────────────────────────────────────────────────────\n",
       "            4      5⎥  ⎢   5        4             3    2         2    3       \n",
       " + 5⋅Z_C⋅Z_L  + Z_L ⎦  ⎣Z_C  + 5⋅Z_C ⋅Z_L + 10⋅Z_C ⋅Z_L  + 10⋅Z_C ⋅Z_L  + 5⋅Z_\n",
       "\n",
       "    3⎞       ⎤  ⎡           ⎛   4        3            2    2            3     \n",
       " Z_L ⎠       ⎥  ⎢   V_S⋅Z_C⋅⎝Z_C  - 4⋅Z_C ⋅Z_L + 6⋅Z_C ⋅Z_L  - 4⋅Z_C⋅Z_L  + Z_\n",
       "─────────────⎥  ⎢─────────────────────────────────────────────────────────────\n",
       "     4      5⎥  ⎢   5        4             3    2         2    3            4 \n",
       "C⋅Z_L  + Z_L ⎥  ⎢Z_C  + 5⋅Z_C ⋅Z_L + 10⋅Z_C ⋅Z_L  + 10⋅Z_C ⋅Z_L  + 5⋅Z_C⋅Z_L  \n",
       "             ⎥, ⎢                                                             \n",
       "  3⎞         ⎥  ⎢         ⎛   4        3            2    2            3      4\n",
       "_L ⎠         ⎥  ⎢     V_S⋅⎝Z_C  - 4⋅Z_C ⋅Z_L + 6⋅Z_C ⋅Z_L  - 4⋅Z_C⋅Z_L  + Z_L \n",
       "─────────────⎥  ⎢─────────────────────────────────────────────────────────────\n",
       "     4      5⎥  ⎢   5        4             3    2         2    3            4 \n",
       "C⋅Z_L  + Z_L ⎦  ⎣Z_C  + 5⋅Z_C ⋅Z_L + 10⋅Z_C ⋅Z_L  + 10⋅Z_C ⋅Z_L  + 5⋅Z_C⋅Z_L  \n",
       "\n",
       " 4⎞   ⎤⎤\n",
       "L ⎠   ⎥⎥\n",
       "──────⎥⎥\n",
       "     5⎥⎥\n",
       "+ Z_L ⎥⎥\n",
       "      ⎥⎥\n",
       "⎞     ⎥⎥\n",
       "⎠     ⎥⎥\n",
       "──────⎥⎥\n",
       "     5⎥⎥\n",
       "+ Z_L ⎦⎦"
      ]
     },
     "execution_count": 14,
     "metadata": {},
     "output_type": "execute_result"
    }
   ],
   "source": [
    "fan_out_rows[8]"
   ]
  },
  {
   "cell_type": "code",
   "execution_count": 15,
   "metadata": {},
   "outputs": [
    {
     "data": {
      "text/latex": [
       "$\\displaystyle \\left[ \\left[\\begin{matrix}\\frac{V_{S} Z_{L} \\left(- Z_{C}^{4} + 4 Z_{C}^{3} Z_{L} - 6 Z_{C}^{2} Z_{L}^{2} + 4 Z_{C} Z_{L}^{3} - Z_{L}^{4}\\right)}{Z_{C}^{5} + 5 Z_{C}^{4} Z_{L} + 10 Z_{C}^{3} Z_{L}^{2} + 10 Z_{C}^{2} Z_{L}^{3} + 5 Z_{C} Z_{L}^{4} + Z_{L}^{5}}\\\\\\frac{V_{S} \\left(Z_{C}^{4} - 4 Z_{C}^{3} Z_{L} + 6 Z_{C}^{2} Z_{L}^{2} - 4 Z_{C} Z_{L}^{3} + Z_{L}^{4}\\right)}{Z_{C}^{5} + 5 Z_{C}^{4} Z_{L} + 10 Z_{C}^{3} Z_{L}^{2} + 10 Z_{C}^{2} Z_{L}^{3} + 5 Z_{C} Z_{L}^{4} + Z_{L}^{5}}\\end{matrix}\\right], \\  \\left[\\begin{matrix}\\frac{2 V_{S} Z_{C} Z_{L} \\left(- Z_{C}^{3} + 3 Z_{C}^{2} Z_{L} - 3 Z_{C} Z_{L}^{2} + Z_{L}^{3}\\right)}{Z_{C}^{5} + 5 Z_{C}^{4} Z_{L} + 10 Z_{C}^{3} Z_{L}^{2} + 10 Z_{C}^{2} Z_{L}^{3} + 5 Z_{C} Z_{L}^{4} + Z_{L}^{5}}\\\\\\frac{2 V_{S} Z_{L} \\left(Z_{C}^{3} - 3 Z_{C}^{2} Z_{L} + 3 Z_{C} Z_{L}^{2} - Z_{L}^{3}\\right)}{Z_{C}^{5} + 5 Z_{C}^{4} Z_{L} + 10 Z_{C}^{3} Z_{L}^{2} + 10 Z_{C}^{2} Z_{L}^{3} + 5 Z_{C} Z_{L}^{4} + Z_{L}^{5}}\\end{matrix}\\right], \\  \\left[\\begin{matrix}\\frac{2 V_{S} Z_{C} Z_{L} \\left(- Z_{C}^{3} + 9 Z_{C}^{2} Z_{L} - 15 Z_{C} Z_{L}^{2} + 7 Z_{L}^{3}\\right)}{Z_{C}^{5} + 5 Z_{C}^{4} Z_{L} + 10 Z_{C}^{3} Z_{L}^{2} + 10 Z_{C}^{2} Z_{L}^{3} + 5 Z_{C} Z_{L}^{4} + Z_{L}^{5}}\\\\\\frac{2 V_{S} Z_{C} \\left(Z_{C}^{3} - 9 Z_{C}^{2} Z_{L} + 15 Z_{C} Z_{L}^{2} - 7 Z_{L}^{3}\\right)}{Z_{C}^{5} + 5 Z_{C}^{4} Z_{L} + 10 Z_{C}^{3} Z_{L}^{2} + 10 Z_{C}^{2} Z_{L}^{3} + 5 Z_{C} Z_{L}^{4} + Z_{L}^{5}}\\end{matrix}\\right], \\  \\left[\\begin{matrix}\\frac{2 V_{S} Z_{C} Z_{L} \\left(- 3 Z_{C}^{3} + 15 Z_{C}^{2} Z_{L} - 13 Z_{C} Z_{L}^{2} + Z_{L}^{3}\\right)}{Z_{C}^{5} + 5 Z_{C}^{4} Z_{L} + 10 Z_{C}^{3} Z_{L}^{2} + 10 Z_{C}^{2} Z_{L}^{3} + 5 Z_{C} Z_{L}^{4} + Z_{L}^{5}}\\\\\\frac{2 V_{S} Z_{L} \\left(3 Z_{C}^{3} - 15 Z_{C}^{2} Z_{L} + 13 Z_{C} Z_{L}^{2} - Z_{L}^{3}\\right)}{Z_{C}^{5} + 5 Z_{C}^{4} Z_{L} + 10 Z_{C}^{3} Z_{L}^{2} + 10 Z_{C}^{2} Z_{L}^{3} + 5 Z_{C} Z_{L}^{4} + Z_{L}^{5}}\\end{matrix}\\right], \\  \\left[\\begin{matrix}\\frac{2 V_{S} Z_{C} Z_{L} \\left(- Z_{C}^{3} + 15 Z_{C}^{2} Z_{L} - 27 Z_{C} Z_{L}^{2} + 5 Z_{L}^{3}\\right)}{Z_{C}^{5} + 5 Z_{C}^{4} Z_{L} + 10 Z_{C}^{3} Z_{L}^{2} + 10 Z_{C}^{2} Z_{L}^{3} + 5 Z_{C} Z_{L}^{4} + Z_{L}^{5}}\\\\\\frac{2 V_{S} Z_{C} \\left(Z_{C}^{3} - 15 Z_{C}^{2} Z_{L} + 27 Z_{C} Z_{L}^{2} - 5 Z_{L}^{3}\\right)}{Z_{C}^{5} + 5 Z_{C}^{4} Z_{L} + 10 Z_{C}^{3} Z_{L}^{2} + 10 Z_{C}^{2} Z_{L}^{3} + 5 Z_{C} Z_{L}^{4} + Z_{L}^{5}}\\end{matrix}\\right], \\  \\left[\\begin{matrix}\\frac{2 V_{S} Z_{C} Z_{L} \\left(- 5 Z_{C}^{3} + 27 Z_{C}^{2} Z_{L} - 15 Z_{C} Z_{L}^{2} + Z_{L}^{3}\\right)}{Z_{C}^{5} + 5 Z_{C}^{4} Z_{L} + 10 Z_{C}^{3} Z_{L}^{2} + 10 Z_{C}^{2} Z_{L}^{3} + 5 Z_{C} Z_{L}^{4} + Z_{L}^{5}}\\\\\\frac{2 V_{S} Z_{L} \\left(5 Z_{C}^{3} - 27 Z_{C}^{2} Z_{L} + 15 Z_{C} Z_{L}^{2} - Z_{L}^{3}\\right)}{Z_{C}^{5} + 5 Z_{C}^{4} Z_{L} + 10 Z_{C}^{3} Z_{L}^{2} + 10 Z_{C}^{2} Z_{L}^{3} + 5 Z_{C} Z_{L}^{4} + Z_{L}^{5}}\\end{matrix}\\right], \\  \\left[\\begin{matrix}\\frac{2 V_{S} Z_{C} Z_{L} \\left(- Z_{C}^{3} + 13 Z_{C}^{2} Z_{L} - 15 Z_{C} Z_{L}^{2} + 3 Z_{L}^{3}\\right)}{Z_{C}^{5} + 5 Z_{C}^{4} Z_{L} + 10 Z_{C}^{3} Z_{L}^{2} + 10 Z_{C}^{2} Z_{L}^{3} + 5 Z_{C} Z_{L}^{4} + Z_{L}^{5}}\\\\\\frac{2 V_{S} Z_{C} \\left(Z_{C}^{3} - 13 Z_{C}^{2} Z_{L} + 15 Z_{C} Z_{L}^{2} - 3 Z_{L}^{3}\\right)}{Z_{C}^{5} + 5 Z_{C}^{4} Z_{L} + 10 Z_{C}^{3} Z_{L}^{2} + 10 Z_{C}^{2} Z_{L}^{3} + 5 Z_{C} Z_{L}^{4} + Z_{L}^{5}}\\end{matrix}\\right], \\  \\left[\\begin{matrix}\\frac{2 V_{S} Z_{C} Z_{L} \\left(- 7 Z_{C}^{3} + 15 Z_{C}^{2} Z_{L} - 9 Z_{C} Z_{L}^{2} + Z_{L}^{3}\\right)}{Z_{C}^{5} + 5 Z_{C}^{4} Z_{L} + 10 Z_{C}^{3} Z_{L}^{2} + 10 Z_{C}^{2} Z_{L}^{3} + 5 Z_{C} Z_{L}^{4} + Z_{L}^{5}}\\\\\\frac{2 V_{S} Z_{L} \\left(7 Z_{C}^{3} - 15 Z_{C}^{2} Z_{L} + 9 Z_{C} Z_{L}^{2} - Z_{L}^{3}\\right)}{Z_{C}^{5} + 5 Z_{C}^{4} Z_{L} + 10 Z_{C}^{3} Z_{L}^{2} + 10 Z_{C}^{2} Z_{L}^{3} + 5 Z_{C} Z_{L}^{4} + Z_{L}^{5}}\\end{matrix}\\right], \\  \\left[\\begin{matrix}\\frac{2 V_{S} Z_{C} Z_{L} \\left(- Z_{C}^{3} + 3 Z_{C}^{2} Z_{L} - 3 Z_{C} Z_{L}^{2} + Z_{L}^{3}\\right)}{Z_{C}^{5} + 5 Z_{C}^{4} Z_{L} + 10 Z_{C}^{3} Z_{L}^{2} + 10 Z_{C}^{2} Z_{L}^{3} + 5 Z_{C} Z_{L}^{4} + Z_{L}^{5}}\\\\\\frac{2 V_{S} Z_{C} \\left(Z_{C}^{3} - 3 Z_{C}^{2} Z_{L} + 3 Z_{C} Z_{L}^{2} - Z_{L}^{3}\\right)}{Z_{C}^{5} + 5 Z_{C}^{4} Z_{L} + 10 Z_{C}^{3} Z_{L}^{2} + 10 Z_{C}^{2} Z_{L}^{3} + 5 Z_{C} Z_{L}^{4} + Z_{L}^{5}}\\end{matrix}\\right], \\  \\left[\\begin{matrix}\\frac{V_{S} Z_{C} \\left(Z_{C}^{4} - 4 Z_{C}^{3} Z_{L} + 6 Z_{C}^{2} Z_{L}^{2} - 4 Z_{C} Z_{L}^{3} + Z_{L}^{4}\\right)}{Z_{C}^{5} + 5 Z_{C}^{4} Z_{L} + 10 Z_{C}^{3} Z_{L}^{2} + 10 Z_{C}^{2} Z_{L}^{3} + 5 Z_{C} Z_{L}^{4} + Z_{L}^{5}}\\\\\\frac{V_{S} \\left(- Z_{C}^{4} + 4 Z_{C}^{3} Z_{L} - 6 Z_{C}^{2} Z_{L}^{2} + 4 Z_{C} Z_{L}^{3} - Z_{L}^{4}\\right)}{Z_{C}^{5} + 5 Z_{C}^{4} Z_{L} + 10 Z_{C}^{3} Z_{L}^{2} + 10 Z_{C}^{2} Z_{L}^{3} + 5 Z_{C} Z_{L}^{4} + Z_{L}^{5}}\\end{matrix}\\right]\\right]$"
      ],
      "text/plain": [
       "⎡⎡          ⎛     4        3            2    2            3      4⎞  ⎤  ⎡     \n",
       "⎢⎢  V_S⋅Z_L⋅⎝- Z_C  + 4⋅Z_C ⋅Z_L - 6⋅Z_C ⋅Z_L  + 4⋅Z_C⋅Z_L  - Z_L ⎠  ⎥  ⎢     \n",
       "⎢⎢───────────────────────────────────────────────────────────────────⎥  ⎢─────\n",
       "⎢⎢   5        4             3    2         2    3            4      5⎥  ⎢   5 \n",
       "⎢⎢Z_C  + 5⋅Z_C ⋅Z_L + 10⋅Z_C ⋅Z_L  + 10⋅Z_C ⋅Z_L  + 5⋅Z_C⋅Z_L  + Z_L ⎥  ⎢Z_C  \n",
       "⎢⎢                                                                   ⎥, ⎢     \n",
       "⎢⎢         ⎛   4        3            2    2            3      4⎞     ⎥  ⎢     \n",
       "⎢⎢     V_S⋅⎝Z_C  - 4⋅Z_C ⋅Z_L + 6⋅Z_C ⋅Z_L  - 4⋅Z_C⋅Z_L  + Z_L ⎠     ⎥  ⎢     \n",
       "⎢⎢───────────────────────────────────────────────────────────────────⎥  ⎢─────\n",
       "⎢⎢   5        4             3    2         2    3            4      5⎥  ⎢   5 \n",
       "⎣⎣Z_C  + 5⋅Z_C ⋅Z_L + 10⋅Z_C ⋅Z_L  + 10⋅Z_C ⋅Z_L  + 5⋅Z_C⋅Z_L  + Z_L ⎦  ⎣Z_C  \n",
       "\n",
       "               ⎛     3        2                2      3⎞      ⎤  ⎡            \n",
       " 2⋅V_S⋅Z_C⋅Z_L⋅⎝- Z_C  + 3⋅Z_C ⋅Z_L - 3⋅Z_C⋅Z_L  + Z_L ⎠      ⎥  ⎢     2⋅V_S⋅Z\n",
       "──────────────────────────────────────────────────────────────⎥  ⎢────────────\n",
       "       4             3    2         2    3            4      5⎥  ⎢   5        \n",
       "+ 5⋅Z_C ⋅Z_L + 10⋅Z_C ⋅Z_L  + 10⋅Z_C ⋅Z_L  + 5⋅Z_C⋅Z_L  + Z_L ⎥  ⎢Z_C  + 5⋅Z_C\n",
       "                                                              ⎥, ⎢            \n",
       "              ⎛   3        2                2      3⎞         ⎥  ⎢            \n",
       "    2⋅V_S⋅Z_L⋅⎝Z_C  - 3⋅Z_C ⋅Z_L + 3⋅Z_C⋅Z_L  - Z_L ⎠         ⎥  ⎢        2⋅V_\n",
       "──────────────────────────────────────────────────────────────⎥  ⎢────────────\n",
       "       4             3    2         2    3            4      5⎥  ⎢   5        \n",
       "+ 5⋅Z_C ⋅Z_L + 10⋅Z_C ⋅Z_L  + 10⋅Z_C ⋅Z_L  + 5⋅Z_C⋅Z_L  + Z_L ⎦  ⎣Z_C  + 5⋅Z_C\n",
       "\n",
       "       ⎛     3        2                 2        3⎞    ⎤  ⎡                  ⎛\n",
       "_C⋅Z_L⋅⎝- Z_C  + 9⋅Z_C ⋅Z_L - 15⋅Z_C⋅Z_L  + 7⋅Z_L ⎠    ⎥  ⎢    2⋅V_S⋅Z_C⋅Z_L⋅⎝\n",
       "───────────────────────────────────────────────────────⎥  ⎢───────────────────\n",
       "4             3    2         2    3            4      5⎥  ⎢   5        4      \n",
       " ⋅Z_L + 10⋅Z_C ⋅Z_L  + 10⋅Z_C ⋅Z_L  + 5⋅Z_C⋅Z_L  + Z_L ⎥  ⎢Z_C  + 5⋅Z_C ⋅Z_L +\n",
       "                                                       ⎥, ⎢                   \n",
       "      ⎛   3        2                 2        3⎞       ⎥  ⎢                 ⎛ \n",
       "S⋅Z_C⋅⎝Z_C  - 9⋅Z_C ⋅Z_L + 15⋅Z_C⋅Z_L  - 7⋅Z_L ⎠       ⎥  ⎢       2⋅V_S⋅Z_L⋅⎝3\n",
       "───────────────────────────────────────────────────────⎥  ⎢───────────────────\n",
       "4             3    2         2    3            4      5⎥  ⎢   5        4      \n",
       " ⋅Z_L + 10⋅Z_C ⋅Z_L  + 10⋅Z_C ⋅Z_L  + 5⋅Z_C⋅Z_L  + Z_L ⎦  ⎣Z_C  + 5⋅Z_C ⋅Z_L +\n",
       "\n",
       "       3         2                 2      3⎞    ⎤  ⎡                  ⎛     3 \n",
       "- 3⋅Z_C  + 15⋅Z_C ⋅Z_L - 13⋅Z_C⋅Z_L  + Z_L ⎠    ⎥  ⎢    2⋅V_S⋅Z_C⋅Z_L⋅⎝- Z_C  \n",
       "────────────────────────────────────────────────⎥  ⎢──────────────────────────\n",
       "       3    2         2    3            4      5⎥  ⎢   5        4             \n",
       " 10⋅Z_C ⋅Z_L  + 10⋅Z_C ⋅Z_L  + 5⋅Z_C⋅Z_L  + Z_L ⎥  ⎢Z_C  + 5⋅Z_C ⋅Z_L + 10⋅Z_C\n",
       "                                                ⎥, ⎢                          \n",
       "    3         2                 2      3⎞       ⎥  ⎢                 ⎛   3    \n",
       "⋅Z_C  - 15⋅Z_C ⋅Z_L + 13⋅Z_C⋅Z_L  - Z_L ⎠       ⎥  ⎢       2⋅V_S⋅Z_C⋅⎝Z_C  - 1\n",
       "────────────────────────────────────────────────⎥  ⎢──────────────────────────\n",
       "       3    2         2    3            4      5⎥  ⎢   5        4             \n",
       " 10⋅Z_C ⋅Z_L  + 10⋅Z_C ⋅Z_L  + 5⋅Z_C⋅Z_L  + Z_L ⎦  ⎣Z_C  + 5⋅Z_C ⋅Z_L + 10⋅Z_C\n",
       "\n",
       "        2                 2        3⎞    ⎤  ⎡                  ⎛       3      \n",
       "+ 15⋅Z_C ⋅Z_L - 27⋅Z_C⋅Z_L  + 5⋅Z_L ⎠    ⎥  ⎢    2⋅V_S⋅Z_C⋅Z_L⋅⎝- 5⋅Z_C  + 27⋅\n",
       "─────────────────────────────────────────⎥  ⎢─────────────────────────────────\n",
       "3    2         2    3            4      5⎥  ⎢   5        4             3    2 \n",
       " ⋅Z_L  + 10⋅Z_C ⋅Z_L  + 5⋅Z_C⋅Z_L  + Z_L ⎥  ⎢Z_C  + 5⋅Z_C ⋅Z_L + 10⋅Z_C ⋅Z_L  \n",
       "                                         ⎥, ⎢                                 \n",
       "     2                 2        3⎞       ⎥  ⎢                 ⎛     3         \n",
       "5⋅Z_C ⋅Z_L + 27⋅Z_C⋅Z_L  - 5⋅Z_L ⎠       ⎥  ⎢       2⋅V_S⋅Z_L⋅⎝5⋅Z_C  - 27⋅Z_C\n",
       "─────────────────────────────────────────⎥  ⎢─────────────────────────────────\n",
       "3    2         2    3            4      5⎥  ⎢   5        4             3    2 \n",
       " ⋅Z_L  + 10⋅Z_C ⋅Z_L  + 5⋅Z_C⋅Z_L  + Z_L ⎦  ⎣Z_C  + 5⋅Z_C ⋅Z_L + 10⋅Z_C ⋅Z_L  \n",
       "\n",
       "   2                 2      3⎞    ⎤  ⎡                  ⎛     3         2     \n",
       "Z_C ⋅Z_L - 15⋅Z_C⋅Z_L  + Z_L ⎠    ⎥  ⎢    2⋅V_S⋅Z_C⋅Z_L⋅⎝- Z_C  + 13⋅Z_C ⋅Z_L \n",
       "──────────────────────────────────⎥  ⎢────────────────────────────────────────\n",
       "        2    3            4      5⎥  ⎢   5        4             3    2        \n",
       "+ 10⋅Z_C ⋅Z_L  + 5⋅Z_C⋅Z_L  + Z_L ⎥  ⎢Z_C  + 5⋅Z_C ⋅Z_L + 10⋅Z_C ⋅Z_L  + 10⋅Z_\n",
       "                                  ⎥, ⎢                                        \n",
       "2                 2      3⎞       ⎥  ⎢                 ⎛   3         2        \n",
       " ⋅Z_L + 15⋅Z_C⋅Z_L  - Z_L ⎠       ⎥  ⎢       2⋅V_S⋅Z_C⋅⎝Z_C  - 13⋅Z_C ⋅Z_L + 1\n",
       "──────────────────────────────────⎥  ⎢────────────────────────────────────────\n",
       "        2    3            4      5⎥  ⎢   5        4             3    2        \n",
       "+ 10⋅Z_C ⋅Z_L  + 5⋅Z_C⋅Z_L  + Z_L ⎦  ⎣Z_C  + 5⋅Z_C ⋅Z_L + 10⋅Z_C ⋅Z_L  + 10⋅Z_\n",
       "\n",
       "            2        3⎞    ⎤  ⎡                   ⎛       3         2         \n",
       "- 15⋅Z_C⋅Z_L  + 3⋅Z_L ⎠    ⎥  ⎢     2⋅V_S⋅Z_C⋅Z_L⋅⎝- 7⋅Z_C  + 15⋅Z_C ⋅Z_L - 9⋅\n",
       "───────────────────────────⎥  ⎢───────────────────────────────────────────────\n",
       " 2    3            4      5⎥  ⎢   5        4             3    2         2    3\n",
       "C ⋅Z_L  + 5⋅Z_C⋅Z_L  + Z_L ⎥  ⎢Z_C  + 5⋅Z_C ⋅Z_L + 10⋅Z_C ⋅Z_L  + 10⋅Z_C ⋅Z_L \n",
       "                           ⎥, ⎢                                               \n",
       "         2        3⎞       ⎥  ⎢                  ⎛     3         2            \n",
       "5⋅Z_C⋅Z_L  - 3⋅Z_L ⎠       ⎥  ⎢        2⋅V_S⋅Z_L⋅⎝7⋅Z_C  - 15⋅Z_C ⋅Z_L + 9⋅Z_C\n",
       "───────────────────────────⎥  ⎢───────────────────────────────────────────────\n",
       " 2    3            4      5⎥  ⎢   5        4             3    2         2    3\n",
       "C ⋅Z_L  + 5⋅Z_C⋅Z_L  + Z_L ⎦  ⎣Z_C  + 5⋅Z_C ⋅Z_L + 10⋅Z_C ⋅Z_L  + 10⋅Z_C ⋅Z_L \n",
       "\n",
       "       2      3⎞    ⎤  ⎡                    ⎛     3        2                2 \n",
       "Z_C⋅Z_L  + Z_L ⎠    ⎥  ⎢      2⋅V_S⋅Z_C⋅Z_L⋅⎝- Z_C  + 3⋅Z_C ⋅Z_L - 3⋅Z_C⋅Z_L  \n",
       "────────────────────⎥  ⎢──────────────────────────────────────────────────────\n",
       "            4      5⎥  ⎢   5        4             3    2         2    3       \n",
       " + 5⋅Z_C⋅Z_L  + Z_L ⎥  ⎢Z_C  + 5⋅Z_C ⋅Z_L + 10⋅Z_C ⋅Z_L  + 10⋅Z_C ⋅Z_L  + 5⋅Z_\n",
       "                    ⎥, ⎢                                                      \n",
       "    2      3⎞       ⎥  ⎢                   ⎛   3        2                2    \n",
       "⋅Z_L  - Z_L ⎠       ⎥  ⎢         2⋅V_S⋅Z_C⋅⎝Z_C  - 3⋅Z_C ⋅Z_L + 3⋅Z_C⋅Z_L  - Z\n",
       "────────────────────⎥  ⎢──────────────────────────────────────────────────────\n",
       "            4      5⎥  ⎢   5        4             3    2         2    3       \n",
       " + 5⋅Z_C⋅Z_L  + Z_L ⎦  ⎣Z_C  + 5⋅Z_C ⋅Z_L + 10⋅Z_C ⋅Z_L  + 10⋅Z_C ⋅Z_L  + 5⋅Z_\n",
       "\n",
       "     3⎞      ⎤  ⎡           ⎛   4        3            2    2            3     \n",
       "+ Z_L ⎠      ⎥  ⎢   V_S⋅Z_C⋅⎝Z_C  - 4⋅Z_C ⋅Z_L + 6⋅Z_C ⋅Z_L  - 4⋅Z_C⋅Z_L  + Z_\n",
       "─────────────⎥  ⎢─────────────────────────────────────────────────────────────\n",
       "     4      5⎥  ⎢   5        4             3    2         2    3            4 \n",
       "C⋅Z_L  + Z_L ⎥  ⎢Z_C  + 5⋅Z_C ⋅Z_L + 10⋅Z_C ⋅Z_L  + 10⋅Z_C ⋅Z_L  + 5⋅Z_C⋅Z_L  \n",
       "             ⎥, ⎢                                                             \n",
       "  3⎞         ⎥  ⎢        ⎛     4        3            2    2            3      \n",
       "_L ⎠         ⎥  ⎢    V_S⋅⎝- Z_C  + 4⋅Z_C ⋅Z_L - 6⋅Z_C ⋅Z_L  + 4⋅Z_C⋅Z_L  - Z_L\n",
       "─────────────⎥  ⎢─────────────────────────────────────────────────────────────\n",
       "     4      5⎥  ⎢   5        4             3    2         2    3            4 \n",
       "C⋅Z_L  + Z_L ⎦  ⎣Z_C  + 5⋅Z_C ⋅Z_L + 10⋅Z_C ⋅Z_L  + 10⋅Z_C ⋅Z_L  + 5⋅Z_C⋅Z_L  \n",
       "\n",
       " 4⎞   ⎤⎤\n",
       "L ⎠   ⎥⎥\n",
       "──────⎥⎥\n",
       "     5⎥⎥\n",
       "+ Z_L ⎥⎥\n",
       "      ⎥⎥\n",
       "4⎞    ⎥⎥\n",
       " ⎠    ⎥⎥\n",
       "──────⎥⎥\n",
       "     5⎥⎥\n",
       "+ Z_L ⎦⎦"
      ]
     },
     "execution_count": 15,
     "metadata": {},
     "output_type": "execute_result"
    }
   ],
   "source": [
    "fan_out_rows[9]"
   ]
  },
  {
   "cell_type": "code",
   "execution_count": 16,
   "metadata": {},
   "outputs": [
    {
     "data": {
      "text/latex": [
       "$\\displaystyle \\left[ \\left[\\begin{matrix}\\frac{V_{S} Z_{L} \\left(- Z_{C}^{5} + 5 Z_{C}^{4} Z_{L} - 10 Z_{C}^{3} Z_{L}^{2} + 10 Z_{C}^{2} Z_{L}^{3} - 5 Z_{C} Z_{L}^{4} + Z_{L}^{5}\\right)}{Z_{C}^{6} + 6 Z_{C}^{5} Z_{L} + 15 Z_{C}^{4} Z_{L}^{2} + 20 Z_{C}^{3} Z_{L}^{3} + 15 Z_{C}^{2} Z_{L}^{4} + 6 Z_{C} Z_{L}^{5} + Z_{L}^{6}}\\\\\\frac{V_{S} \\left(- Z_{C}^{5} + 5 Z_{C}^{4} Z_{L} - 10 Z_{C}^{3} Z_{L}^{2} + 10 Z_{C}^{2} Z_{L}^{3} - 5 Z_{C} Z_{L}^{4} + Z_{L}^{5}\\right)}{Z_{C}^{6} + 6 Z_{C}^{5} Z_{L} + 15 Z_{C}^{4} Z_{L}^{2} + 20 Z_{C}^{3} Z_{L}^{3} + 15 Z_{C}^{2} Z_{L}^{4} + 6 Z_{C} Z_{L}^{5} + Z_{L}^{6}}\\end{matrix}\\right], \\  \\left[\\begin{matrix}\\frac{2 V_{S} Z_{C} Z_{L} \\left(Z_{C}^{4} - 4 Z_{C}^{3} Z_{L} + 6 Z_{C}^{2} Z_{L}^{2} - 4 Z_{C} Z_{L}^{3} + Z_{L}^{4}\\right)}{Z_{C}^{6} + 6 Z_{C}^{5} Z_{L} + 15 Z_{C}^{4} Z_{L}^{2} + 20 Z_{C}^{3} Z_{L}^{3} + 15 Z_{C}^{2} Z_{L}^{4} + 6 Z_{C} Z_{L}^{5} + Z_{L}^{6}}\\\\\\frac{2 V_{S} Z_{L} \\left(Z_{C}^{4} - 4 Z_{C}^{3} Z_{L} + 6 Z_{C}^{2} Z_{L}^{2} - 4 Z_{C} Z_{L}^{3} + Z_{L}^{4}\\right)}{Z_{C}^{6} + 6 Z_{C}^{5} Z_{L} + 15 Z_{C}^{4} Z_{L}^{2} + 20 Z_{C}^{3} Z_{L}^{3} + 15 Z_{C}^{2} Z_{L}^{4} + 6 Z_{C} Z_{L}^{5} + Z_{L}^{6}}\\end{matrix}\\right], \\  \\left[\\begin{matrix}\\frac{2 V_{S} Z_{C} Z_{L} \\left(- Z_{C}^{4} + 12 Z_{C}^{3} Z_{L} - 30 Z_{C}^{2} Z_{L}^{2} + 28 Z_{C} Z_{L}^{3} - 9 Z_{L}^{4}\\right)}{Z_{C}^{6} + 6 Z_{C}^{5} Z_{L} + 15 Z_{C}^{4} Z_{L}^{2} + 20 Z_{C}^{3} Z_{L}^{3} + 15 Z_{C}^{2} Z_{L}^{4} + 6 Z_{C} Z_{L}^{5} + Z_{L}^{6}}\\\\\\frac{2 V_{S} Z_{C} \\left(- Z_{C}^{4} + 12 Z_{C}^{3} Z_{L} - 30 Z_{C}^{2} Z_{L}^{2} + 28 Z_{C} Z_{L}^{3} - 9 Z_{L}^{4}\\right)}{Z_{C}^{6} + 6 Z_{C}^{5} Z_{L} + 15 Z_{C}^{4} Z_{L}^{2} + 20 Z_{C}^{3} Z_{L}^{3} + 15 Z_{C}^{2} Z_{L}^{4} + 6 Z_{C} Z_{L}^{5} + Z_{L}^{6}}\\end{matrix}\\right], \\  \\left[\\begin{matrix}\\frac{2 V_{S} Z_{C} Z_{L} \\left(3 Z_{C}^{4} - 22 Z_{C}^{3} Z_{L} + 36 Z_{C}^{2} Z_{L}^{2} - 18 Z_{C} Z_{L}^{3} + Z_{L}^{4}\\right)}{Z_{C}^{6} + 6 Z_{C}^{5} Z_{L} + 15 Z_{C}^{4} Z_{L}^{2} + 20 Z_{C}^{3} Z_{L}^{3} + 15 Z_{C}^{2} Z_{L}^{4} + 6 Z_{C} Z_{L}^{5} + Z_{L}^{6}}\\\\\\frac{2 V_{S} Z_{L} \\left(3 Z_{C}^{4} - 22 Z_{C}^{3} Z_{L} + 36 Z_{C}^{2} Z_{L}^{2} - 18 Z_{C} Z_{L}^{3} + Z_{L}^{4}\\right)}{Z_{C}^{6} + 6 Z_{C}^{5} Z_{L} + 15 Z_{C}^{4} Z_{L}^{2} + 20 Z_{C}^{3} Z_{L}^{3} + 15 Z_{C}^{2} Z_{L}^{4} + 6 Z_{C} Z_{L}^{5} + Z_{L}^{6}}\\end{matrix}\\right], \\  \\left[\\begin{matrix}\\frac{2 V_{S} Z_{C} Z_{L} \\left(- Z_{C}^{4} + 22 Z_{C}^{3} Z_{L} - 72 Z_{C}^{2} Z_{L}^{2} + 58 Z_{C} Z_{L}^{3} - 7 Z_{L}^{4}\\right)}{Z_{C}^{6} + 6 Z_{C}^{5} Z_{L} + 15 Z_{C}^{4} Z_{L}^{2} + 20 Z_{C}^{3} Z_{L}^{3} + 15 Z_{C}^{2} Z_{L}^{4} + 6 Z_{C} Z_{L}^{5} + Z_{L}^{6}}\\\\\\frac{2 V_{S} Z_{C} \\left(- Z_{C}^{4} + 22 Z_{C}^{3} Z_{L} - 72 Z_{C}^{2} Z_{L}^{2} + 58 Z_{C} Z_{L}^{3} - 7 Z_{L}^{4}\\right)}{Z_{C}^{6} + 6 Z_{C}^{5} Z_{L} + 15 Z_{C}^{4} Z_{L}^{2} + 20 Z_{C}^{3} Z_{L}^{3} + 15 Z_{C}^{2} Z_{L}^{4} + 6 Z_{C} Z_{L}^{5} + Z_{L}^{6}}\\end{matrix}\\right], \\  \\left[\\begin{matrix}\\frac{2 V_{S} Z_{C} Z_{L} \\left(5 Z_{C}^{4} - 48 Z_{C}^{3} Z_{L} + 82 Z_{C}^{2} Z_{L}^{2} - 24 Z_{C} Z_{L}^{3} + Z_{L}^{4}\\right)}{Z_{C}^{6} + 6 Z_{C}^{5} Z_{L} + 15 Z_{C}^{4} Z_{L}^{2} + 20 Z_{C}^{3} Z_{L}^{3} + 15 Z_{C}^{2} Z_{L}^{4} + 6 Z_{C} Z_{L}^{5} + Z_{L}^{6}}\\\\\\frac{2 V_{S} Z_{L} \\left(5 Z_{C}^{4} - 48 Z_{C}^{3} Z_{L} + 82 Z_{C}^{2} Z_{L}^{2} - 24 Z_{C} Z_{L}^{3} + Z_{L}^{4}\\right)}{Z_{C}^{6} + 6 Z_{C}^{5} Z_{L} + 15 Z_{C}^{4} Z_{L}^{2} + 20 Z_{C}^{3} Z_{L}^{3} + 15 Z_{C}^{2} Z_{L}^{4} + 6 Z_{C} Z_{L}^{5} + Z_{L}^{6}}\\end{matrix}\\right], \\  \\left[\\begin{matrix}\\frac{2 V_{S} Z_{C} Z_{L} \\left(- Z_{C}^{4} + 24 Z_{C}^{3} Z_{L} - 82 Z_{C}^{2} Z_{L}^{2} + 48 Z_{C} Z_{L}^{3} - 5 Z_{L}^{4}\\right)}{Z_{C}^{6} + 6 Z_{C}^{5} Z_{L} + 15 Z_{C}^{4} Z_{L}^{2} + 20 Z_{C}^{3} Z_{L}^{3} + 15 Z_{C}^{2} Z_{L}^{4} + 6 Z_{C} Z_{L}^{5} + Z_{L}^{6}}\\\\\\frac{2 V_{S} Z_{C} \\left(- Z_{C}^{4} + 24 Z_{C}^{3} Z_{L} - 82 Z_{C}^{2} Z_{L}^{2} + 48 Z_{C} Z_{L}^{3} - 5 Z_{L}^{4}\\right)}{Z_{C}^{6} + 6 Z_{C}^{5} Z_{L} + 15 Z_{C}^{4} Z_{L}^{2} + 20 Z_{C}^{3} Z_{L}^{3} + 15 Z_{C}^{2} Z_{L}^{4} + 6 Z_{C} Z_{L}^{5} + Z_{L}^{6}}\\end{matrix}\\right], \\  \\left[\\begin{matrix}\\frac{2 V_{S} Z_{C} Z_{L} \\left(7 Z_{C}^{4} - 58 Z_{C}^{3} Z_{L} + 72 Z_{C}^{2} Z_{L}^{2} - 22 Z_{C} Z_{L}^{3} + Z_{L}^{4}\\right)}{Z_{C}^{6} + 6 Z_{C}^{5} Z_{L} + 15 Z_{C}^{4} Z_{L}^{2} + 20 Z_{C}^{3} Z_{L}^{3} + 15 Z_{C}^{2} Z_{L}^{4} + 6 Z_{C} Z_{L}^{5} + Z_{L}^{6}}\\\\\\frac{2 V_{S} Z_{L} \\left(7 Z_{C}^{4} - 58 Z_{C}^{3} Z_{L} + 72 Z_{C}^{2} Z_{L}^{2} - 22 Z_{C} Z_{L}^{3} + Z_{L}^{4}\\right)}{Z_{C}^{6} + 6 Z_{C}^{5} Z_{L} + 15 Z_{C}^{4} Z_{L}^{2} + 20 Z_{C}^{3} Z_{L}^{3} + 15 Z_{C}^{2} Z_{L}^{4} + 6 Z_{C} Z_{L}^{5} + Z_{L}^{6}}\\end{matrix}\\right], \\  \\left[\\begin{matrix}\\frac{2 V_{S} Z_{C} Z_{L} \\left(- Z_{C}^{4} + 18 Z_{C}^{3} Z_{L} - 36 Z_{C}^{2} Z_{L}^{2} + 22 Z_{C} Z_{L}^{3} - 3 Z_{L}^{4}\\right)}{Z_{C}^{6} + 6 Z_{C}^{5} Z_{L} + 15 Z_{C}^{4} Z_{L}^{2} + 20 Z_{C}^{3} Z_{L}^{3} + 15 Z_{C}^{2} Z_{L}^{4} + 6 Z_{C} Z_{L}^{5} + Z_{L}^{6}}\\\\\\frac{2 V_{S} Z_{C} \\left(- Z_{C}^{4} + 18 Z_{C}^{3} Z_{L} - 36 Z_{C}^{2} Z_{L}^{2} + 22 Z_{C} Z_{L}^{3} - 3 Z_{L}^{4}\\right)}{Z_{C}^{6} + 6 Z_{C}^{5} Z_{L} + 15 Z_{C}^{4} Z_{L}^{2} + 20 Z_{C}^{3} Z_{L}^{3} + 15 Z_{C}^{2} Z_{L}^{4} + 6 Z_{C} Z_{L}^{5} + Z_{L}^{6}}\\end{matrix}\\right], \\  \\left[\\begin{matrix}\\frac{2 V_{S} Z_{C} Z_{L} \\left(9 Z_{C}^{4} - 28 Z_{C}^{3} Z_{L} + 30 Z_{C}^{2} Z_{L}^{2} - 12 Z_{C} Z_{L}^{3} + Z_{L}^{4}\\right)}{Z_{C}^{6} + 6 Z_{C}^{5} Z_{L} + 15 Z_{C}^{4} Z_{L}^{2} + 20 Z_{C}^{3} Z_{L}^{3} + 15 Z_{C}^{2} Z_{L}^{4} + 6 Z_{C} Z_{L}^{5} + Z_{L}^{6}}\\\\\\frac{2 V_{S} Z_{L} \\left(9 Z_{C}^{4} - 28 Z_{C}^{3} Z_{L} + 30 Z_{C}^{2} Z_{L}^{2} - 12 Z_{C} Z_{L}^{3} + Z_{L}^{4}\\right)}{Z_{C}^{6} + 6 Z_{C}^{5} Z_{L} + 15 Z_{C}^{4} Z_{L}^{2} + 20 Z_{C}^{3} Z_{L}^{3} + 15 Z_{C}^{2} Z_{L}^{4} + 6 Z_{C} Z_{L}^{5} + Z_{L}^{6}}\\end{matrix}\\right], \\  \\left[\\begin{matrix}\\frac{2 V_{S} Z_{C} Z_{L} \\left(- Z_{C}^{4} + 4 Z_{C}^{3} Z_{L} - 6 Z_{C}^{2} Z_{L}^{2} + 4 Z_{C} Z_{L}^{3} - Z_{L}^{4}\\right)}{Z_{C}^{6} + 6 Z_{C}^{5} Z_{L} + 15 Z_{C}^{4} Z_{L}^{2} + 20 Z_{C}^{3} Z_{L}^{3} + 15 Z_{C}^{2} Z_{L}^{4} + 6 Z_{C} Z_{L}^{5} + Z_{L}^{6}}\\\\\\frac{2 V_{S} Z_{C} \\left(- Z_{C}^{4} + 4 Z_{C}^{3} Z_{L} - 6 Z_{C}^{2} Z_{L}^{2} + 4 Z_{C} Z_{L}^{3} - Z_{L}^{4}\\right)}{Z_{C}^{6} + 6 Z_{C}^{5} Z_{L} + 15 Z_{C}^{4} Z_{L}^{2} + 20 Z_{C}^{3} Z_{L}^{3} + 15 Z_{C}^{2} Z_{L}^{4} + 6 Z_{C} Z_{L}^{5} + Z_{L}^{6}}\\end{matrix}\\right], \\  \\left[\\begin{matrix}\\frac{V_{S} Z_{C} \\left(- Z_{C}^{5} + 5 Z_{C}^{4} Z_{L} - 10 Z_{C}^{3} Z_{L}^{2} + 10 Z_{C}^{2} Z_{L}^{3} - 5 Z_{C} Z_{L}^{4} + Z_{L}^{5}\\right)}{Z_{C}^{6} + 6 Z_{C}^{5} Z_{L} + 15 Z_{C}^{4} Z_{L}^{2} + 20 Z_{C}^{3} Z_{L}^{3} + 15 Z_{C}^{2} Z_{L}^{4} + 6 Z_{C} Z_{L}^{5} + Z_{L}^{6}}\\\\\\frac{V_{S} \\left(- Z_{C}^{5} + 5 Z_{C}^{4} Z_{L} - 10 Z_{C}^{3} Z_{L}^{2} + 10 Z_{C}^{2} Z_{L}^{3} - 5 Z_{C} Z_{L}^{4} + Z_{L}^{5}\\right)}{Z_{C}^{6} + 6 Z_{C}^{5} Z_{L} + 15 Z_{C}^{4} Z_{L}^{2} + 20 Z_{C}^{3} Z_{L}^{3} + 15 Z_{C}^{2} Z_{L}^{4} + 6 Z_{C} Z_{L}^{5} + Z_{L}^{6}}\\end{matrix}\\right]\\right]$"
      ],
      "text/plain": [
       "⎡⎡         ⎛     5        4             3    2         2    3            4    \n",
       "⎢⎢ V_S⋅Z_L⋅⎝- Z_C  + 5⋅Z_C ⋅Z_L - 10⋅Z_C ⋅Z_L  + 10⋅Z_C ⋅Z_L  - 5⋅Z_C⋅Z_L  + Z\n",
       "⎢⎢────────────────────────────────────────────────────────────────────────────\n",
       "⎢⎢   6        5             4    2         3    3         2    4            5 \n",
       "⎢⎢Z_C  + 6⋅Z_C ⋅Z_L + 15⋅Z_C ⋅Z_L  + 20⋅Z_C ⋅Z_L  + 15⋅Z_C ⋅Z_L  + 6⋅Z_C⋅Z_L  \n",
       "⎢⎢                                                                            \n",
       "⎢⎢       ⎛     5        4             3    2         2    3            4      \n",
       "⎢⎢   V_S⋅⎝- Z_C  + 5⋅Z_C ⋅Z_L - 10⋅Z_C ⋅Z_L  + 10⋅Z_C ⋅Z_L  - 5⋅Z_C⋅Z_L  + Z_L\n",
       "⎢⎢────────────────────────────────────────────────────────────────────────────\n",
       "⎢⎢   6        5             4    2         3    3         2    4            5 \n",
       "⎣⎣Z_C  + 6⋅Z_C ⋅Z_L + 15⋅Z_C ⋅Z_L  + 20⋅Z_C ⋅Z_L  + 15⋅Z_C ⋅Z_L  + 6⋅Z_C⋅Z_L  \n",
       "\n",
       "  5⎞  ⎤  ⎡                     ⎛   4        3            2    2            3  \n",
       "_L ⎠  ⎥  ⎢       2⋅V_S⋅Z_C⋅Z_L⋅⎝Z_C  - 4⋅Z_C ⋅Z_L + 6⋅Z_C ⋅Z_L  - 4⋅Z_C⋅Z_L  +\n",
       "──────⎥  ⎢────────────────────────────────────────────────────────────────────\n",
       "     6⎥  ⎢   6        5             4    2         3    3         2    4      \n",
       "+ Z_L ⎥  ⎢Z_C  + 6⋅Z_C ⋅Z_L + 15⋅Z_C ⋅Z_L  + 20⋅Z_C ⋅Z_L  + 15⋅Z_C ⋅Z_L  + 6⋅Z\n",
       "      ⎥, ⎢                                                                    \n",
       "5⎞    ⎥  ⎢                   ⎛   4        3            2    2            3    \n",
       " ⎠    ⎥  ⎢         2⋅V_S⋅Z_L⋅⎝Z_C  - 4⋅Z_C ⋅Z_L + 6⋅Z_C ⋅Z_L  - 4⋅Z_C⋅Z_L  + Z\n",
       "──────⎥  ⎢────────────────────────────────────────────────────────────────────\n",
       "     6⎥  ⎢   6        5             4    2         3    3         2    4      \n",
       "+ Z_L ⎦  ⎣Z_C  + 6⋅Z_C ⋅Z_L + 15⋅Z_C ⋅Z_L  + 20⋅Z_C ⋅Z_L  + 15⋅Z_C ⋅Z_L  + 6⋅Z\n",
       "\n",
       "    4⎞        ⎤  ⎡                  ⎛     4         3             2    2      \n",
       " Z_L ⎠        ⎥  ⎢    2⋅V_S⋅Z_C⋅Z_L⋅⎝- Z_C  + 12⋅Z_C ⋅Z_L - 30⋅Z_C ⋅Z_L  + 28⋅\n",
       "──────────────⎥  ⎢────────────────────────────────────────────────────────────\n",
       "      5      6⎥  ⎢   6        5             4    2         3    3         2   \n",
       "_C⋅Z_L  + Z_L ⎥  ⎢Z_C  + 6⋅Z_C ⋅Z_L + 15⋅Z_C ⋅Z_L  + 20⋅Z_C ⋅Z_L  + 15⋅Z_C ⋅Z_\n",
       "              ⎥, ⎢                                                            \n",
       "  4⎞          ⎥  ⎢                ⎛     4         3             2    2        \n",
       "_L ⎠          ⎥  ⎢      2⋅V_S⋅Z_C⋅⎝- Z_C  + 12⋅Z_C ⋅Z_L - 30⋅Z_C ⋅Z_L  + 28⋅Z_\n",
       "──────────────⎥  ⎢────────────────────────────────────────────────────────────\n",
       "      5      6⎥  ⎢   6        5             4    2         3    3         2   \n",
       "_C⋅Z_L  + Z_L ⎦  ⎣Z_C  + 6⋅Z_C ⋅Z_L + 15⋅Z_C ⋅Z_L  + 20⋅Z_C ⋅Z_L  + 15⋅Z_C ⋅Z_\n",
       "\n",
       "       3        4⎞    ⎤  ⎡                   ⎛     4         3             2  \n",
       "Z_C⋅Z_L  - 9⋅Z_L ⎠    ⎥  ⎢     2⋅V_S⋅Z_C⋅Z_L⋅⎝3⋅Z_C  - 22⋅Z_C ⋅Z_L + 36⋅Z_C ⋅Z\n",
       "──────────────────────⎥  ⎢────────────────────────────────────────────────────\n",
       " 4            5      6⎥  ⎢   6        5             4    2         3    3     \n",
       "L  + 6⋅Z_C⋅Z_L  + Z_L ⎥  ⎢Z_C  + 6⋅Z_C ⋅Z_L + 15⋅Z_C ⋅Z_L  + 20⋅Z_C ⋅Z_L  + 15\n",
       "                      ⎥, ⎢                                                    \n",
       "     3        4⎞      ⎥  ⎢                 ⎛     4         3             2    \n",
       "C⋅Z_L  - 9⋅Z_L ⎠      ⎥  ⎢       2⋅V_S⋅Z_L⋅⎝3⋅Z_C  - 22⋅Z_C ⋅Z_L + 36⋅Z_C ⋅Z_L\n",
       "──────────────────────⎥  ⎢────────────────────────────────────────────────────\n",
       " 4            5      6⎥  ⎢   6        5             4    2         3    3     \n",
       "L  + 6⋅Z_C⋅Z_L  + Z_L ⎦  ⎣Z_C  + 6⋅Z_C ⋅Z_L + 15⋅Z_C ⋅Z_L  + 20⋅Z_C ⋅Z_L  + 15\n",
       "\n",
       "  2             3      4⎞     ⎤  ⎡                  ⎛     4         3         \n",
       "_L  - 18⋅Z_C⋅Z_L  + Z_L ⎠     ⎥  ⎢    2⋅V_S⋅Z_C⋅Z_L⋅⎝- Z_C  + 22⋅Z_C ⋅Z_L - 72\n",
       "──────────────────────────────⎥  ⎢────────────────────────────────────────────\n",
       "    2    4            5      6⎥  ⎢   6        5             4    2         3  \n",
       "⋅Z_C ⋅Z_L  + 6⋅Z_C⋅Z_L  + Z_L ⎥  ⎢Z_C  + 6⋅Z_C ⋅Z_L + 15⋅Z_C ⋅Z_L  + 20⋅Z_C ⋅Z\n",
       "                              ⎥, ⎢                                            \n",
       "2             3      4⎞       ⎥  ⎢                ⎛     4         3           \n",
       "  - 18⋅Z_C⋅Z_L  + Z_L ⎠       ⎥  ⎢      2⋅V_S⋅Z_C⋅⎝- Z_C  + 22⋅Z_C ⋅Z_L - 72⋅Z\n",
       "──────────────────────────────⎥  ⎢────────────────────────────────────────────\n",
       "    2    4            5      6⎥  ⎢   6        5             4    2         3  \n",
       "⋅Z_C ⋅Z_L  + 6⋅Z_C⋅Z_L  + Z_L ⎦  ⎣Z_C  + 6⋅Z_C ⋅Z_L + 15⋅Z_C ⋅Z_L  + 20⋅Z_C ⋅Z\n",
       "\n",
       "    2    2             3        4⎞    ⎤  ⎡                   ⎛     4         3\n",
       "⋅Z_C ⋅Z_L  + 58⋅Z_C⋅Z_L  - 7⋅Z_L ⎠    ⎥  ⎢     2⋅V_S⋅Z_C⋅Z_L⋅⎝5⋅Z_C  - 48⋅Z_C \n",
       "──────────────────────────────────────⎥  ⎢────────────────────────────────────\n",
       "  3         2    4            5      6⎥  ⎢   6        5             4    2    \n",
       "_L  + 15⋅Z_C ⋅Z_L  + 6⋅Z_C⋅Z_L  + Z_L ⎥  ⎢Z_C  + 6⋅Z_C ⋅Z_L + 15⋅Z_C ⋅Z_L  + 2\n",
       "                                      ⎥, ⎢                                    \n",
       "  2    2             3        4⎞      ⎥  ⎢                 ⎛     4         3  \n",
       "_C ⋅Z_L  + 58⋅Z_C⋅Z_L  - 7⋅Z_L ⎠      ⎥  ⎢       2⋅V_S⋅Z_L⋅⎝5⋅Z_C  - 48⋅Z_C ⋅Z\n",
       "──────────────────────────────────────⎥  ⎢────────────────────────────────────\n",
       "  3         2    4            5      6⎥  ⎢   6        5             4    2    \n",
       "_L  + 15⋅Z_C ⋅Z_L  + 6⋅Z_C⋅Z_L  + Z_L ⎦  ⎣Z_C  + 6⋅Z_C ⋅Z_L + 15⋅Z_C ⋅Z_L  + 2\n",
       "\n",
       "             2    2             3      4⎞     ⎤  ⎡                  ⎛     4   \n",
       "⋅Z_L + 82⋅Z_C ⋅Z_L  - 24⋅Z_C⋅Z_L  + Z_L ⎠     ⎥  ⎢    2⋅V_S⋅Z_C⋅Z_L⋅⎝- Z_C  + \n",
       "──────────────────────────────────────────────⎥  ⎢────────────────────────────\n",
       "     3    3         2    4            5      6⎥  ⎢   6        5             4 \n",
       "0⋅Z_C ⋅Z_L  + 15⋅Z_C ⋅Z_L  + 6⋅Z_C⋅Z_L  + Z_L ⎥  ⎢Z_C  + 6⋅Z_C ⋅Z_L + 15⋅Z_C ⋅\n",
       "                                              ⎥, ⎢                            \n",
       "           2    2             3      4⎞       ⎥  ⎢                ⎛     4     \n",
       "_L + 82⋅Z_C ⋅Z_L  - 24⋅Z_C⋅Z_L  + Z_L ⎠       ⎥  ⎢      2⋅V_S⋅Z_C⋅⎝- Z_C  + 24\n",
       "──────────────────────────────────────────────⎥  ⎢────────────────────────────\n",
       "     3    3         2    4            5      6⎥  ⎢   6        5             4 \n",
       "0⋅Z_C ⋅Z_L  + 15⋅Z_C ⋅Z_L  + 6⋅Z_C⋅Z_L  + Z_L ⎦  ⎣Z_C  + 6⋅Z_C ⋅Z_L + 15⋅Z_C ⋅\n",
       "\n",
       "      3             2    2             3        4⎞    ⎤  ⎡                   ⎛\n",
       "24⋅Z_C ⋅Z_L - 82⋅Z_C ⋅Z_L  + 48⋅Z_C⋅Z_L  - 5⋅Z_L ⎠    ⎥  ⎢     2⋅V_S⋅Z_C⋅Z_L⋅⎝\n",
       "──────────────────────────────────────────────────────⎥  ⎢────────────────────\n",
       "   2         3    3         2    4            5      6⎥  ⎢   6        5       \n",
       "Z_L  + 20⋅Z_C ⋅Z_L  + 15⋅Z_C ⋅Z_L  + 6⋅Z_C⋅Z_L  + Z_L ⎥  ⎢Z_C  + 6⋅Z_C ⋅Z_L + \n",
       "                                                      ⎥, ⎢                    \n",
       "    3             2    2             3        4⎞      ⎥  ⎢                 ⎛  \n",
       "⋅Z_C ⋅Z_L - 82⋅Z_C ⋅Z_L  + 48⋅Z_C⋅Z_L  - 5⋅Z_L ⎠      ⎥  ⎢       2⋅V_S⋅Z_L⋅⎝7⋅\n",
       "──────────────────────────────────────────────────────⎥  ⎢────────────────────\n",
       "   2         3    3         2    4            5      6⎥  ⎢   6        5       \n",
       "Z_L  + 20⋅Z_C ⋅Z_L  + 15⋅Z_C ⋅Z_L  + 6⋅Z_C⋅Z_L  + Z_L ⎦  ⎣Z_C  + 6⋅Z_C ⋅Z_L + \n",
       "\n",
       "     4         3             2    2             3      4⎞     ⎤  ⎡            \n",
       "7⋅Z_C  - 58⋅Z_C ⋅Z_L + 72⋅Z_C ⋅Z_L  - 22⋅Z_C⋅Z_L  + Z_L ⎠     ⎥  ⎢    2⋅V_S⋅Z_\n",
       "──────────────────────────────────────────────────────────────⎥  ⎢────────────\n",
       "      4    2         3    3         2    4            5      6⎥  ⎢   6        \n",
       "15⋅Z_C ⋅Z_L  + 20⋅Z_C ⋅Z_L  + 15⋅Z_C ⋅Z_L  + 6⋅Z_C⋅Z_L  + Z_L ⎥  ⎢Z_C  + 6⋅Z_C\n",
       "                                                              ⎥, ⎢            \n",
       "   4         3             2    2             3      4⎞       ⎥  ⎢            \n",
       "Z_C  - 58⋅Z_C ⋅Z_L + 72⋅Z_C ⋅Z_L  - 22⋅Z_C⋅Z_L  + Z_L ⎠       ⎥  ⎢      2⋅V_S⋅\n",
       "──────────────────────────────────────────────────────────────⎥  ⎢────────────\n",
       "      4    2         3    3         2    4            5      6⎥  ⎢   6        \n",
       "15⋅Z_C ⋅Z_L  + 20⋅Z_C ⋅Z_L  + 15⋅Z_C ⋅Z_L  + 6⋅Z_C⋅Z_L  + Z_L ⎦  ⎣Z_C  + 6⋅Z_C\n",
       "\n",
       "      ⎛     4         3             2    2             3        4⎞    ⎤  ⎡    \n",
       "C⋅Z_L⋅⎝- Z_C  + 18⋅Z_C ⋅Z_L - 36⋅Z_C ⋅Z_L  + 22⋅Z_C⋅Z_L  - 3⋅Z_L ⎠    ⎥  ⎢    \n",
       "──────────────────────────────────────────────────────────────────────⎥  ⎢────\n",
       "5             4    2         3    3         2    4            5      6⎥  ⎢   6\n",
       " ⋅Z_L + 15⋅Z_C ⋅Z_L  + 20⋅Z_C ⋅Z_L  + 15⋅Z_C ⋅Z_L  + 6⋅Z_C⋅Z_L  + Z_L ⎥  ⎢Z_C \n",
       "                                                                      ⎥, ⎢    \n",
       "    ⎛     4         3             2    2             3        4⎞      ⎥  ⎢    \n",
       "Z_C⋅⎝- Z_C  + 18⋅Z_C ⋅Z_L - 36⋅Z_C ⋅Z_L  + 22⋅Z_C⋅Z_L  - 3⋅Z_L ⎠      ⎥  ⎢    \n",
       "──────────────────────────────────────────────────────────────────────⎥  ⎢────\n",
       "5             4    2         3    3         2    4            5      6⎥  ⎢   6\n",
       " ⋅Z_L + 15⋅Z_C ⋅Z_L  + 20⋅Z_C ⋅Z_L  + 15⋅Z_C ⋅Z_L  + 6⋅Z_C⋅Z_L  + Z_L ⎦  ⎣Z_C \n",
       "\n",
       "               ⎛     4         3             2    2             3      4⎞     \n",
       " 2⋅V_S⋅Z_C⋅Z_L⋅⎝9⋅Z_C  - 28⋅Z_C ⋅Z_L + 30⋅Z_C ⋅Z_L  - 12⋅Z_C⋅Z_L  + Z_L ⎠     \n",
       "──────────────────────────────────────────────────────────────────────────────\n",
       "        5             4    2         3    3         2    4            5      6\n",
       " + 6⋅Z_C ⋅Z_L + 15⋅Z_C ⋅Z_L  + 20⋅Z_C ⋅Z_L  + 15⋅Z_C ⋅Z_L  + 6⋅Z_C⋅Z_L  + Z_L \n",
       "                                                                              \n",
       "             ⎛     4         3             2    2             3      4⎞       \n",
       "   2⋅V_S⋅Z_L⋅⎝9⋅Z_C  - 28⋅Z_C ⋅Z_L + 30⋅Z_C ⋅Z_L  - 12⋅Z_C⋅Z_L  + Z_L ⎠       \n",
       "──────────────────────────────────────────────────────────────────────────────\n",
       "        5             4    2         3    3         2    4            5      6\n",
       " + 6⋅Z_C ⋅Z_L + 15⋅Z_C ⋅Z_L  + 20⋅Z_C ⋅Z_L  + 15⋅Z_C ⋅Z_L  + 6⋅Z_C⋅Z_L  + Z_L \n",
       "\n",
       "⎤  ⎡                    ⎛     4        3            2    2            3      4\n",
       "⎥  ⎢      2⋅V_S⋅Z_C⋅Z_L⋅⎝- Z_C  + 4⋅Z_C ⋅Z_L - 6⋅Z_C ⋅Z_L  + 4⋅Z_C⋅Z_L  - Z_L \n",
       "⎥  ⎢──────────────────────────────────────────────────────────────────────────\n",
       "⎥  ⎢   6        5             4    2         3    3         2    4            \n",
       "⎥  ⎢Z_C  + 6⋅Z_C ⋅Z_L + 15⋅Z_C ⋅Z_L  + 20⋅Z_C ⋅Z_L  + 15⋅Z_C ⋅Z_L  + 6⋅Z_C⋅Z_L\n",
       "⎥, ⎢                                                                          \n",
       "⎥  ⎢                  ⎛     4        3            2    2            3      4⎞ \n",
       "⎥  ⎢        2⋅V_S⋅Z_C⋅⎝- Z_C  + 4⋅Z_C ⋅Z_L - 6⋅Z_C ⋅Z_L  + 4⋅Z_C⋅Z_L  - Z_L ⎠ \n",
       "⎥  ⎢──────────────────────────────────────────────────────────────────────────\n",
       "⎥  ⎢   6        5             4    2         3    3         2    4            \n",
       "⎦  ⎣Z_C  + 6⋅Z_C ⋅Z_L + 15⋅Z_C ⋅Z_L  + 20⋅Z_C ⋅Z_L  + 15⋅Z_C ⋅Z_L  + 6⋅Z_C⋅Z_L\n",
       "\n",
       "⎞       ⎤  ⎡         ⎛     5        4             3    2         2    3       \n",
       "⎠       ⎥  ⎢ V_S⋅Z_C⋅⎝- Z_C  + 5⋅Z_C ⋅Z_L - 10⋅Z_C ⋅Z_L  + 10⋅Z_C ⋅Z_L  - 5⋅Z_\n",
       "────────⎥  ⎢──────────────────────────────────────────────────────────────────\n",
       "5      6⎥  ⎢   6        5             4    2         3    3         2    4    \n",
       "  + Z_L ⎥  ⎢Z_C  + 6⋅Z_C ⋅Z_L + 15⋅Z_C ⋅Z_L  + 20⋅Z_C ⋅Z_L  + 15⋅Z_C ⋅Z_L  + 6\n",
       "        ⎥, ⎢                                                                  \n",
       "        ⎥  ⎢       ⎛     5        4             3    2         2    3         \n",
       "        ⎥  ⎢   V_S⋅⎝- Z_C  + 5⋅Z_C ⋅Z_L - 10⋅Z_C ⋅Z_L  + 10⋅Z_C ⋅Z_L  - 5⋅Z_C⋅\n",
       "────────⎥  ⎢──────────────────────────────────────────────────────────────────\n",
       "5      6⎥  ⎢   6        5             4    2         3    3         2    4    \n",
       "  + Z_L ⎦  ⎣Z_C  + 6⋅Z_C ⋅Z_L + 15⋅Z_C ⋅Z_L  + 20⋅Z_C ⋅Z_L  + 15⋅Z_C ⋅Z_L  + 6\n",
       "\n",
       "     4      5⎞  ⎤⎤\n",
       "C⋅Z_L  + Z_L ⎠  ⎥⎥\n",
       "────────────────⎥⎥\n",
       "        5      6⎥⎥\n",
       "⋅Z_C⋅Z_L  + Z_L ⎥⎥\n",
       "                ⎥⎥\n",
       "   4      5⎞    ⎥⎥\n",
       "Z_L  + Z_L ⎠    ⎥⎥\n",
       "────────────────⎥⎥\n",
       "        5      6⎥⎥\n",
       "⋅Z_C⋅Z_L  + Z_L ⎦⎦"
      ]
     },
     "execution_count": 16,
     "metadata": {},
     "output_type": "execute_result"
    }
   ],
   "source": [
    "fan_out_rows[10]"
   ]
  },
  {
   "cell_type": "code",
   "execution_count": 17,
   "metadata": {},
   "outputs": [
    {
     "data": {
      "text/latex": [
       "$\\displaystyle \\left[\\begin{matrix}\\frac{6187379580}{25937424601}\\\\\\frac{618737958}{25937424601}\\end{matrix}\\right]$"
      ],
      "text/plain": [
       "⎡ 6187379580⎤\n",
       "⎢───────────⎥\n",
       "⎢25937424601⎥\n",
       "⎢           ⎥\n",
       "⎢ 618737958 ⎥\n",
       "⎢───────────⎥\n",
       "⎣25937424601⎦"
      ]
     },
     "execution_count": 17,
     "metadata": {},
     "output_type": "execute_result"
    }
   ],
   "source": [
    "fan_out_rows[18][8].subs([(vs,1),(za,10),(zb,1)])"
   ]
  },
  {
   "cell_type": "code",
   "execution_count": 18,
   "metadata": {},
   "outputs": [
    {
     "name": "stdout",
     "output_type": "stream",
     "text": [
      "\\frac{V_{S} Z_{L}}{Z_{C} + Z_{L}}\n"
     ]
    }
   ],
   "source": [
    "print(latex(fan_out_rows[0][0][0]))"
   ]
  },
  {
   "cell_type": "markdown",
   "metadata": {},
   "source": [
    "### Row 1"
   ]
  },
  {
   "cell_type": "code",
   "execution_count": 19,
   "metadata": {},
   "outputs": [
    {
     "data": {
      "image/png": "[encoded data removed]",
      "text/latex": [
       "$\\displaystyle \\frac{V_{S} Z_{L}}{Z_{C} + Z_{L}}$"
      ],
      "text/plain": [
       " V_S⋅Z_L \n",
       "─────────\n",
       "Z_C + Z_L"
      ]
     },
     "execution_count": 19,
     "metadata": {},
     "output_type": "execute_result"
    }
   ],
   "source": [
    "fan_out_rows[0][0][0]"
   ]
  },
  {
   "cell_type": "code",
   "execution_count": 20,
   "metadata": {},
   "outputs": [
    {
     "data": {
      "image/png": "[encoded data removed]",
      "text/latex": [
       "$\\displaystyle \\frac{V_{S} Z_{C}}{Z_{C} + Z_{L}}$"
      ],
      "text/plain": [
       " V_S⋅Z_C \n",
       "─────────\n",
       "Z_C + Z_L"
      ]
     },
     "execution_count": 20,
     "metadata": {},
     "output_type": "execute_result"
    }
   ],
   "source": [
    "fan_out_rows[0][1][0]"
   ]
  },
  {
   "cell_type": "code",
   "execution_count": 21,
   "metadata": {},
   "outputs": [
    {
     "data": {
      "image/png": "[encoded data removed]",
      "text/latex": [
       "$\\displaystyle - \\frac{V_{S} Z_{L}}{Z_{C} + Z_{L}}$"
      ],
      "text/plain": [
       "-V_S⋅Z_L \n",
       "─────────\n",
       "Z_C + Z_L"
      ]
     },
     "execution_count": 21,
     "metadata": {},
     "output_type": "execute_result"
    }
   ],
   "source": [
    "fan_out_rows[1][0][0]"
   ]
  },
  {
   "cell_type": "code",
   "execution_count": 22,
   "metadata": {},
   "outputs": [
    {
     "data": {
      "image/png": "[encoded data removed]",
      "text/latex": [
       "$\\displaystyle \\frac{V_{S} Z_{C}}{Z_{C} + Z_{L}}$"
      ],
      "text/plain": [
       " V_S⋅Z_C \n",
       "─────────\n",
       "Z_C + Z_L"
      ]
     },
     "execution_count": 22,
     "metadata": {},
     "output_type": "execute_result"
    }
   ],
   "source": [
    "fan_out_rows[1][1][0]"
   ]
  },
  {
   "cell_type": "markdown",
   "metadata": {},
   "source": [
    "### Row 2"
   ]
  },
  {
   "cell_type": "code",
   "execution_count": 23,
   "metadata": {},
   "outputs": [
    {
     "data": {
      "image/png": "[encoded data removed]",
      "text/latex": [
       "$\\displaystyle \\frac{V_{S} Z_{L} \\left(- Z_{C} + Z_{L}\\right)}{Z_{C}^{2} + 2 Z_{C} Z_{L} + Z_{L}^{2}}$"
      ],
      "text/plain": [
       "  V_S⋅Z_L⋅(-Z_C + Z_L) \n",
       "───────────────────────\n",
       "   2                  2\n",
       "Z_C  + 2⋅Z_C⋅Z_L + Z_L "
      ]
     },
     "execution_count": 23,
     "metadata": {},
     "output_type": "execute_result"
    }
   ],
   "source": [
    "fan_out_rows[2][0][0]"
   ]
  },
  {
   "cell_type": "code",
   "execution_count": 24,
   "metadata": {},
   "outputs": [
    {
     "data": {
      "image/png": "[encoded data removed]",
      "text/latex": [
       "$\\displaystyle \\frac{2 V_{S} Z_{C} Z_{L}}{Z_{C}^{2} + 2 Z_{C} Z_{L} + Z_{L}^{2}}$"
      ],
      "text/plain": [
       "     2⋅V_S⋅Z_C⋅Z_L     \n",
       "───────────────────────\n",
       "   2                  2\n",
       "Z_C  + 2⋅Z_C⋅Z_L + Z_L "
      ]
     },
     "execution_count": 24,
     "metadata": {},
     "output_type": "execute_result"
    }
   ],
   "source": [
    "fan_out_rows[2][1][0]"
   ]
  },
  {
   "cell_type": "code",
   "execution_count": 25,
   "metadata": {},
   "outputs": [
    {
     "data": {
      "image/png": "[encoded data removed]",
      "text/latex": [
       "$\\displaystyle - \\frac{2 V_{S} Z_{C} Z_{L}}{Z_{C}^{2} + 2 Z_{C} Z_{L} + Z_{L}^{2}}$"
      ],
      "text/plain": [
       "    -2⋅V_S⋅Z_C⋅Z_L     \n",
       "───────────────────────\n",
       "   2                  2\n",
       "Z_C  + 2⋅Z_C⋅Z_L + Z_L "
      ]
     },
     "execution_count": 25,
     "metadata": {},
     "output_type": "execute_result"
    }
   ],
   "source": [
    "fan_out_rows[2][2][0]"
   ]
  },
  {
   "cell_type": "code",
   "execution_count": 26,
   "metadata": {},
   "outputs": [
    {
     "data": {
      "image/png": "[encoded data removed]",
      "text/latex": [
       "$\\displaystyle \\frac{V_{S} Z_{C} \\left(- Z_{C} + Z_{L}\\right)}{Z_{C}^{2} + 2 Z_{C} Z_{L} + Z_{L}^{2}}$"
      ],
      "text/plain": [
       "  V_S⋅Z_C⋅(-Z_C + Z_L) \n",
       "───────────────────────\n",
       "   2                  2\n",
       "Z_C  + 2⋅Z_C⋅Z_L + Z_L "
      ]
     },
     "execution_count": 26,
     "metadata": {},
     "output_type": "execute_result"
    }
   ],
   "source": [
    "fan_out_rows[2][3][0]"
   ]
  },
  {
   "cell_type": "code",
   "execution_count": null,
   "metadata": {},
   "outputs": [
    {
     "data": {
      "image/png": "[encoded data removed]",
      "text/latex": [
       "$\\displaystyle \\frac{V_{S} Z_{L} \\left(- Z_{C} + Z_{L}\\right)}{Z_{C}^{2} + 2 Z_{C} Z_{L} + Z_{L}^{2}}$"
      ],
      "text/plain": [
       "  V_S⋅Z_L⋅(-Z_C + Z_L) \n",
       "───────────────────────\n",
       "   2                  2\n",
       "Z_C  + 2⋅Z_C⋅Z_L + Z_L "
      ]
     },
     "metadata": {},
     "output_type": "display_data"
    }
   ],
   "source": [
    "fan_out_rows[3][0][0]"
   ]
  },
  {
   "cell_type": "code",
   "execution_count": 27,
   "metadata": {},
   "outputs": [
    {
     "data": {
      "image/png": "[encoded data removed]",
      "text/latex": [
       "$\\displaystyle \\frac{2 V_{S} Z_{C} Z_{L}}{Z_{C}^{2} + 2 Z_{C} Z_{L} + Z_{L}^{2}}$"
      ],
      "text/plain": [
       "     2⋅V_S⋅Z_C⋅Z_L     \n",
       "───────────────────────\n",
       "   2                  2\n",
       "Z_C  + 2⋅Z_C⋅Z_L + Z_L "
      ]
     },
     "execution_count": 27,
     "metadata": {},
     "output_type": "execute_result"
    }
   ],
   "source": [
    "fan_out_rows[3][1][0]"
   ]
  },
  {
   "cell_type": "code",
   "execution_count": 28,
   "metadata": {},
   "outputs": [
    {
     "data": {
      "image/png": "[encoded data removed]",
      "text/latex": [
       "$\\displaystyle \\frac{2 V_{S} Z_{C} Z_{L}}{Z_{C}^{2} + 2 Z_{C} Z_{L} + Z_{L}^{2}}$"
      ],
      "text/plain": [
       "     2⋅V_S⋅Z_C⋅Z_L     \n",
       "───────────────────────\n",
       "   2                  2\n",
       "Z_C  + 2⋅Z_C⋅Z_L + Z_L "
      ]
     },
     "execution_count": 28,
     "metadata": {},
     "output_type": "execute_result"
    }
   ],
   "source": [
    "fan_out_rows[3][2][0]"
   ]
  },
  {
   "cell_type": "code",
   "execution_count": 30,
   "metadata": {},
   "outputs": [
    {
     "data": {
      "image/png": "[encoded data removed]",
      "text/latex": [
       "$\\displaystyle \\frac{V_{S} Z_{C} \\left(- Z_{C} + Z_{L}\\right)}{Z_{C}^{2} + 2 Z_{C} Z_{L} + Z_{L}^{2}}$"
      ],
      "text/plain": [
       "  V_S⋅Z_C⋅(-Z_C + Z_L) \n",
       "───────────────────────\n",
       "   2                  2\n",
       "Z_C  + 2⋅Z_C⋅Z_L + Z_L "
      ]
     },
     "execution_count": 30,
     "metadata": {},
     "output_type": "execute_result"
    }
   ],
   "source": [
    "fan_out_rows[3][3][0]"
   ]
  },
  {
   "cell_type": "markdown",
   "metadata": {},
   "source": [
    "### Row 3"
   ]
  },
  {
   "cell_type": "code",
   "execution_count": 31,
   "metadata": {},
   "outputs": [
    {
     "data": {
      "image/png": "[encoded data removed]",
      "text/latex": [
       "$\\displaystyle \\frac{V_{S} Z_{L} \\left(Z_{C}^{2} - 2 Z_{C} Z_{L} + Z_{L}^{2}\\right)}{Z_{C}^{3} + 3 Z_{C}^{2} Z_{L} + 3 Z_{C} Z_{L}^{2} + Z_{L}^{3}}$"
      ],
      "text/plain": [
       "          ⎛   2                  2⎞  \n",
       "  V_S⋅Z_L⋅⎝Z_C  - 2⋅Z_C⋅Z_L + Z_L ⎠  \n",
       "─────────────────────────────────────\n",
       "   3        2                2      3\n",
       "Z_C  + 3⋅Z_C ⋅Z_L + 3⋅Z_C⋅Z_L  + Z_L "
      ]
     },
     "execution_count": 31,
     "metadata": {},
     "output_type": "execute_result"
    }
   ],
   "source": [
    "fan_out_rows[4][0][0]"
   ]
  },
  {
   "cell_type": "code",
   "execution_count": 32,
   "metadata": {},
   "outputs": [
    {
     "data": {
      "image/png": "[encoded data removed]",
      "text/latex": [
       "$\\displaystyle \\frac{2 V_{S} Z_{C} Z_{L} \\left(- Z_{C} + Z_{L}\\right)}{Z_{C}^{3} + 3 Z_{C}^{2} Z_{L} + 3 Z_{C} Z_{L}^{2} + Z_{L}^{3}}$"
      ],
      "text/plain": [
       "      2⋅V_S⋅Z_C⋅Z_L⋅(-Z_C + Z_L)     \n",
       "─────────────────────────────────────\n",
       "   3        2                2      3\n",
       "Z_C  + 3⋅Z_C ⋅Z_L + 3⋅Z_C⋅Z_L  + Z_L "
      ]
     },
     "execution_count": 32,
     "metadata": {},
     "output_type": "execute_result"
    }
   ],
   "source": [
    "fan_out_rows[4][1][0]"
   ]
  },
  {
   "cell_type": "code",
   "execution_count": 33,
   "metadata": {},
   "outputs": [
    {
     "data": {
      "image/png": "[encoded data removed]",
      "text/latex": [
       "$\\displaystyle \\frac{2 V_{S} Z_{C} Z_{L} \\left(Z_{C} - 3 Z_{L}\\right)}{Z_{C}^{3} + 3 Z_{C}^{2} Z_{L} + 3 Z_{C} Z_{L}^{2} + Z_{L}^{3}}$"
      ],
      "text/plain": [
       "     2⋅V_S⋅Z_C⋅Z_L⋅(Z_C - 3⋅Z_L)     \n",
       "─────────────────────────────────────\n",
       "   3        2                2      3\n",
       "Z_C  + 3⋅Z_C ⋅Z_L + 3⋅Z_C⋅Z_L  + Z_L "
      ]
     },
     "execution_count": 33,
     "metadata": {},
     "output_type": "execute_result"
    }
   ],
   "source": [
    "fan_out_rows[4][2][0]"
   ]
  },
  {
   "cell_type": "code",
   "execution_count": 34,
   "metadata": {},
   "outputs": [
    {
     "data": {
      "image/png": "[encoded data removed]",
      "text/latex": [
       "$\\displaystyle \\frac{2 V_{S} Z_{C} Z_{L} \\left(- 3 Z_{C} + Z_{L}\\right)}{Z_{C}^{3} + 3 Z_{C}^{2} Z_{L} + 3 Z_{C} Z_{L}^{2} + Z_{L}^{3}}$"
      ],
      "text/plain": [
       "     2⋅V_S⋅Z_C⋅Z_L⋅(-3⋅Z_C + Z_L)    \n",
       "─────────────────────────────────────\n",
       "   3        2                2      3\n",
       "Z_C  + 3⋅Z_C ⋅Z_L + 3⋅Z_C⋅Z_L  + Z_L "
      ]
     },
     "execution_count": 34,
     "metadata": {},
     "output_type": "execute_result"
    }
   ],
   "source": [
    "fan_out_rows[4][3][0]"
   ]
  },
  {
   "cell_type": "code",
   "execution_count": 35,
   "metadata": {},
   "outputs": [
    {
     "data": {
      "image/png": "[encoded data removed]",
      "text/latex": [
       "$\\displaystyle \\frac{2 V_{S} Z_{C} Z_{L} \\left(Z_{C} - Z_{L}\\right)}{Z_{C}^{3} + 3 Z_{C}^{2} Z_{L} + 3 Z_{C} Z_{L}^{2} + Z_{L}^{3}}$"
      ],
      "text/plain": [
       "      2⋅V_S⋅Z_C⋅Z_L⋅(Z_C - Z_L)      \n",
       "─────────────────────────────────────\n",
       "   3        2                2      3\n",
       "Z_C  + 3⋅Z_C ⋅Z_L + 3⋅Z_C⋅Z_L  + Z_L "
      ]
     },
     "execution_count": 35,
     "metadata": {},
     "output_type": "execute_result"
    }
   ],
   "source": [
    "fan_out_rows[4][4][0]"
   ]
  },
  {
   "cell_type": "code",
   "execution_count": 36,
   "metadata": {},
   "outputs": [
    {
     "data": {
      "image/png": "[encoded data removed]",
      "text/latex": [
       "$\\displaystyle \\frac{V_{S} Z_{C} \\left(Z_{C}^{2} - 2 Z_{C} Z_{L} + Z_{L}^{2}\\right)}{Z_{C}^{3} + 3 Z_{C}^{2} Z_{L} + 3 Z_{C} Z_{L}^{2} + Z_{L}^{3}}$"
      ],
      "text/plain": [
       "          ⎛   2                  2⎞  \n",
       "  V_S⋅Z_C⋅⎝Z_C  - 2⋅Z_C⋅Z_L + Z_L ⎠  \n",
       "─────────────────────────────────────\n",
       "   3        2                2      3\n",
       "Z_C  + 3⋅Z_C ⋅Z_L + 3⋅Z_C⋅Z_L  + Z_L "
      ]
     },
     "execution_count": 36,
     "metadata": {},
     "output_type": "execute_result"
    }
   ],
   "source": [
    "fan_out_rows[4][5][0]"
   ]
  },
  {
   "cell_type": "markdown",
   "metadata": {},
   "source": [
    "### Row 8"
   ]
  },
  {
   "cell_type": "code",
   "execution_count": 45,
   "metadata": {},
   "outputs": [
    {
     "data": {
      "image/png": "[encoded data removed]",
      "text/latex": [
       "$\\displaystyle \\frac{2 V_{S} Z_{C} Z_{L} \\left(Z_{C}^{7} - 61 Z_{C}^{6} Z_{L} + 681 Z_{C}^{5} Z_{L}^{2} - 2301 Z_{C}^{4} Z_{L}^{3} + 2715 Z_{C}^{3} Z_{L}^{4} - 1215 Z_{C}^{2} Z_{L}^{5} + 187 Z_{C} Z_{L}^{6} - 7 Z_{L}^{7}\\right)}{Z_{C}^{9} + 9 Z_{C}^{8} Z_{L} + 36 Z_{C}^{7} Z_{L}^{2} + 84 Z_{C}^{6} Z_{L}^{3} + 126 Z_{C}^{5} Z_{L}^{4} + 126 Z_{C}^{4} Z_{L}^{5} + 84 Z_{C}^{3} Z_{L}^{6} + 36 Z_{C}^{2} Z_{L}^{7} + 9 Z_{C} Z_{L}^{8} + Z_{L}^{9}}$"
      ],
      "text/plain": [
       "                ⎛   7         6              5    2           4    3          \n",
       "  2⋅V_S⋅Z_C⋅Z_L⋅⎝Z_C  - 61⋅Z_C ⋅Z_L + 681⋅Z_C ⋅Z_L  - 2301⋅Z_C ⋅Z_L  + 2715⋅Z_\n",
       "──────────────────────────────────────────────────────────────────────────────\n",
       "   9        8             7    2         6    3          5    4          4    \n",
       "Z_C  + 9⋅Z_C ⋅Z_L + 36⋅Z_C ⋅Z_L  + 84⋅Z_C ⋅Z_L  + 126⋅Z_C ⋅Z_L  + 126⋅Z_C ⋅Z_L\n",
       "\n",
       " 3    4           2    5              6        7⎞  \n",
       "C ⋅Z_L  - 1215⋅Z_C ⋅Z_L  + 187⋅Z_C⋅Z_L  - 7⋅Z_L ⎠  \n",
       "───────────────────────────────────────────────────\n",
       "5         3    6         2    7            8      9\n",
       "  + 84⋅Z_C ⋅Z_L  + 36⋅Z_C ⋅Z_L  + 9⋅Z_C⋅Z_L  + Z_L "
      ]
     },
     "execution_count": 45,
     "metadata": {},
     "output_type": "execute_result"
    }
   ],
   "source": [
    "fan_out_rows[16][10][0]"
   ]
  },
  {
   "cell_type": "code",
   "execution_count": 46,
   "metadata": {},
   "outputs": [
    {
     "name": "stdout",
     "output_type": "stream",
     "text": [
      "\\frac{2 V_{S} Z_{C} Z_{L} \\left(Z_{C}^{7} - 61 Z_{C}^{6} Z_{L} + 681 Z_{C}^{5} Z_{L}^{2} - 2301 Z_{C}^{4} Z_{L}^{3} + 2715 Z_{C}^{3} Z_{L}^{4} - 1215 Z_{C}^{2} Z_{L}^{5} + 187 Z_{C} Z_{L}^{6} - 7 Z_{L}^{7}\\right)}{Z_{C}^{9} + 9 Z_{C}^{8} Z_{L} + 36 Z_{C}^{7} Z_{L}^{2} + 84 Z_{C}^{6} Z_{L}^{3} + 126 Z_{C}^{5} Z_{L}^{4} + 126 Z_{C}^{4} Z_{L}^{5} + 84 Z_{C}^{3} Z_{L}^{6} + 36 Z_{C}^{2} Z_{L}^{7} + 9 Z_{C} Z_{L}^{8} + Z_{L}^{9}}\n"
     ]
    }
   ],
   "source": [
    "print(latex(fan_out_rows[16][10][0]))"
   ]
  },
  {
   "cell_type": "code",
   "execution_count": null,
   "metadata": {},
   "outputs": [],
   "source": []
  }
 ],
 "metadata": {
  "kernelspec": {
   "display_name": "Python 3.9.0 64-bit",
   "language": "python",
   "name": "python3"
  },
  "language_info": {
   "codemirror_mode": {
    "name": "ipython",
    "version": 3
   },
   "file_extension": ".py",
   "mimetype": "text/x-python",
   "name": "python",
   "nbconvert_exporter": "python",
   "pygments_lexer": "ipython3",
   "version": "3.9.0"
  },
  "orig_nbformat": 4,
  "vscode": {
   "interpreter": {
    "hash": "81794d4967e6c3204c66dcd87b604927b115b27c00565d3d43f05ba2f3a2cb0d"
   }
  }
 },
 "nbformat": 4,
 "nbformat_minor": 2
}
