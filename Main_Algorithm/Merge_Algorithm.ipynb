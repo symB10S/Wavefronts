{
 "cells": [
  {
   "cell_type": "code",
   "execution_count": 27,
   "metadata": {},
   "outputs": [],
   "source": [
    "from Wavefronts import *\n",
    "from Storage_Merge import *\n",
    "\n",
    "import numpy as np\n",
    "import matplotlib.pyplot as plt\n",
    "import pandas as pd\n",
    "from matplotlib.animation import FuncAnimation\n",
    "from IPython import display"
   ]
  },
  {
   "cell_type": "markdown",
   "metadata": {},
   "source": [
    "# More Efficient Algorithm"
   ]
  },
  {
   "cell_type": "code",
   "execution_count": 28,
   "metadata": {},
   "outputs": [],
   "source": [
    "Show_Reflection = True\n",
    "Reflection_Use_Time = True\n",
    "Reflection_Stop_time = 40\n",
    "\n",
    "Show_Circuit_Info = True\n",
    "Calculate_Time_at_Position = True\n",
    "Save_Output = False\n",
    "is_LCM = True\n",
    "Save_Video = False"
   ]
  },
  {
   "cell_type": "code",
   "execution_count": 29,
   "metadata": {},
   "outputs": [
    {
     "name": "stdout",
     "output_type": "stream",
     "text": [
      "Inductor Inductance   : 0.05000\n",
      "Inductor Capacitance  : 5E-8\n",
      "Capacitor Inductance  : 0.05\n",
      "Capacitor Capacitance : 0.05\n"
     ]
    }
   ],
   "source": [
    "L_Time = '0.0001'\n",
    "C_Time = '0.1'\n",
    "\n",
    "L_impedance = '1000'\n",
    "C_impedance = '1'\n",
    "\n",
    "number_periods = '0.5'\n",
    "\n",
    "# Inductor\n",
    "L_T = Decimal(L_Time)/Decimal('2')\n",
    "L_Z = Decimal(L_impedance)\n",
    "L_L = str(L_T*L_Z)\n",
    "L_C = str(L_T/L_Z)\n",
    "print(\"Inductor Inductance   :\", L_L)\n",
    "print(\"Inductor Capacitance  :\", L_C)\n",
    "\n",
    "# Capacitor\n",
    "C_T = Decimal(C_Time)/Decimal('2')\n",
    "C_Z = Decimal(C_impedance)\n",
    "C_L = str(C_T*C_Z)\n",
    "C_C = str(C_T/C_Z)\n",
    "print(\"Capacitor Inductance  :\", C_L)\n",
    "print(\"Capacitor Capacitance :\", C_C)\n",
    "\n",
    "\n",
    "#  INDUCTANCE, CAPACITANCE, LENGTH\n",
    "Inductor_List = [L_L,L_C,'1']\n",
    "Capacitor_List = [C_L,C_C,'1']\n",
    "\n",
    "# VOLTAGE, PERIODS, BUCK, LOAD\n",
    "Circuit_List = ['1',number_periods,False,'12']"
   ]
  },
  {
   "cell_type": "code",
   "execution_count": 30,
   "metadata": {},
   "outputs": [
    {
     "name": "stdout",
     "output_type": "stream",
     "text": [
      "\n",
      "Information about this network : \n",
      "\n",
      "\n",
      "- The Inductor -\n",
      "Inductor Inductance Per Length :        0.05000\n",
      "Inductor Capacitance Per Length :       5E-8\n",
      "Inductor Length :                       1\n",
      "Inductor Total Inductance :             0.05000\n",
      "Inductor Total Capacitance :            5E-8\n",
      "Inductor Velocity :                     2E+4\n",
      "Inductor Time Delay :                   0.00005\n",
      "Inductor Impedance :                    1.00E+3\n",
      "\n",
      "- The Capacitor -\n",
      "Capacitor Inductance Per Length :       0.05\n",
      "Capacitor Capacitance Per Length :      0.05\n",
      "Capacitor Length :                      1\n",
      "Capacitor Total Inductance :            0.05\n",
      "Capacitor Total Capacitance :           0.05\n",
      "Capacitor Velocity :                    2E+1\n",
      "Capacitor Time Delay :                  0.05\n",
      "Capacitor Impedance :                   1\n",
      "\n",
      "- The Circuit -\n",
      "Votage Source Magnitude :               1\n",
      "Number Periods :                        0.5\n",
      "Simulation Stop Time :                  0.1570796326795000\n",
      "Buck Converter :                        False\n",
      "Load Resistance :                       12\n"
     ]
    }
   ],
   "source": [
    "Storage_Voltage_Active.append(Wavefront_Source(Voltage_Souce_Magnitude,0,Voltage_Source_Period_On,0))\n",
    "Storage_Voltage_Active[0].about()\n",
    "\n",
    "temp_wavefront = Storage_Voltage_Active.popleft()\n",
    "temp_wavefront.Generate(Storage_Away,Storage_Away)\n",
    "Storage_Voltage_Completed.append(temp_wavefront)"
   ]
  },
  {
   "cell_type": "code",
   "execution_count": 31,
   "metadata": {},
   "outputs": [],
   "source": [
    "Frequency = 1/(Decimal.sqrt(Merge_Full.Capacitor_Total_Capacitance*Merge_Full.Inductor_Total_Inductance))"
   ]
  },
  {
   "cell_type": "code",
   "execution_count": 32,
   "metadata": {},
   "outputs": [
    {
     "data": {
      "text/plain": [
       "0.3141592653589793"
      ]
     },
     "execution_count": 32,
     "metadata": {},
     "output_type": "execute_result"
    }
   ],
   "source": [
    "2*math.pi/float(Frequency)"
   ]
  },
  {
   "cell_type": "code",
   "execution_count": 33,
   "metadata": {},
   "outputs": [],
   "source": [
    "def represent_Reflection_Diagram(ax):\n",
    "    for wave in Storage_Capacitor_Completed:\n",
    "\n",
    "        x1 = -wave.position_start\n",
    "        x2 = -wave.position_end\n",
    "\n",
    "        y1 = wave.time_start\n",
    "        y2 = wave.time_end\n",
    "\n",
    "        if(wave.time_start <=Simulation_Stop_Time):\n",
    "            ax.plot([x1,x2],[y1,y2],'k-')\n",
    "\n",
    "\n",
    "    for wave in Storage_Inductor_Completed:\n",
    "\n",
    "        x1 = wave.position_start\n",
    "        x2 = wave.position_end\n",
    "\n",
    "        y1 = wave.time_start\n",
    "        y2 = wave.time_end\n",
    "\n",
    "        if(wave.time_start <=Simulation_Stop_Time):\n",
    "            ax.plot([x1,x2],[y1,y2],'k-')"
   ]
  },
  {
   "cell_type": "code",
   "execution_count": 34,
   "metadata": {},
   "outputs": [
    {
     "ename": "KeyboardInterrupt",
     "evalue": "",
     "output_type": "error",
     "traceback": [
      "\u001b[1;31m---------------------------------------------------------------------------\u001b[0m",
      "\u001b[1;31mKeyboardInterrupt\u001b[0m                         Traceback (most recent call last)",
      "\u001b[1;32m<ipython-input-34-f33e710a03a5>\u001b[0m in \u001b[0;36m<module>\u001b[1;34m\u001b[0m\n\u001b[0;32m      5\u001b[0m     \u001b[0mfig_reflection\u001b[0m\u001b[1;33m,\u001b[0m \u001b[0max_reflection\u001b[0m \u001b[1;33m=\u001b[0m \u001b[0mplt\u001b[0m\u001b[1;33m.\u001b[0m\u001b[0msubplots\u001b[0m\u001b[1;33m(\u001b[0m\u001b[1;33m)\u001b[0m\u001b[1;33m\u001b[0m\u001b[1;33m\u001b[0m\u001b[0m\n\u001b[0;32m      6\u001b[0m     \u001b[1;32mif\u001b[0m\u001b[1;33m(\u001b[0m\u001b[0mReflection_Use_Time\u001b[0m\u001b[1;33m)\u001b[0m\u001b[1;33m:\u001b[0m\u001b[1;33m\u001b[0m\u001b[1;33m\u001b[0m\u001b[0m\n\u001b[1;32m----> 7\u001b[1;33m         \u001b[0mrepresent_Reflection_Diagram\u001b[0m\u001b[1;33m(\u001b[0m\u001b[0max_reflection\u001b[0m\u001b[1;33m,\u001b[0m\u001b[0mReflection_Stop_time\u001b[0m\u001b[1;33m)\u001b[0m\u001b[1;33m\u001b[0m\u001b[1;33m\u001b[0m\u001b[0m\n\u001b[0m\u001b[0;32m      8\u001b[0m     \u001b[1;32melse\u001b[0m\u001b[1;33m:\u001b[0m\u001b[1;33m\u001b[0m\u001b[1;33m\u001b[0m\u001b[0m\n\u001b[0;32m      9\u001b[0m         \u001b[0mrepresent_Reflection_Diagram\u001b[0m\u001b[1;33m(\u001b[0m\u001b[0max_reflection\u001b[0m\u001b[1;33m)\u001b[0m\u001b[1;33m\u001b[0m\u001b[1;33m\u001b[0m\u001b[0m\n",
      "\u001b[1;32m<ipython-input-33-e890ed0bd403>\u001b[0m in \u001b[0;36mrepresent_Reflection_Diagram\u001b[1;34m(ax, stop_time)\u001b[0m\n\u001b[0;32m     41\u001b[0m \u001b[1;33m\u001b[0m\u001b[0m\n\u001b[0;32m     42\u001b[0m         \u001b[1;32mif\u001b[0m\u001b[1;33m(\u001b[0m\u001b[0mwave\u001b[0m\u001b[1;33m.\u001b[0m\u001b[0mtime_start\u001b[0m \u001b[1;33m<=\u001b[0m\u001b[0mstop_time\u001b[0m\u001b[1;33m)\u001b[0m\u001b[1;33m:\u001b[0m\u001b[1;33m\u001b[0m\u001b[1;33m\u001b[0m\u001b[0m\n\u001b[1;32m---> 43\u001b[1;33m             \u001b[0max\u001b[0m\u001b[1;33m.\u001b[0m\u001b[0mplot\u001b[0m\u001b[1;33m(\u001b[0m\u001b[1;33m[\u001b[0m\u001b[0mx1\u001b[0m\u001b[1;33m,\u001b[0m\u001b[0mx2\u001b[0m\u001b[1;33m]\u001b[0m\u001b[1;33m,\u001b[0m\u001b[1;33m[\u001b[0m\u001b[0my1\u001b[0m\u001b[1;33m,\u001b[0m\u001b[0my2\u001b[0m\u001b[1;33m]\u001b[0m\u001b[1;33m,\u001b[0m\u001b[1;34m'b-'\u001b[0m\u001b[1;33m)\u001b[0m\u001b[1;33m\u001b[0m\u001b[1;33m\u001b[0m\u001b[0m\n\u001b[0m\u001b[0;32m     44\u001b[0m \u001b[1;33m\u001b[0m\u001b[0m\n\u001b[0;32m     45\u001b[0m \u001b[1;33m\u001b[0m\u001b[0m\n",
      "\u001b[1;32mc:\\Python39\\lib\\site-packages\\matplotlib\\axes\\_axes.py\u001b[0m in \u001b[0;36mplot\u001b[1;34m(self, scalex, scaley, data, *args, **kwargs)\u001b[0m\n\u001b[0;32m   1743\u001b[0m         \u001b[0mlines\u001b[0m \u001b[1;33m=\u001b[0m \u001b[1;33m[\u001b[0m\u001b[1;33m*\u001b[0m\u001b[0mself\u001b[0m\u001b[1;33m.\u001b[0m\u001b[0m_get_lines\u001b[0m\u001b[1;33m(\u001b[0m\u001b[1;33m*\u001b[0m\u001b[0margs\u001b[0m\u001b[1;33m,\u001b[0m \u001b[0mdata\u001b[0m\u001b[1;33m=\u001b[0m\u001b[0mdata\u001b[0m\u001b[1;33m,\u001b[0m \u001b[1;33m**\u001b[0m\u001b[0mkwargs\u001b[0m\u001b[1;33m)\u001b[0m\u001b[1;33m]\u001b[0m\u001b[1;33m\u001b[0m\u001b[1;33m\u001b[0m\u001b[0m\n\u001b[0;32m   1744\u001b[0m         \u001b[1;32mfor\u001b[0m \u001b[0mline\u001b[0m \u001b[1;32min\u001b[0m \u001b[0mlines\u001b[0m\u001b[1;33m:\u001b[0m\u001b[1;33m\u001b[0m\u001b[1;33m\u001b[0m\u001b[0m\n\u001b[1;32m-> 1745\u001b[1;33m             \u001b[0mself\u001b[0m\u001b[1;33m.\u001b[0m\u001b[0madd_line\u001b[0m\u001b[1;33m(\u001b[0m\u001b[0mline\u001b[0m\u001b[1;33m)\u001b[0m\u001b[1;33m\u001b[0m\u001b[1;33m\u001b[0m\u001b[0m\n\u001b[0m\u001b[0;32m   1746\u001b[0m         \u001b[0mself\u001b[0m\u001b[1;33m.\u001b[0m\u001b[0m_request_autoscale_view\u001b[0m\u001b[1;33m(\u001b[0m\u001b[0mscalex\u001b[0m\u001b[1;33m=\u001b[0m\u001b[0mscalex\u001b[0m\u001b[1;33m,\u001b[0m \u001b[0mscaley\u001b[0m\u001b[1;33m=\u001b[0m\u001b[0mscaley\u001b[0m\u001b[1;33m)\u001b[0m\u001b[1;33m\u001b[0m\u001b[1;33m\u001b[0m\u001b[0m\n\u001b[0;32m   1747\u001b[0m         \u001b[1;32mreturn\u001b[0m \u001b[0mlines\u001b[0m\u001b[1;33m\u001b[0m\u001b[1;33m\u001b[0m\u001b[0m\n",
      "\u001b[1;32mc:\\Python39\\lib\\site-packages\\matplotlib\\axes\\_base.py\u001b[0m in \u001b[0;36madd_line\u001b[1;34m(self, line)\u001b[0m\n\u001b[0;32m   1962\u001b[0m             \u001b[0mline\u001b[0m\u001b[1;33m.\u001b[0m\u001b[0mset_clip_path\u001b[0m\u001b[1;33m(\u001b[0m\u001b[0mself\u001b[0m\u001b[1;33m.\u001b[0m\u001b[0mpatch\u001b[0m\u001b[1;33m)\u001b[0m\u001b[1;33m\u001b[0m\u001b[1;33m\u001b[0m\u001b[0m\n\u001b[0;32m   1963\u001b[0m \u001b[1;33m\u001b[0m\u001b[0m\n\u001b[1;32m-> 1964\u001b[1;33m         \u001b[0mself\u001b[0m\u001b[1;33m.\u001b[0m\u001b[0m_update_line_limits\u001b[0m\u001b[1;33m(\u001b[0m\u001b[0mline\u001b[0m\u001b[1;33m)\u001b[0m\u001b[1;33m\u001b[0m\u001b[1;33m\u001b[0m\u001b[0m\n\u001b[0m\u001b[0;32m   1965\u001b[0m         \u001b[1;32mif\u001b[0m \u001b[1;32mnot\u001b[0m \u001b[0mline\u001b[0m\u001b[1;33m.\u001b[0m\u001b[0mget_label\u001b[0m\u001b[1;33m(\u001b[0m\u001b[1;33m)\u001b[0m\u001b[1;33m:\u001b[0m\u001b[1;33m\u001b[0m\u001b[1;33m\u001b[0m\u001b[0m\n\u001b[0;32m   1966\u001b[0m             \u001b[0mline\u001b[0m\u001b[1;33m.\u001b[0m\u001b[0mset_label\u001b[0m\u001b[1;33m(\u001b[0m\u001b[1;34m'_line%d'\u001b[0m \u001b[1;33m%\u001b[0m \u001b[0mlen\u001b[0m\u001b[1;33m(\u001b[0m\u001b[0mself\u001b[0m\u001b[1;33m.\u001b[0m\u001b[0mlines\u001b[0m\u001b[1;33m)\u001b[0m\u001b[1;33m)\u001b[0m\u001b[1;33m\u001b[0m\u001b[1;33m\u001b[0m\u001b[0m\n",
      "\u001b[1;32mc:\\Python39\\lib\\site-packages\\matplotlib\\axes\\_base.py\u001b[0m in \u001b[0;36m_update_line_limits\u001b[1;34m(self, line)\u001b[0m\n\u001b[0;32m   1984\u001b[0m         \u001b[0mFigures\u001b[0m \u001b[0mout\u001b[0m \u001b[0mthe\u001b[0m \u001b[0mdata\u001b[0m \u001b[0mlimit\u001b[0m \u001b[0mof\u001b[0m \u001b[0mthe\u001b[0m \u001b[0mgiven\u001b[0m \u001b[0mline\u001b[0m\u001b[1;33m,\u001b[0m \u001b[0mupdating\u001b[0m \u001b[0mself\u001b[0m\u001b[1;33m.\u001b[0m\u001b[0mdataLim\u001b[0m\u001b[1;33m.\u001b[0m\u001b[1;33m\u001b[0m\u001b[1;33m\u001b[0m\u001b[0m\n\u001b[0;32m   1985\u001b[0m         \"\"\"\n\u001b[1;32m-> 1986\u001b[1;33m         \u001b[0mpath\u001b[0m \u001b[1;33m=\u001b[0m \u001b[0mline\u001b[0m\u001b[1;33m.\u001b[0m\u001b[0mget_path\u001b[0m\u001b[1;33m(\u001b[0m\u001b[1;33m)\u001b[0m\u001b[1;33m\u001b[0m\u001b[1;33m\u001b[0m\u001b[0m\n\u001b[0m\u001b[0;32m   1987\u001b[0m         \u001b[1;32mif\u001b[0m \u001b[0mpath\u001b[0m\u001b[1;33m.\u001b[0m\u001b[0mvertices\u001b[0m\u001b[1;33m.\u001b[0m\u001b[0msize\u001b[0m \u001b[1;33m==\u001b[0m \u001b[1;36m0\u001b[0m\u001b[1;33m:\u001b[0m\u001b[1;33m\u001b[0m\u001b[1;33m\u001b[0m\u001b[0m\n\u001b[0;32m   1988\u001b[0m             \u001b[1;32mreturn\u001b[0m\u001b[1;33m\u001b[0m\u001b[1;33m\u001b[0m\u001b[0m\n",
      "\u001b[1;32mc:\\Python39\\lib\\site-packages\\matplotlib\\lines.py\u001b[0m in \u001b[0;36mget_path\u001b[1;34m(self)\u001b[0m\n\u001b[0;32m   1009\u001b[0m         \"\"\"\n\u001b[0;32m   1010\u001b[0m         \u001b[1;32mif\u001b[0m \u001b[0mself\u001b[0m\u001b[1;33m.\u001b[0m\u001b[0m_invalidy\u001b[0m \u001b[1;32mor\u001b[0m \u001b[0mself\u001b[0m\u001b[1;33m.\u001b[0m\u001b[0m_invalidx\u001b[0m\u001b[1;33m:\u001b[0m\u001b[1;33m\u001b[0m\u001b[1;33m\u001b[0m\u001b[0m\n\u001b[1;32m-> 1011\u001b[1;33m             \u001b[0mself\u001b[0m\u001b[1;33m.\u001b[0m\u001b[0mrecache\u001b[0m\u001b[1;33m(\u001b[0m\u001b[1;33m)\u001b[0m\u001b[1;33m\u001b[0m\u001b[1;33m\u001b[0m\u001b[0m\n\u001b[0m\u001b[0;32m   1012\u001b[0m         \u001b[1;32mreturn\u001b[0m \u001b[0mself\u001b[0m\u001b[1;33m.\u001b[0m\u001b[0m_path\u001b[0m\u001b[1;33m\u001b[0m\u001b[1;33m\u001b[0m\u001b[0m\n\u001b[0;32m   1013\u001b[0m \u001b[1;33m\u001b[0m\u001b[0m\n",
      "\u001b[1;32mc:\\Python39\\lib\\site-packages\\matplotlib\\lines.py\u001b[0m in \u001b[0;36mrecache\u001b[1;34m(self, always)\u001b[0m\n\u001b[0;32m    660\u001b[0m             \u001b[0my\u001b[0m \u001b[1;33m=\u001b[0m \u001b[0mself\u001b[0m\u001b[1;33m.\u001b[0m\u001b[0m_y\u001b[0m\u001b[1;33m\u001b[0m\u001b[1;33m\u001b[0m\u001b[0m\n\u001b[0;32m    661\u001b[0m \u001b[1;33m\u001b[0m\u001b[0m\n\u001b[1;32m--> 662\u001b[1;33m         \u001b[0mself\u001b[0m\u001b[1;33m.\u001b[0m\u001b[0m_xy\u001b[0m \u001b[1;33m=\u001b[0m \u001b[0mnp\u001b[0m\u001b[1;33m.\u001b[0m\u001b[0mcolumn_stack\u001b[0m\u001b[1;33m(\u001b[0m\u001b[0mnp\u001b[0m\u001b[1;33m.\u001b[0m\u001b[0mbroadcast_arrays\u001b[0m\u001b[1;33m(\u001b[0m\u001b[0mx\u001b[0m\u001b[1;33m,\u001b[0m \u001b[0my\u001b[0m\u001b[1;33m)\u001b[0m\u001b[1;33m)\u001b[0m\u001b[1;33m.\u001b[0m\u001b[0mastype\u001b[0m\u001b[1;33m(\u001b[0m\u001b[0mfloat\u001b[0m\u001b[1;33m)\u001b[0m\u001b[1;33m\u001b[0m\u001b[1;33m\u001b[0m\u001b[0m\n\u001b[0m\u001b[0;32m    663\u001b[0m         \u001b[0mself\u001b[0m\u001b[1;33m.\u001b[0m\u001b[0m_x\u001b[0m\u001b[1;33m,\u001b[0m \u001b[0mself\u001b[0m\u001b[1;33m.\u001b[0m\u001b[0m_y\u001b[0m \u001b[1;33m=\u001b[0m \u001b[0mself\u001b[0m\u001b[1;33m.\u001b[0m\u001b[0m_xy\u001b[0m\u001b[1;33m.\u001b[0m\u001b[0mT\u001b[0m  \u001b[1;31m# views\u001b[0m\u001b[1;33m\u001b[0m\u001b[1;33m\u001b[0m\u001b[0m\n\u001b[0;32m    664\u001b[0m \u001b[1;33m\u001b[0m\u001b[0m\n",
      "\u001b[1;31mKeyboardInterrupt\u001b[0m: "
     ]
    },
    {
     "name": "stderr",
     "output_type": "stream",
     "text": [
      "Locator attempting to generate 440003 ticks ([-2.0001, ..., 42.000099999999996]), which exceeds Locator.MAXTICKS (1000).\n"
     ]
    }
   ],
   "source": [
    "%matplotlib widget\n",
    "#%matplotlib\n",
    "\n",
    "fig_reflection, ax_reflection = plt.subplots()\n",
    "represent_Reflection_Diagram(ax_reflection)"
   ]
  },
  {
   "cell_type": "code",
   "execution_count": null,
   "metadata": {},
   "outputs": [],
   "source": [
    "## Position Equirey -> Time Waveform"
   ]
  },
  {
   "cell_type": "code",
   "execution_count": null,
   "metadata": {},
   "outputs": [],
   "source": [
    "Voltage_Array_Capacitor = []\n",
    "Current_Array_Capacitor = []\n",
    "Time_Array_Capacitor = []\n",
    "\n",
    "def inspect_time_waveform_at_position(Wavefront_Array, position):\n",
    "\n",
    "    Voltage_Array = []\n",
    "    Current_Array = []\n",
    "    Time_Array = []\n",
    "\n",
    "    found_index = True\n",
    "\n",
    "    for wave in Wavefront_Array:\n",
    "        \n",
    "        time = wave.Time_at_position(position)\n",
    "\n",
    "        try:\n",
    "            index = Time_Array.index(time)\n",
    "            found_index = True\n",
    "        except:\n",
    "            found_index = False\n",
    "\n",
    "        if(found_index == False):\n",
    "            Time_Array.append(time)\n",
    "            Voltage_Array.append(wave.magnitude_voltage)\n",
    "            Current_Array.append(wave.magnitude_current)\n",
    "        else:\n",
    "            Voltage_Array[index] = Voltage_Array[index] + wave.magnitude_voltage\n",
    "            Current_Array[index] = Current_Array[index] + wave.magnitude_current\n",
    "\n",
    "    Time_Voltage_Current_Array = sorted(zip(Time_Array,Voltage_Array,Current_Array))\n",
    "    \n",
    "    Time_Array, Voltage_Array, Current_Array  = zip(*Time_Voltage_Current_Array)\n",
    "\n",
    "    Time_Array = list( Time_Array )\n",
    "    Voltage_Array = list( Voltage_Array )\n",
    "    Current_Array = list( Current_Array )\n",
    "\n",
    "    for i in range(1,len(Voltage_Array)-1):\n",
    "        Voltage_Array[i] = Voltage_Array[i-1]+Voltage_Array[i] \n",
    "        Current_Array[i] = Current_Array[i-1]+Current_Array[i] \n",
    "\n",
    "    return Voltage_Array, Current_Array, Time_Array"
   ]
  },
  {
   "cell_type": "markdown",
   "metadata": {},
   "source": [
    "Plot Inductor Voltage"
   ]
  },
  {
   "cell_type": "code",
   "execution_count": null,
   "metadata": {},
   "outputs": [],
   "source": [
    "fig_time_wavefrom_at_position, axs_inductor = plt.subplots(2,2)\n",
    "\n",
    "position = 0\n",
    "\n",
    "Voltage_Inductor, Current_Inductor, Time_Inductor = inspect_time_waveform_at_position(Storage_Inductor_Completed,position)\n",
    "Voltage_Capacitor, Current_Capacitor, Time_Capacitor = inspect_time_waveform_at_position(Storage_Capacitor_Completed,position)\n",
    "\n",
    "axs_inductor[0,0].set_title('Inductor Voltage')\n",
    "axs_inductor[0,0].set_xlabel('time (s)')\n",
    "axs_inductor[0,0].set_ylabel('Voltage (V)')\n",
    "axs_inductor[0,0].set_xlim(0,Simulation_Stop_Time)\n",
    "axs_inductor[0,0].step(Time_Inductor ,Voltage_Inductor,where='post')\n",
    "\n",
    "axs_inductor[0,1].set_title('Inductor Current')\n",
    "axs_inductor[0,1].set_xlabel('time (s)')\n",
    "axs_inductor[0,1].set_ylabel('Current (A)')\n",
    "axs_inductor[0,1].set_xlim(0,Simulation_Stop_Time)\n",
    "axs_inductor[0,1].step(Time_Inductor ,Current_Inductor,where='post')\n",
    "\n",
    "axs_inductor[1,0].set_title('Capacitor Voltage')\n",
    "axs_inductor[1,0].set_xlabel('time (s)')\n",
    "axs_inductor[1,0].set_ylabel('Voltage (V)')\n",
    "axs_inductor[1,0].set_xlim(0,Simulation_Stop_Time)\n",
    "axs_inductor[1,0].step(Time_Capacitor ,Voltage_Capacitor,where='post')\n",
    "\n",
    "axs_inductor[1,1].set_title('Capacitor Current')\n",
    "axs_inductor[1,1].set_xlabel('time (s)')\n",
    "axs_inductor[1,1].set_ylabel('Current (A)')\n",
    "axs_inductor[1,1].set_xlim(0,Simulation_Stop_Time)\n",
    "axs_inductor[1,1].step(Time_Capacitor ,Current_Capacitor,where='post')\n",
    "\n",
    "title = \"Time Wavefroms of Capacitor and inductor at position \" +str(position)+\"m\"\n",
    "\n",
    "fig_time_wavefrom_at_position.suptitle(title)\n",
    "fig_time_wavefrom_at_position.tight_layout()"
   ]
  },
  {
   "cell_type": "code",
   "execution_count": null,
   "metadata": {},
   "outputs": [],
   "source": [
    "lcm_gcd(2*Merge_Full.Inductor_Time,2*Merge_Full.Capacitor_Time)"
   ]
  },
  {
   "cell_type": "code",
   "execution_count": null,
   "metadata": {},
   "outputs": [],
   "source": [
    "position = 0\n",
    "Voltage_Inductor = []\n",
    "Current_Inductor = []\n",
    "Time_Inductor = []\n",
    "Voltage_Capacitor = []\n",
    "Current_Capacitor = []\n",
    "Time_Capacitor = []\n",
    "\n",
    "voltage_Circuit_Inductor = []\n",
    "Current_Circuit_Inductor = []\n",
    "\n",
    "voltage_Circuit_Capacitor = []\n",
    "Current_Circuit_Capacitor = []\n",
    "\n",
    "error_Voltage_Inductor = []\n",
    "error_Voltage_Capacitor = []\n",
    "error_Current = []\n",
    "\n",
    "error_Time_Capacitor = []\n",
    "error_Time_Inductor = []\n",
    "error_Time_Capacitor_Index = 0\n",
    "error_Time_Inductor_Index = 0\n",
    "\n",
    "def Calculate_Voltage_Inductor (t):\n",
    "    return float(Merge_Full.Voltage_Souce_Magnitude)*math.cos(Frequency*t)\n",
    "\n",
    "def Calculate_Voltage_Capacitor (t):\n",
    "    return float(Merge_Full.Voltage_Souce_Magnitude) - float(Merge_Full.Voltage_Souce_Magnitude)*math.cos(Frequency*t) \n",
    "\n",
    "def Calculate_Current (t):\n",
    "    return float(Merge_Full.Voltage_Souce_Magnitude)*float(Decimal.sqrt(Merge_Full.Capacitor_Total_Capacitance/Merge_Full.Inductor_Total_Inductance))*math.sin(Frequency*t)\n",
    "\n",
    "def Error_With_Zero(Real, Ideal):\n",
    "    if Ideal == 0 :\n",
    "        return Real\n",
    "    else:\n",
    "        return (Real - Ideal)/Ideal\n",
    "\n",
    "if(Calculate_Time_at_Position):\n",
    "    Voltage_Inductor, Current_Inductor, Time_Inductor = inspect_time_waveform_at_position(Storage_Inductor_Completed,position)\n",
    "    Voltage_Capacitor, Current_Capacitor, Time_Capacitor = inspect_time_waveform_at_position(Storage_Capacitor_Completed,position)\n",
    "\n",
    "    Voltage_Circuit_Inductor = list(map(Calculate_Voltage_Inductor, Time_Inductor))\n",
    "    Current_Circuit_Inductor = list(map(Calculate_Current, Time_Inductor))\n",
    "\n",
    "    Voltage_Circuit_Capacitor = list(map(Calculate_Voltage_Capacitor, Time_Capacitor))\n",
    "    \n",
    "    \n",
    "    error_Voltage_Inductor = [(float(v_i) - c_i) for v_i, c_i in zip(Voltage_Inductor, Voltage_Circuit_Inductor)]\n",
    "    error_Voltage_Capacitor = [(float(v_i) - c_i) for v_i, c_i in zip(Voltage_Capacitor, Voltage_Circuit_Capacitor)]\n",
    "    error_Current = [(float(v_i) - c_i) for v_i, c_i in zip(Current_Capacitor, Current_Circuit_Inductor)]\n",
    "\n",
    "    error_Time_Capacitor = [abs(Merge_Full.Simulation_Stop_Time - t) for t in Time_Capacitor]\n",
    "    error_Time_Capacitor_Index = error_Time_Capacitor.index(min(error_Time_Capacitor))\n",
    "    \n",
    "    error_Time_Inductor = [abs(Merge_Full.Simulation_Stop_Time - t) for t in Time_Inductor]\n",
    "    error_Time_Inductor_Index = error_Time_Inductor.index(min(error_Time_Inductor))\n",
    "    \n",
    "    error_Voltage_Inductor = error_Voltage_Inductor[0:error_Time_Inductor_Index]\n",
    "    error_Voltage_Capacitor = error_Voltage_Capacitor[0:error_Time_Capacitor_Index]\n",
    "    error_Current = error_Current[0:error_Time_Capacitor_Index]"
   ]
  },
  {
   "cell_type": "code",
   "execution_count": null,
   "metadata": {},
   "outputs": [],
   "source": [
    "Save Inductor Voltage"
   ]
  },
  {
   "cell_type": "code",
   "execution_count": null,
   "metadata": {},
   "outputs": [],
   "source": [
    "dict = {'time':Time_Inductor, 'Voltage Inductor':Voltage_Inductor, 'Current Inductor':Current_Inductor}\n",
    "data_frame = pd.DataFrame(dict)\n",
    "data_frame.to_csv('Inductor_Voltage.csv',index=False)"
   ]
  },
  {
   "cell_type": "code",
   "execution_count": null,
   "metadata": {},
   "outputs": [],
   "source": [
    "Time_Inductor\n",
    "\n",
    "fig_error, ax_error = plt.subplots()\n",
    "\n",
    "ax_error.plot(Time_Inductor[0:error_Time_Inductor_Index],error_Voltage_Inductor[0:error_Time_Inductor_Index],label='Inductor Voltage Error')\n",
    "ax_error.plot(Time_Capacitor[0:error_Time_Capacitor_Index],error_Voltage_Capacitor[0:error_Time_Capacitor_Index],label='Capacitor Voltage Error')\n",
    "ax_error.plot(Time_Capacitor[0:error_Time_Capacitor_Index],error_Current[0:error_Time_Capacitor_Index],label='Current Error')\n",
    "\n",
    "ax_error.legend()"
   ]
  },
  {
   "cell_type": "code",
   "execution_count": null,
   "metadata": {},
   "outputs": [],
   "source": [
    "dict = {'time':Time_Capacitor, 'Voltage Capacitor':Voltage_Capacitor, 'Current Capacitor': Current_Capacitor}\n",
    "data_frame = pd.DataFrame(dict)\n",
    "data_frame.to_csv('Capacitor_Voltage.csv',index=False)"
   ]
  },
  {
   "cell_type": "code",
   "execution_count": null,
   "metadata": {},
   "outputs": [],
   "source": [
    "def inspect_spatial_waveform_at_time(Wavefront_Array, time):\n",
    "    \n",
    "    Voltage_In_Position = []\n",
    "    Current_In_Position = []\n",
    "    Positions = []\n",
    "\n",
    "    Current_Forward = []\n",
    "    Current_Backward = []\n",
    "\n",
    "    Voltage_Forward = []\n",
    "    Voltage_Backward = []\n",
    "\n",
    "    Positions_Forward = []\n",
    "    Positions_Backward = []\n",
    "\n",
    "    found_index = True\n",
    "\n",
    "    query_time = time\n",
    "    DC_Current = 0\n",
    "    DC_Voltage = 0\n",
    "    length = 0\n",
    "\n",
    "    for wave in Wavefront_Array:\n",
    "\n",
    "        position = 0\n",
    "        length = wave.length\n",
    "\n",
    "        position = wave.Position_at_time(query_time)\n",
    "\n",
    "        if position >= 0:\n",
    "\n",
    "            if wave.position_start == 0:\n",
    "                try:\n",
    "                    index = Positions_Forward.index(position)\n",
    "                    found_index = True\n",
    "                except:\n",
    "                    found_index = False\n",
    "\n",
    "                if found_index:\n",
    "                    Current_Forward[index] += wave.magnitude_current\n",
    "                    Voltage_Forward[index] += wave.magnitude_voltage\n",
    "                else:\n",
    "                    Positions_Forward.append(position)\n",
    "                    Current_Forward.append(wave.magnitude_current)\n",
    "                    Voltage_Forward.append(wave.magnitude_voltage)\n",
    "\n",
    "                    Positions.append(position)\n",
    "\n",
    "            else:\n",
    "                try:\n",
    "                    index = Positions_Backward.index(position)\n",
    "                    found_index = True\n",
    "                except:\n",
    "                    found_index = False\n",
    "\n",
    "                if found_index:\n",
    "                    Current_Backward[index] += wave.magnitude_current\n",
    "                    Voltage_Backward[index] += wave.magnitude_voltage\n",
    "                else:\n",
    "                    Positions_Backward.append(position)\n",
    "                    Current_Backward.append(wave.magnitude_current)\n",
    "                    Voltage_Backward.append(wave.magnitude_voltage)\n",
    "\n",
    "                    Positions.append(position)\n",
    "\n",
    "\n",
    "        elif wave.time_end <= query_time:\n",
    "            DC_Current += wave.magnitude_current\n",
    "            DC_Voltage += wave.magnitude_voltage\n",
    "\n",
    "    Forward_Zip = list(zip(Positions_Forward,Voltage_Forward,Current_Forward))\n",
    "    Backward_Zip = list(zip(Positions_Backward,Voltage_Backward,Current_Backward))\n",
    "\n",
    "    #Remove doubles\n",
    "    Positions = list(set(Positions))\n",
    "    Positions = sorted(Positions)\n",
    "\n",
    "    Positions.append(length)\n",
    "    Positions = [0] + Positions\n",
    "\n",
    "    Current_In_Position = [DC_Current]*len(Positions)\n",
    "    Voltage_In_Position = [DC_Voltage]*len(Positions)\n",
    "\n",
    "    # Current_In_Position_Sorted_Capacitor = sorted(zip(Positions,Current_In_Position))\n",
    "\n",
    "\n",
    "    for pos,forward_voltage,forward_current in Forward_Zip:\n",
    "\n",
    "        index = Positions.index(pos)\n",
    "\n",
    "        for i in range(0,index):\n",
    "            Current_In_Position[i] += forward_current\n",
    "            Voltage_In_Position[i] += forward_voltage\n",
    "\n",
    "    for pos,backward_voltage,backward_current in Backward_Zip:\n",
    "\n",
    "        index = Positions.index(pos)\n",
    "\n",
    "        for i in range(index,len(Positions)):\n",
    "            Current_In_Position[i] += backward_current\n",
    "            Voltage_In_Position[i] += backward_voltage\n",
    "\n",
    "    return Voltage_In_Position,Current_In_Position,Positions"
   ]
  },
  {
   "cell_type": "code",
   "execution_count": null,
   "metadata": {},
   "outputs": [],
   "source": [
    "fig_Current_In_Position_capacitor, (ax_Voltage_In_Position_capacitor, ax_Current_In_Position_capacitor) = plt.subplots(2,1)\n",
    "\n",
    "time = Simulation_Stop_Time/2\n",
    "Capacitor_Voltage_in_Position,Capacitor_Current_in_Position, Capacitor_Positions = inspect_spatial_waveform_at_time(Storage_Inductor_Completed,time)\n",
    "\n",
    "ax_Voltage_In_Position_capacitor.set_title(\"Voltage\")\n",
    "ax_Voltage_In_Position_capacitor.set_xlabel('Position (m)')\n",
    "ax_Voltage_In_Position_capacitor.set_ylabel('Voltage (V)')\n",
    "ax_Voltage_In_Position_capacitor.step(Capacitor_Positions,Capacitor_Voltage_in_Position,where='post')\n",
    "\n",
    "ax_Current_In_Position_capacitor.set_title(\"Current\")\n",
    "ax_Current_In_Position_capacitor.set_xlabel('Position (m)')\n",
    "ax_Current_In_Position_capacitor.set_ylabel('Current (A)')\n",
    "ax_Current_In_Position_capacitor.step(Capacitor_Positions,Capacitor_Current_in_Position,where='post')\n",
    "\n",
    "title = \"Spatial Waveform at : \" + str(time) + \"s\"\n",
    "\n",
    "fig_Current_In_Position_capacitor.suptitle(title)\n",
    "fig_Current_In_Position_capacitor.tight_layout()"
   ]
  },
  {
   "cell_type": "markdown",
   "metadata": {},
   "source": [
    "## Video Saving"
   ]
  },
  {
   "cell_type": "markdown",
   "metadata": {},
   "source": [
    "first save the lists"
   ]
  },
  {
   "cell_type": "code",
   "execution_count": null,
   "metadata": {},
   "outputs": [],
   "source": [
    "import pickle\n",
    "\n",
    "duration = 10\n",
    "\n",
    "fig, ax = plt.subplots()\n",
    "\n",
    "def animate_pos(t):\n",
    "    Voltage_Array_Capacitor = []\n",
    "    Current_Array_Capacitor = []\n",
    "    Time_Array_Capacitor = []\n",
    "    time = 0\n",
    "\n",
    "    with open(filename, 'wb') as f: \n",
    "        pickle.dump(Capacitor_Zip, f) "
   ]
  },
  {
   "cell_type": "markdown",
   "metadata": {},
   "source": [
    "Then load them like so:"
   ]
  },
  {
   "cell_type": "code",
   "execution_count": null,
   "metadata": {},
   "outputs": [],
   "source": [
    "if(Save_Output):\n",
    "    with open('LC_Output\\Inductor_I_35.0_C_25.0', 'rb') as f: \n",
    "        loaded_Inductor = pickle.load(f) \n",
    "\n",
    "    for wave in Storage_Capacitor_Completed:\n",
    "\n",
    "    Voltage_loaded = list(Voltage_loaded)\n",
    "    Current_Loaded = list(Current_Loaded)\n",
    "    Time_Loaded = list(Time_Loaded)"
   ]
  },
  {
   "cell_type": "code",
   "execution_count": null,
   "metadata": {},
   "outputs": [],
   "source": [
    "lcm(Decimal('23'),Decimal('7'))"
   ]
  },
  {
   "cell_type": "markdown",
   "metadata": {},
   "source": [
    "import pickle\n",
    "\n",
    "        time = wave.Time_at_position((t_decimal/duration_decimal)*Capacitor_Length)\n",
    "\n",
    "        try:\n",
    "            index = Time_Array_Capacitor.index(time)\n",
    "        except:\n",
    "            index = False\n",
    "\n",
    "        if(index == False):\n",
    "            Time_Array_Capacitor.append(time)\n",
    "            Voltage_Array_Capacitor.append(wave.magnitude_voltage)\n",
    "            Current_Array_Capacitor.append(wave.magnitude_current)\n",
    "        else:\n",
    "            Voltage_Array_Capacitor[index] = Voltage_Array_Capacitor[index] + wave.magnitude_voltage\n",
    "            Current_Array_Capacitor[index] = Current_Array_Capacitor[index] + wave.magnitude_current\n",
    "\n",
    "    #Time_Voltage_Array_Capacitor = sorted(zip(Time_Array_Capacitor,Voltage_Array_Capacitor))\n",
    "    Time_Current_Array_Capacitor = sorted(zip(Time_Array_Capacitor,Current_Array_Capacitor))\n",
    "\n",
    "    #x,y = zip(*Time_Voltage_Array_Capacitor)\n",
    "    x,y = zip(*Time_Current_Array_Capacitor)\n",
    "\n",
    "    x= list(x)\n",
    "    y= list(y)\n",
    "\n",
    "    for i in range(1,len(y)-1):\n",
    "        y[i] = y[i-1]+y[i]\n",
    "\n",
    "    ax.clear()\n",
    "    \n",
    "    ax.step(x,y,where='post')\n",
    "    ax.set_xlim(0,Simulation_Stop_Time)\n",
    "    #ax.set_ylim(-0.25,1.3)\n",
    "\n",
    "    return mplfig_to_npimage(fig)\n",
    "\n",
    "# creating animation\n",
    "animation = VideoClip(animate_pos, duration = duration)\n",
    " \n",
    "# saving animation\n",
    "animation.write_videofile(\"my_animation.mp4\", fps=30)\n"
   ]
  },
  {
   "cell_type": "code",
   "execution_count": null,
   "metadata": {},
   "outputs": [],
   "source": [
    "# importing movie py libraries\n",
    "from moviepy.editor import VideoClip\n",
    "from moviepy.video.io.bindings import mplfig_to_npimage\n",
    "\n",
    "duration = .5\n",
    "\n",
    "fig, (ax,ax2) = plt.subplots(2,1)\n",
    "fig.suptitle(\"Spatial Wavefroms of Inductor\")\n",
    "\n",
    "def animate_time(t):\n",
    "\n",
    "    Capacitor_Voltage_in_Position , Capacitor_Current_in_Position , Capacitor_Positions = inspect_spatial_waveform_at_time(Storage_Inductor_Completed,Simulation_Stop_Time*Decimal(0.001*t/duration))\n",
    "\n",
    "lim_i1 = -0.2\n",
    "lim_i2 = 0.2"
   ]
  },
  {
   "cell_type": "code",
   "execution_count": null,
   "metadata": {},
   "outputs": [],
   "source": [
    "fig, ax = plt.subplots(2,2)\n",
    "\n",
    "def animate_quad(t):\n",
    "    \n",
    "    ax.step(Capacitor_Positions , Capacitor_Voltage_in_Position,where='post')\n",
    "    ax.set_xlim(0,1)\n",
    "    #ax.set_ylim(-0.8,3.6)\n",
    "\n",
    "    ax.set_xlabel('position (m)')\n",
    "    ax.set_ylabel('Voltage (V)')\n",
    "    ax.set_title(\"Voltage in Inductor\")\n",
    "\n",
    "\n",
    "    ax2.step(Capacitor_Positions , Capacitor_Current_in_Position,where='post')\n",
    "    ax2.set_xlim(0,1)\n",
    "    #ax2.set_ylim(5.0204 ,5.0295)\n",
    "\n",
    "    ax2.set_xlabel('position (m)')\n",
    "    ax2.set_ylabel('Current (A)')\n",
    "    ax2.set_title(\"Current in Inductor\")\n",
    "\n",
    "    fig.tight_layout()\n",
    "\n",
    "    return mplfig_to_npimage(fig)\n",
    "\n",
    "# creating animation\n",
    "animation = VideoClip(animate_time, duration = duration)\n",
    " \n",
    "# saving animation\n",
    "animation.write_videofile(\"my_animation.mp4\", fps=30)"
   ]
  },
  {
   "cell_type": "code",
   "execution_count": null,
   "metadata": {},
   "outputs": [],
   "source": [
    "fig_2, (ax_1,ax_2) = plt.subplots(1,2)\n",
    "\n",
    "def animate_power(t):\n",
    "    \n",
    "    n = Decimal(str(t)) * Decimal(str(frames_per_second))\n",
    "    current_time = Decimal(str(video_start_time)) + n*delta_video_time\n",
    "\n",
    "    fig_2.suptitle(\"Spatial Wavefroms at \"+ str(current_time.quantize(Decimal('.00000001'), rounding=ROUND_HALF_DOWN)))\n",
    "    \n",
    "    Capacitor_Voltage_in_Position, Capacitor_Current_in_Position, Capacitor_Positions = inspect_spatial_waveform_at_time(Storage_Capacitor_Completed,current_time)\n",
    "    Inductor_Voltage_in_Position, Inductor_Current_in_Position, Inductor_Positions = inspect_spatial_waveform_at_time(Storage_Inductor_Completed,current_time)\n",
    "\n",
    "    Power_Capacitor_in_position = [a*b for a,b in zip(Capacitor_Voltage_in_Position,Capacitor_Current_in_Position)]\n",
    "    Power_Inductor_in_position = [a*b for a,b in zip(Inductor_Voltage_in_Position,Inductor_Current_in_Position)]\n",
    "\n",
    "    ax_1.clear()\n",
    "    ax_2.clear()\n",
    "    \n",
    "    ax_1.set_title(\"Power Capacitor\")\n",
    "    ax_1.step(Capacitor_Positions,Power_Capacitor_in_position,where='post')\n",
    "    ax_1.set_xlim(0,1)\n",
    "    #ax_1.set_ylim(0, 0.0025) #ax[0,0].set_ylim(lim_v1, lim_v2)\n",
    "    ax_1.invert_xaxis()\n",
    "\n",
    "    ax_2.set_title(\"Power Inductor\")\n",
    "    ax_2.step(Inductor_Positions,Power_Inductor_in_position,where='post')\n",
    "    ax_2.set_xlim(0,1)\n",
    "    #ax_2.set_ylim(0, 0.05) #ax[0,1].set_ylim(lim_v1, lim_v2)\n",
    "\n",
    "    fig_2.tight_layout()\n",
    "\n",
    "    return mplfig_to_npimage(fig_2)\n",
    "\n",
    "if(Save_Video):\n",
    "    # creating animation\n",
    "    animation = VideoClip(animate_power, duration = float(duration))\n",
    "    \n",
    "    # saving animation\n",
    "    animation.write_videofile(\"my_power_animation.mp4\", fps=float(frames_per_second))"
   ]
  },
  {
   "cell_type": "code",
   "execution_count": null,
   "metadata": {},
   "outputs": [],
   "source": [
    "About_Network()"
   ]
  }
 ],
 "metadata": {
  "kernelspec": {
   "display_name": "Python 3.9.0 64-bit",
   "language": "python",
   "name": "python3"
  },
  "language_info": {
   "codemirror_mode": {
    "name": "ipython",
    "version": 3
   },
   "file_extension": ".py",
   "mimetype": "text/x-python",
   "name": "python",
   "nbconvert_exporter": "python",
   "pygments_lexer": "ipython3",
   "version": "3.9.0"
  },
  "orig_nbformat": 4,
  "vscode": {
   "interpreter": {
    "hash": "81794d4967e6c3204c66dcd87b604927b115b27c00565d3d43f05ba2f3a2cb0d"
   }
  }
 },
 "nbformat": 4,
 "nbformat_minor": 2
}
